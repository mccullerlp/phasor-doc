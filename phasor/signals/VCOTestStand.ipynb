{
 "cells": [
  {
   "cell_type": "code",
   "execution_count": 10,
   "metadata": {
    "collapsed": false,
    "deletable": true,
    "editable": true,
    "scrolled": false
   },
   "outputs": [],
   "source": [
    "import sympy\n",
    "from phasor.utilities.ipynb.displays import *\n",
    "from phasor.utilities.ipynb.ipy_sympy import *\n",
    "import scipy.linalg\n",
    "\n",
    "\n",
    "import numpy.testing as np_test\n",
    "import declarative as decl\n",
    "from declarative.bunch import (\n",
    "    DeepBunch,\n",
    ")\n",
    "\n",
    "#import numpy as np\n",
    "\n",
    "from phasor import system\n",
    "from phasor import readouts\n",
    "from phasor.utilities.print import pprint"
   ]
  },
  {
   "cell_type": "code",
   "execution_count": 11,
   "metadata": {
    "collapsed": false,
    "deletable": true,
    "editable": true,
    "scrolled": false
   },
   "outputs": [
    {
     "name": "stdout",
     "output_type": "stream",
     "text": [
      "(0.5+0j)\n",
      "(0.5+0j)\n",
      "0j\n",
      "0j\n"
     ]
    }
   ],
   "source": [
    "db = DeepBunch()\n",
    "db.environment.F_AC.order = 1\n",
    "from phasor.models.SQZ.AOMTestStand import VCOTest\n",
    "sys = system.BGSystem(\n",
    "    ctree = db,\n",
    "    F_AC = 0*1e3,\n",
    ")\n",
    "sys.own.test = VCOTest()\n",
    "db = sys.ctree_shadow()\n",
    "#print(sys.test.ktp.ctree_as_yaml())\n",
    "print(sys.test.AC_I.AC_sensitivity)\n",
    "print(sys.test.AC_Q.AC_sensitivity)\n",
    "print(sys.test.AC_IQ.AC_sensitivity)\n",
    "print(sys.test.AC_QI.AC_sensitivity)"
   ]
  },
  {
   "cell_type": "code",
   "execution_count": null,
   "metadata": {
    "collapsed": true,
    "deletable": true,
    "editable": true,
    "scrolled": false
   },
   "outputs": [],
   "source": []
  }
 ],
 "metadata": {
  "kernelspec": {
   "display_name": "Python 3",
   "language": "python",
   "name": "python3"
  },
  "language_info": {
   "codemirror_mode": {
    "name": "ipython",
    "version": 3
   },
   "file_extension": ".py",
   "mimetype": "text/x-python",
   "name": "python",
   "nbconvert_exporter": "python",
   "pygments_lexer": "ipython3",
   "version": "3.5.2"
  },
  "latex_envs": {
   "bibliofile": "biblio.bib",
   "cite_by": "apalike",
   "current_citInitial": 1,
   "eqLabelWithNumbers": true,
   "eqNumInitial": 0
  }
 },
 "nbformat": 4,
 "nbformat_minor": 1
}
