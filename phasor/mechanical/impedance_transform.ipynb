{
 "cells": [
  {
   "cell_type": "code",
   "execution_count": 1,
   "metadata": {
    "collapsed": true
   },
   "outputs": [],
   "source": [
    "import sys\n",
    "from __future__ import division"
   ]
  },
  {
   "cell_type": "code",
   "execution_count": 2,
   "metadata": {},
   "outputs": [
    {
     "name": "stdout",
     "output_type": "stream",
     "text": [
      "Populating the interactive namespace from numpy and matplotlib\n"
     ]
    }
   ],
   "source": [
    "import numpy as np\n",
    "from phasor.utilities.ipynb.displays import *\n",
    "#from YALL.utilities.tabulate import tabulate\n",
    "\n",
    "import declarative\n",
    "\n",
    "from declarative.bunch import (\n",
    "    DeepBunch\n",
    ")\n",
    "\n",
    "import phasor.math.dispatched as dmath \n",
    "#import phasor.math.dispatch_sympy"
   ]
  },
  {
   "cell_type": "code",
   "execution_count": 1,
   "metadata": {},
   "outputs": [
    {
     "name": "stdout",
     "output_type": "stream",
     "text": [
      "b'2017-07-11 18:33:39 -0400 (b540cdff87a5554f37d94ca93187d292ee54b478)'\n",
      "Sympy version:  1.0\n"
     ]
    }
   ],
   "source": [
    "import phasor.utilities.version as version\n",
    "print(version.foundations_version())\n",
    "\n",
    "from phasor.utilities.np import logspaced\n",
    "from phasor.utilities.ipynb.ipy_sympy import *\n",
    "\n",
    "from phasor import optics\n",
    "from phasor import base \n",
    "from phasor import signals \n",
    "from phasor import system\n",
    "from phasor import readouts \n",
    "from phasor import mechanical"
   ]
  },
  {
   "cell_type": "code",
   "execution_count": 139,
   "metadata": {},
   "outputs": [
    {
     "data": {
      "image/png": "[encoded data removed]",
      "text/latex": [
       "$$\\left[\\begin{matrix}\\frac{Y_{1} - Y_{2}}{Y_{1} + Y_{2}} & \\frac{2 Y_{2}}{Y_{1} + Y_{2}}\\\\\\frac{2 Y_{1}}{Y_{1} + Y_{2}} & \\frac{- Y_{1} + Y_{2}}{Y_{1} + Y_{2}}\\end{matrix}\\right]$$"
      ],
      "text/plain": [
       "⎡Y₁ - Y₂    2⋅Y₂  ⎤\n",
       "⎢───────  ─────── ⎥\n",
       "⎢Y₁ + Y₂  Y₁ + Y₂ ⎥\n",
       "⎢                 ⎥\n",
       "⎢  2⋅Y₁   -Y₁ + Y₂⎥\n",
       "⎢───────  ────────⎥\n",
       "⎣Y₁ + Y₂  Y₁ + Y₂ ⎦"
      ]
     },
     "execution_count": 139,
     "metadata": {},
     "output_type": "execute_result"
    }
   ],
   "source": [
    "Z1 = sympy.var('Z_1')\n",
    "Z2 = sympy.var('Z_2')\n",
    "Y1 = sympy.var('Y_1')\n",
    "Y2 = sympy.var('Y_2')\n",
    "x = sympy.var('x')\n",
    "y = sympy.var('y')\n",
    "x = 2*Z2 / (Z1 + Z2)\n",
    "y = 2*Z1 / (Z1 + Z2)\n",
    "gamma_11 = (Z2 - Z1) / (Z_2 + Z_1)\n",
    "gamma_22 = (Z1 - Z2) / (Z_2 + Z_1)\n",
    "\n",
    "S = sympy.Matrix([[gamma_11, y],[x, gamma_22]])\n",
    "S = S.subs([(Z1, 1/Y1),(Z2, 1/Y2)])\n",
    "S.simplify()\n",
    "S"
   ]
  },
  {
   "cell_type": "code",
   "execution_count": 126,
   "metadata": {},
   "outputs": [
    {
     "data": {
      "image/png": "[encoded data removed]",
      "text/latex": [
       "$$\\left [ \\right ]$$"
      ],
      "text/plain": [
       "[]"
      ]
     },
     "execution_count": 126,
     "metadata": {},
     "output_type": "execute_result"
    }
   ],
   "source": [
    "Uid = S * S.conjugate().transpose()\n",
    "#Uid.simplify()\n",
    "sympy.solve(Uid[0,0] - 1, x)"
   ]
  },
  {
   "cell_type": "code",
   "execution_count": 127,
   "metadata": {},
   "outputs": [],
   "source": [
    "sol = sympy.solve(\n",
    "    [\n",
    "        Uid[0,0] - 1,\n",
    "        Uid[0,1] - 0,\n",
    "        Uid[1,0] - 0,\n",
    "        Uid[1,1] - 1,\n",
    "    ], [x, y],\n",
    "    dict=True,\n",
    ")\n"
   ]
  },
  {
   "cell_type": "code",
   "execution_count": 128,
   "metadata": {},
   "outputs": [
    {
     "ename": "IndexError",
     "evalue": "list index out of range",
     "output_type": "error",
     "traceback": [
      "\u001b[0;31m---------------------------------------------------------------------------\u001b[0m",
      "\u001b[0;31mIndexError\u001b[0m                                Traceback (most recent call last)",
      "\u001b[0;32m<ipython-input-128-87a7141ce264>\u001b[0m in \u001b[0;36m<module>\u001b[0;34m()\u001b[0m\n\u001b[0;32m----> 1\u001b[0;31m \u001b[0msol\u001b[0m\u001b[0;34m[\u001b[0m\u001b[0;36m0\u001b[0m\u001b[0;34m]\u001b[0m\u001b[0;34m\u001b[0m\u001b[0m\n\u001b[0m",
      "\u001b[0;31mIndexError\u001b[0m: list index out of range"
     ]
    }
   ],
   "source": [
    "sol[0]"
   ]
  },
  {
   "cell_type": "code",
   "execution_count": 68,
   "metadata": {},
   "outputs": [
    {
     "data": {
      "image/png": "[encoded data removed]",
      "text/latex": [
       "$$\\left \\{ x : - \\sqrt{2} \\sqrt{\\frac{Z_{1} \\overline{Z_{2}} + Z_{2} \\overline{Z_{1}}}{Z_{1} \\overline{Z_{1}} + Z_{1} \\overline{Z_{2}} + Z_{2} \\overline{Z_{1}} + Z_{2} \\overline{Z_{2}}}}, \\quad y : \\sqrt{2} \\sqrt{\\frac{Z_{1} \\overline{Z_{2}} + Z_{2} \\overline{Z_{1}}}{Z_{1} \\overline{Z_{1}} + Z_{1} \\overline{Z_{2}} + Z_{2} \\overline{Z_{1}} + Z_{2} \\overline{Z_{2}}}}\\right \\}$$"
      ],
      "text/plain": [
       "⎧             _______________________________              ___________________\n",
       "⎪            ╱            __      __                      ╱            __     \n",
       "⎪           ╱          Z₁⋅Z₂ + Z₂⋅Z₁                     ╱          Z₁⋅Z₂ + Z₂\n",
       "⎨x: -√2⋅   ╱   ───────────────────────────── , y: √2⋅   ╱   ──────────────────\n",
       "⎪         ╱       __      __      __      __           ╱       __      __     \n",
       "⎪       ╲╱     Z₁⋅Z₁ + Z₁⋅Z₂ + Z₂⋅Z₁ + Z₂⋅Z₂         ╲╱     Z₁⋅Z₁ + Z₁⋅Z₂ + Z₂\n",
       "⎩                                                                             \n",
       "\n",
       "____________⎫\n",
       " __         ⎪\n",
       "⋅Z₁         ⎪\n",
       "─────────── ⎬\n",
       " __      __ ⎪\n",
       "⋅Z₁ + Z₂⋅Z₂ ⎪\n",
       "            ⎭"
      ]
     },
     "execution_count": 68,
     "metadata": {},
     "output_type": "execute_result"
    }
   ],
   "source": [
    "sol[1]"
   ]
  },
  {
   "cell_type": "code",
   "execution_count": 95,
   "metadata": {},
   "outputs": [
    {
     "ename": "KeyError",
     "evalue": "2*Z_1/(Z_1 + Z_2)",
     "output_type": "error",
     "traceback": [
      "\u001b[0;31m---------------------------------------------------------------------------\u001b[0m",
      "\u001b[0;31mKeyError\u001b[0m                                  Traceback (most recent call last)",
      "\u001b[0;32m<ipython-input-95-049225c13132>\u001b[0m in \u001b[0;36m<module>\u001b[0;34m()\u001b[0m\n\u001b[1;32m      1\u001b[0m \u001b[0mwhich\u001b[0m \u001b[0;34m=\u001b[0m \u001b[0msol\u001b[0m\u001b[0;34m[\u001b[0m\u001b[0;36m0\u001b[0m\u001b[0;34m]\u001b[0m\u001b[0;34m\u001b[0m\u001b[0m\n\u001b[0;32m----> 2\u001b[0;31m \u001b[0mdsub\u001b[0m \u001b[0;34m=\u001b[0m \u001b[0;34m(\u001b[0m\u001b[0mS\u001b[0m\u001b[0;34m)\u001b[0m\u001b[0;34m.\u001b[0m\u001b[0mdet\u001b[0m\u001b[0;34m(\u001b[0m\u001b[0;34m)\u001b[0m\u001b[0;34m.\u001b[0m\u001b[0msubs\u001b[0m\u001b[0;34m(\u001b[0m\u001b[0;34m[\u001b[0m\u001b[0;34m(\u001b[0m\u001b[0mx\u001b[0m\u001b[0;34m,\u001b[0m \u001b[0mwhich\u001b[0m\u001b[0;34m[\u001b[0m\u001b[0mx\u001b[0m\u001b[0;34m]\u001b[0m\u001b[0;34m)\u001b[0m\u001b[0;34m,\u001b[0m \u001b[0;34m(\u001b[0m\u001b[0my\u001b[0m\u001b[0;34m,\u001b[0m \u001b[0mwhich\u001b[0m\u001b[0;34m[\u001b[0m\u001b[0my\u001b[0m\u001b[0;34m]\u001b[0m\u001b[0;34m)\u001b[0m\u001b[0;34m]\u001b[0m\u001b[0;34m)\u001b[0m\u001b[0;34m\u001b[0m\u001b[0m\n\u001b[0m\u001b[1;32m      3\u001b[0m \u001b[0mdsub\u001b[0m\u001b[0;34m\u001b[0m\u001b[0m\n",
      "\u001b[0;31mKeyError\u001b[0m: 2*Z_1/(Z_1 + Z_2)"
     ]
    }
   ],
   "source": [
    "which = sol[0]\n",
    "dsub = (S).det().subs([(x, which[x]), (y, which[y])])\n",
    "dsub"
   ]
  },
  {
   "cell_type": "code",
   "execution_count": 91,
   "metadata": {},
   "outputs": [
    {
     "data": {
      "image/png": "[encoded data removed]",
      "text/latex": [
       "$$-1.0$$"
      ],
      "text/plain": [
       "-1.00000000000000"
      ]
     },
     "execution_count": 91,
     "metadata": {},
     "output_type": "execute_result"
    }
   ],
   "source": [
    "dsub.simplify().subs([(Z1, 1),(Z2, 5.9)])"
   ]
  },
  {
   "cell_type": "code",
   "execution_count": 65,
   "metadata": {},
   "outputs": [],
   "source": [
    "sympy.solve?"
   ]
  },
  {
   "cell_type": "code",
   "execution_count": 129,
   "metadata": {},
   "outputs": [
    {
     "data": {
      "image/png": "[encoded data removed]",
      "text/latex": [
       "$$\\left[\\begin{matrix}\\frac{4 Z_{1} \\overline{Z_{1}}}{\\left(Z_{1} + Z_{2}\\right) \\left(\\overline{Z_{1}} + \\overline{Z_{2}}\\right)} + \\frac{\\left(- Z_{1} + Z_{2}\\right) \\left(- \\overline{Z_{1}} + \\overline{Z_{2}}\\right)}{\\left(Z_{1} + Z_{2}\\right) \\left(\\overline{Z_{1}} + \\overline{Z_{2}}\\right)} & \\frac{2 Z_{1} \\left(\\overline{Z_{1}} - \\overline{Z_{2}}\\right)}{\\left(Z_{1} + Z_{2}\\right) \\left(\\overline{Z_{1}} + \\overline{Z_{2}}\\right)} + \\frac{2 \\left(- Z_{1} + Z_{2}\\right) \\overline{Z_{2}}}{\\left(Z_{1} + Z_{2}\\right) \\left(\\overline{Z_{1}} + \\overline{Z_{2}}\\right)}\\\\\\frac{2 Z_{2} \\left(- \\overline{Z_{1}} + \\overline{Z_{2}}\\right)}{\\left(Z_{1} + Z_{2}\\right) \\left(\\overline{Z_{1}} + \\overline{Z_{2}}\\right)} + \\frac{2 \\left(Z_{1} - Z_{2}\\right) \\overline{Z_{1}}}{\\left(Z_{1} + Z_{2}\\right) \\left(\\overline{Z_{1}} + \\overline{Z_{2}}\\right)} & \\frac{4 Z_{2} \\overline{Z_{2}}}{\\left(Z_{1} + Z_{2}\\right) \\left(\\overline{Z_{1}} + \\overline{Z_{2}}\\right)} + \\frac{\\left(Z_{1} - Z_{2}\\right) \\left(\\overline{Z_{1}} - \\overline{Z_{2}}\\right)}{\\left(Z_{1} + Z_{2}\\right) \\left(\\overline{Z_{1}} + \\overline{Z_{2}}\\right)}\\end{matrix}\\right]$$"
      ],
      "text/plain": [
       "⎡           __                    ⎛  __   __⎞          ⎛__   __⎞              \n",
       "⎢      4⋅Z₁⋅Z₁         (-Z₁ + Z₂)⋅⎝- Z₁ + Z₂⎠     2⋅Z₁⋅⎝Z₁ - Z₂⎠       2⋅(-Z₁ \n",
       "⎢─────────────────── + ──────────────────────  ─────────────────── + ─────────\n",
       "⎢          ⎛__   __⎞              ⎛__   __⎞              ⎛__   __⎞            \n",
       "⎢(Z₁ + Z₂)⋅⎝Z₁ + Z₂⎠    (Z₁ + Z₂)⋅⎝Z₁ + Z₂⎠    (Z₁ + Z₂)⋅⎝Z₁ + Z₂⎠   (Z₁ + Z₂)\n",
       "⎢                                                                             \n",
       "⎢        ⎛  __   __⎞                   __                 __                  \n",
       "⎢   2⋅Z₂⋅⎝- Z₁ + Z₂⎠       2⋅(Z₁ - Z₂)⋅Z₁            4⋅Z₂⋅Z₂         (Z₁ - Z₂)\n",
       "⎢ ─────────────────── + ───────────────────    ─────────────────── + ─────────\n",
       "⎢           ⎛__   __⎞             ⎛__   __⎞              ⎛__   __⎞            \n",
       "⎣ (Z₁ + Z₂)⋅⎝Z₁ + Z₂⎠   (Z₁ + Z₂)⋅⎝Z₁ + Z₂⎠    (Z₁ + Z₂)⋅⎝Z₁ + Z₂⎠   (Z₁ + Z₂)\n",
       "\n",
       "      __  ⎤\n",
       "+ Z₂)⋅Z₂  ⎥\n",
       "──────────⎥\n",
       " ⎛__   __⎞⎥\n",
       "⋅⎝Z₁ + Z₂⎠⎥\n",
       "          ⎥\n",
       " ⎛__   __⎞⎥\n",
       "⋅⎝Z₁ - Z₂⎠⎥\n",
       "──────────⎥\n",
       " ⎛__   __⎞⎥\n",
       "⋅⎝Z₁ + Z₂⎠⎦"
      ]
     },
     "execution_count": 129,
     "metadata": {},
     "output_type": "execute_result"
    }
   ],
   "source": [
    "Uid"
   ]
  },
  {
   "cell_type": "code",
   "execution_count": 135,
   "metadata": {},
   "outputs": [
    {
     "data": {
      "image/png": "[encoded data removed]",
      "text/latex": [
       "$$-1$$"
      ],
      "text/plain": [
       "-1"
      ]
     },
     "execution_count": 135,
     "metadata": {},
     "output_type": "execute_result"
    }
   ],
   "source": [
    "S\n",
    "S.det().simplify().subs([(Z1, 1),(Z2, 1)])"
   ]
  },
  {
   "cell_type": "code",
   "execution_count": 136,
   "metadata": {},
   "outputs": [
    {
     "data": {
      "image/png": "[encoded data removed]",
      "text/latex": [
       "$$\\left[\\begin{matrix}\\frac{- Z_{1} + Z_{2}}{Z_{1} + Z_{2}} & \\frac{2 Z_{1}}{Z_{1} + Z_{2}}\\\\\\frac{2 Z_{2}}{Z_{1} + Z_{2}} & \\frac{Z_{1} - Z_{2}}{Z_{1} + Z_{2}}\\end{matrix}\\right]$$"
      ],
      "text/plain": [
       "⎡-Z₁ + Z₂    2⋅Z₁ ⎤\n",
       "⎢────────  ───────⎥\n",
       "⎢Z₁ + Z₂   Z₁ + Z₂⎥\n",
       "⎢                 ⎥\n",
       "⎢  2⋅Z₂    Z₁ - Z₂⎥\n",
       "⎢───────   ───────⎥\n",
       "⎣Z₁ + Z₂   Z₁ + Z₂⎦"
      ]
     },
     "execution_count": 136,
     "metadata": {},
     "output_type": "execute_result"
    }
   ],
   "source": [
    "S"
   ]
  },
  {
   "cell_type": "code",
   "execution_count": 131,
   "metadata": {},
   "outputs": [
    {
     "data": {
      "image/png": "[encoded data removed]",
      "text/latex": [
       "$$\\left[\\begin{matrix}\\frac{17}{9} & \\frac{2}{9}\\\\\\frac{2}{9} & \\frac{5}{9}\\end{matrix}\\right]$$"
      ],
      "text/plain": [
       "⎡17/9  2/9⎤\n",
       "⎢         ⎥\n",
       "⎣2/9   5/9⎦"
      ]
     },
     "execution_count": 131,
     "metadata": {},
     "output_type": "execute_result"
    }
   ],
   "source": [
    "Uid.subs([(Z1, 2),(Z2, +1)])\n"
   ]
  },
  {
   "cell_type": "code",
   "execution_count": 132,
   "metadata": {},
   "outputs": [
    {
     "data": {
      "image/png": "[encoded data removed]",
      "text/latex": [
       "$$\\left[\\begin{matrix}\\frac{29}{9} & \\frac{8}{9}\\\\\\frac{8}{9} & \\frac{5}{9}\\end{matrix}\\right]$$"
      ],
      "text/plain": [
       "⎡29/9  8/9⎤\n",
       "⎢         ⎥\n",
       "⎣8/9   5/9⎦"
      ]
     },
     "execution_count": 132,
     "metadata": {},
     "output_type": "execute_result"
    }
   ],
   "source": [
    "(S * S.transpose()).subs([(Z1, 5),(Z2, +1)])"
   ]
  },
  {
   "cell_type": "code",
   "execution_count": 133,
   "metadata": {},
   "outputs": [
    {
     "data": {
      "image/png": "[encoded data removed]",
      "text/latex": [
       "$$\\left[\\begin{matrix}\\frac{- Z_{1} + Z_{2}}{Z_{1} + Z_{2}} & \\frac{2 Z_{1}}{Z_{1} + Z_{2}}\\\\\\frac{2 Z_{2}}{Z_{1} + Z_{2}} & \\frac{Z_{1} - Z_{2}}{Z_{1} + Z_{2}}\\end{matrix}\\right]$$"
      ],
      "text/plain": [
       "⎡-Z₁ + Z₂    2⋅Z₁ ⎤\n",
       "⎢────────  ───────⎥\n",
       "⎢Z₁ + Z₂   Z₁ + Z₂⎥\n",
       "⎢                 ⎥\n",
       "⎢  2⋅Z₂    Z₁ - Z₂⎥\n",
       "⎢───────   ───────⎥\n",
       "⎣Z₁ + Z₂   Z₁ + Z₂⎦"
      ]
     },
     "execution_count": 133,
     "metadata": {},
     "output_type": "execute_result"
    }
   ],
   "source": [
    "S"
   ]
  },
  {
   "cell_type": "code",
   "execution_count": 141,
   "metadata": {},
   "outputs": [
    {
     "data": {
      "image/png": "[encoded data removed]",
      "text/latex": [
       "$$-1$$"
      ],
      "text/plain": [
       "-1"
      ]
     },
     "execution_count": 141,
     "metadata": {},
     "output_type": "execute_result"
    }
   ],
   "source": [
    "S.det().simplify()"
   ]
  },
  {
   "cell_type": "code",
   "execution_count": null,
   "metadata": {
    "collapsed": true
   },
   "outputs": [],
   "source": []
  }
 ],
 "metadata": {
  "kernelspec": {
   "display_name": "Python 3",
   "language": "python",
   "name": "python3"
  },
  "language_info": {
   "codemirror_mode": {
    "name": "ipython",
    "version": 3
   },
   "file_extension": ".py",
   "mimetype": "text/x-python",
   "name": "python",
   "nbconvert_exporter": "python",
   "pygments_lexer": "ipython3",
   "version": "3.5.3"
  },
  "latex_envs": {
   "bibliofile": "biblio.bib",
   "cite_by": "apalike",
   "current_citInitial": 1,
   "eqLabelWithNumbers": true,
   "eqNumInitial": 0
  }
 },
 "nbformat": 4,
 "nbformat_minor": 1
}
