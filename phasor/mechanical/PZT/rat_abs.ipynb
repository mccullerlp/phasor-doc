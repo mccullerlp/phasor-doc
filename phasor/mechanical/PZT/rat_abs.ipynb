{
 "cells": [
  {
   "cell_type": "code",
   "execution_count": 1,
   "metadata": {
    "collapsed": true
   },
   "outputs": [],
   "source": [
    "import sys\n",
    "from __future__ import division"
   ]
  },
  {
   "cell_type": "code",
   "execution_count": 2,
   "metadata": {},
   "outputs": [
    {
     "name": "stdout",
     "output_type": "stream",
     "text": [
      "Populating the interactive namespace from numpy and matplotlib\n"
     ]
    }
   ],
   "source": [
    "import numpy as np\n",
    "from phasor.utilities.ipynb.displays import *\n",
    "#from YALL.utilities.tabulate import tabulate\n",
    "\n",
    "import declarative\n",
    "\n",
    "from declarative.bunch import (\n",
    "    DeepBunch\n",
    ")\n",
    "\n",
    "import phasor.math.dispatched as dmath \n",
    "#import phasor.math.dispatch_sympy"
   ]
  },
  {
   "cell_type": "code",
   "execution_count": 3,
   "metadata": {},
   "outputs": [
    {
     "name": "stdout",
     "output_type": "stream",
     "text": [
      "b'2017-09-23 15:49:34 -0400 (6b6717735f9e375e97b4c89a06a6ed721dfbb566)'\n",
      "Sympy version:  1.0\n"
     ]
    }
   ],
   "source": [
    "import phasor.utilities.version as version\n",
    "print(version.foundations_version())\n",
    "\n",
    "from phasor.utilities.np import logspaced\n",
    "from phasor.utilities.ipynb.sympy import *\n",
    "\n",
    "from phasor import optics\n",
    "from phasor import base \n",
    "from phasor import signals \n",
    "from phasor import system\n",
    "from phasor import readouts \n",
    "from phasor import mechanical"
   ]
  },
  {
   "cell_type": "code",
   "execution_count": 52,
   "metadata": {},
   "outputs": [
    {
     "data": {
      "text/plain": [
       "poly1d([ 0. +7.06490237e+00j,  0. +0.00000000e+00j,  0. -8.25783584e+00j,\n",
       "        0. +0.00000000e+00j,  0. +1.19881853e+00j,  0. +0.00000000e+00j,\n",
       "        0. -2.78495843e-02j,  0. +0.00000000e+00j,  0. +8.03546674e-05j,\n",
       "        0. +0.00000000e+00j])"
      ]
     },
     "execution_count": 52,
     "metadata": {},
     "output_type": "execute_result"
    }
   ],
   "source": [
    "def P(n):\n",
    "    fn = float(n)\n",
    "    xi = np.exp(-fn**(-1/2.))\n",
    "    pp = 1\n",
    "    pn = 1\n",
    "    for k in range(n):\n",
    "        pp = pp * np.poly1d([1j,xi**k])\n",
    "        pn = pn * np.poly1d([-1j,xi**k])\n",
    "    return pp - pn, pp + pn\n",
    "\n",
    "pd,pc = P(10)\n",
    "pd"
   ]
  },
  {
   "cell_type": "code",
   "execution_count": 53,
   "metadata": {},
   "outputs": [
    {
     "data": {
      "text/plain": [
       "array([ 2.18236646+0.j, -2.18236646+0.j,  0.58560246+0.j, -0.58560246+0.j,\n",
       "        0.24098395+0.j, -0.24098395+0.j,  0.09916841+0.j, -0.09916841+0.j,\n",
       "        0.02661023+0.j, -0.02661023+0.j])"
      ]
     },
     "execution_count": 53,
     "metadata": {},
     "output_type": "execute_result"
    }
   ],
   "source": [
    "pc.roots"
   ]
  },
  {
   "cell_type": "code",
   "execution_count": 54,
   "metadata": {},
   "outputs": [
    {
     "data": {
      "text/plain": [
       "array([ 1.00184486+0.j, -1.00184486+0.j,  0.37043699+0.j, -0.37043699+0.j,\n",
       "        0.15676961+0.j, -0.15676961+0.j,  0.05796632+0.j, -0.05796632+0.j,\n",
       "        0.00000000+0.j])"
      ]
     },
     "execution_count": 54,
     "metadata": {},
     "output_type": "execute_result"
    }
   ],
   "source": [
    "pd.roots"
   ]
  },
  {
   "cell_type": "code",
   "execution_count": 55,
   "metadata": {},
   "outputs": [
    {
     "data": {
      "text/plain": [
       "poly1d([ -2.00000000e+00+0.j,   0.00000000e+00+0.j,   1.03485387e+01+0.j,\n",
       "         0.00000000e+00+0.j,  -3.96845855e+00+0.j,   0.00000000e+00+0.j,\n",
       "         2.30461341e-01+0.j,   0.00000000e+00+0.j,  -2.02678525e-03+0.j,\n",
       "         0.00000000e+00+0.j,   1.32102542e-06+0.j])"
      ]
     },
     "execution_count": 55,
     "metadata": {},
     "output_type": "execute_result"
    }
   ],
   "source": [
    "pc"
   ]
  },
  {
   "cell_type": "code",
   "execution_count": 56,
   "metadata": {},
   "outputs": [
    {
     "data": {
      "text/plain": [
       "poly1d([ -2.00000000e+00 +0.00000000e+00j,\n",
       "         0.00000000e+00 +7.06490237e+00j,\n",
       "         1.03485387e+01 +0.00000000e+00j,\n",
       "         0.00000000e+00 -8.25783584e+00j,\n",
       "        -3.96845855e+00 +0.00000000e+00j,\n",
       "         0.00000000e+00 +1.19881853e+00j,\n",
       "         2.30461341e-01 +0.00000000e+00j,\n",
       "         0.00000000e+00 -2.78495843e-02j,\n",
       "        -2.02678525e-03 +0.00000000e+00j,\n",
       "         0.00000000e+00 +8.03546674e-05j,   1.32102542e-06 +0.00000000e+00j])"
      ]
     },
     "execution_count": 56,
     "metadata": {},
     "output_type": "execute_result"
    }
   ],
   "source": []
  },
  {
   "cell_type": "code",
   "execution_count": null,
   "metadata": {
    "collapsed": true
   },
   "outputs": [],
   "source": []
  }
 ],
 "metadata": {
  "kernelspec": {
   "display_name": "Python 3",
   "language": "python",
   "name": "python3"
  },
  "language_info": {
   "codemirror_mode": {
    "name": "ipython",
    "version": 3
   },
   "file_extension": ".py",
   "mimetype": "text/x-python",
   "name": "python",
   "nbconvert_exporter": "python",
   "pygments_lexer": "ipython3",
   "version": "3.5.3"
  },
  "latex_envs": {
   "bibliofile": "biblio.bib",
   "cite_by": "apalike",
   "current_citInitial": 1,
   "eqLabelWithNumbers": true,
   "eqNumInitial": 0
  }
 },
 "nbformat": 4,
 "nbformat_minor": 1
}
