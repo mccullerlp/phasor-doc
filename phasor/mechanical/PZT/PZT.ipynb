{
 "cells": [
  {
   "cell_type": "code",
   "execution_count": 1,
   "metadata": {
    "collapsed": true
   },
   "outputs": [],
   "source": [
    "import sys\n",
    "from __future__ import division"
   ]
  },
  {
   "cell_type": "code",
   "execution_count": 2,
   "metadata": {},
   "outputs": [
    {
     "name": "stdout",
     "output_type": "stream",
     "text": [
      "Populating the interactive namespace from numpy and matplotlib\n"
     ]
    }
   ],
   "source": [
    "import numpy as np\n",
    "from phasor.utilities.ipynb.displays import *\n",
    "#from YALL.utilities.tabulate import tabulate\n",
    "\n",
    "import declarative\n",
    "\n",
    "from declarative.bunch import (\n",
    "    DeepBunch\n",
    ")\n",
    "\n",
    "import phasor.math.dispatched as dmath \n",
    "#import phasor.math.dispatch_sympy"
   ]
  },
  {
   "cell_type": "code",
   "execution_count": 3,
   "metadata": {},
   "outputs": [
    {
     "name": "stdout",
     "output_type": "stream",
     "text": [
      "b'2017-09-22 09:45:51 -0400 (a76310c5d4476904171a3f1b18117db454719432)'\n",
      "Sympy version:  1.0\n"
     ]
    }
   ],
   "source": [
    "import phasor.utilities.version as version\n",
    "print(version.foundations_version())\n",
    "\n",
    "from phasor.utilities.np import logspaced\n",
    "from phasor.utilities.ipynb.sympy import *\n",
    "\n",
    "from phasor import optics\n",
    "from phasor import base \n",
    "from phasor import signals \n",
    "from phasor import system\n",
    "from phasor import readouts \n",
    "from phasor import mechanical"
   ]
  },
  {
   "cell_type": "code",
   "execution_count": 15,
   "metadata": {},
   "outputs": [
    {
     "data": {
      "image/png": "[encoded data removed]",
      "text/latex": [
       "$$C V + F d - \\frac{I}{s}$$"
      ],
      "text/plain": [
       "            I\n",
       "C⋅V + F⋅d - ─\n",
       "            s"
      ]
     },
     "metadata": {},
     "output_type": "display_data"
    },
    {
     "data": {
      "image/png": "[encoded data removed]",
      "text/latex": [
       "$$F + V d k - k l_{\\delta}$$"
      ],
      "text/plain": [
       "F + V⋅d⋅k - k⋅l_δ"
      ]
     },
     "metadata": {},
     "output_type": "display_data"
    },
    {
     "data": {
      "image/png": "[encoded data removed]",
      "text/latex": [
       "$$\\left[\\begin{matrix}C V + F d - \\frac{I}{s}\\\\F + V d k - k l_{\\delta}\\end{matrix}\\right]$$"
      ],
      "text/plain": [
       "⎡              I  ⎤\n",
       "⎢  C⋅V + F⋅d - ─  ⎥\n",
       "⎢              s  ⎥\n",
       "⎢                 ⎥\n",
       "⎣F + V⋅d⋅k - k⋅l_δ⎦"
      ]
     },
     "execution_count": 15,
     "metadata": {},
     "output_type": "execute_result"
    }
   ],
   "source": [
    "d = sympy.var('d')\n",
    "N = sympy.var('N')\n",
    "l = sympy.var('l')\n",
    "A = sympy.var('A')\n",
    "s = sympy.var('s')\n",
    "k = sympy.var('k')\n",
    "F = sympy.var('F')\n",
    "epsilon = sympy.var('epsilon')\n",
    "epsilon_0 = sympy.var('epsilon_0')\n",
    "\n",
    "d_l = sympy.var('l_delta')\n",
    "V = sympy.var('V')\n",
    "I = sympy.var('I')\n",
    "C = sympy.var('C')\n",
    "\n",
    "Z_e = sympy.var('Z_e', real = True)\n",
    "Z_m = sympy.var('Z_m', real = True)\n",
    "k_e = sympy.sqrt(1/sympy.re(Z_e))\n",
    "k_m = sympy.sqrt(1/sympy.im(Z_m))\n",
    "k_e = sympy.var('k_e', real = True)\n",
    "k_m = sympy.var('k_m', real = True)\n",
    "k_e = sympy.sympify(1)\n",
    "k_m = sympy.sympify(1)\n",
    "\n",
    "expr1 = d * F  - I/s + C * V\n",
    "display(expr1)\n",
    "expr2 = -d_l * k + F + k * d * V\n",
    "display(expr2)\n",
    "\n",
    "rel = sympy.Matrix([[C, -1/s, d, 0],[d*k, 0, 1, -k]])\n",
    "var = sympy.Matrix([V, I, F, d_l])\n",
    "rel * var"
   ]
  },
  {
   "cell_type": "code",
   "execution_count": 16,
   "metadata": {},
   "outputs": [
    {
     "data": {
      "image/png": "[encoded data removed]",
      "text/latex": [
       "$$\\left[\\begin{matrix}\\frac{I Z_{e}}{2} + \\frac{V}{2}\\\\- \\frac{I Z_{e}}{2} + \\frac{V}{2}\\\\\\frac{F}{2} + \\frac{Z_{m} l_{\\delta}}{2}\\\\\\frac{F}{2} - \\frac{Z_{m} l_{\\delta}}{2}\\end{matrix}\\right]$$"
      ],
      "text/plain": [
       "⎡ I⋅Zₑ   V ⎤\n",
       "⎢ ──── + ─ ⎥\n",
       "⎢  2     2 ⎥\n",
       "⎢          ⎥\n",
       "⎢  I⋅Zₑ   V⎥\n",
       "⎢- ──── + ─⎥\n",
       "⎢   2     2⎥\n",
       "⎢          ⎥\n",
       "⎢F   Zₘ⋅l_δ⎥\n",
       "⎢─ + ──────⎥\n",
       "⎢2     2   ⎥\n",
       "⎢          ⎥\n",
       "⎢F   Zₘ⋅l_δ⎥\n",
       "⎢─ - ──────⎥\n",
       "⎣2     2   ⎦"
      ]
     },
     "execution_count": 16,
     "metadata": {},
     "output_type": "execute_result"
    }
   ],
   "source": [
    "trans = sympy.Matrix([\n",
    "    [k_e/2,  k_e/2 * Z_e            , 0, 0], \n",
    "    [k_e/2, -k_e/2 * Z_e.conjugate(), 0, 0], \n",
    "    [0, 0, k_m/2,  k_m/2 * Z_m            ],\n",
    "    [0, 0, k_m/2, -k_m/2 * Z_m.conjugate()],\n",
    "])\n",
    "trans * var"
   ]
  },
  {
   "cell_type": "code",
   "execution_count": 17,
   "metadata": {
    "collapsed": true
   },
   "outputs": [],
   "source": [
    "rel_ab = rel * trans**-1\n",
    "rel_a = rel_ab[:,::2]\n",
    "rel_b = rel_ab[:,1::2]\n"
   ]
  },
  {
   "cell_type": "code",
   "execution_count": 18,
   "metadata": {},
   "outputs": [
    {
     "data": {
      "image/png": "[encoded data removed]",
      "text/latex": [
       "$$\\left[\\begin{matrix}C + \\frac{1}{Z_{e} s} & d\\\\d k & 1 + \\frac{k}{Z_{m}}\\end{matrix}\\right]$$"
      ],
      "text/plain": [
       "⎡     1          ⎤\n",
       "⎢C + ────    d   ⎥\n",
       "⎢    Zₑ⋅s        ⎥\n",
       "⎢                ⎥\n",
       "⎢              k ⎥\n",
       "⎢  d⋅k     1 + ──⎥\n",
       "⎣              Zₘ⎦"
      ]
     },
     "execution_count": 18,
     "metadata": {},
     "output_type": "execute_result"
    }
   ],
   "source": [
    "rel_b"
   ]
  },
  {
   "cell_type": "code",
   "execution_count": 19,
   "metadata": {},
   "outputs": [
    {
     "data": {
      "image/png": "[encoded data removed]",
      "text/latex": [
       "$$\\left[\\begin{matrix}\\frac{C Z_{e} Z_{m} s + C Z_{e} k s - Z_{e} Z_{m} d^{2} k s - Z_{m} - k}{- C Z_{e} Z_{m} s - C Z_{e} k s + Z_{e} Z_{m} d^{2} k s - Z_{m} - k} & \\frac{2 Z_{e} d k s}{- C Z_{e} Z_{m} s - C Z_{e} k s + Z_{e} Z_{m} d^{2} k s - Z_{m} - k}\\\\\\frac{2 Z_{m} d k}{- C Z_{e} Z_{m} s - C Z_{e} k s + Z_{e} Z_{m} d^{2} k s - Z_{m} - k} & \\frac{Z_{e} Z_{m} d^{2} k s - \\left(Z_{m} - k\\right) \\left(C Z_{e} s + 1\\right)}{- Z_{e} Z_{m} d^{2} k s + Z_{m} \\left(C Z_{e} s + 1\\right) + k \\left(C Z_{e} s + 1\\right)}\\end{matrix}\\right]$$"
      ],
      "text/plain": [
       "⎡                               2                                             \n",
       "⎢ C⋅Zₑ⋅Zₘ⋅s + C⋅Zₑ⋅k⋅s - Zₑ⋅Zₘ⋅d ⋅k⋅s - Zₘ - k                      2⋅Zₑ⋅d⋅k⋅s\n",
       "⎢─────────────────────────────────────────────    ────────────────────────────\n",
       "⎢                               2                                             \n",
       "⎢-C⋅Zₑ⋅Zₘ⋅s - C⋅Zₑ⋅k⋅s + Zₑ⋅Zₘ⋅d ⋅k⋅s - Zₘ - k    -C⋅Zₑ⋅Zₘ⋅s - C⋅Zₑ⋅k⋅s + Zₑ⋅Z\n",
       "⎢                                                                             \n",
       "⎢                                                             2               \n",
       "⎢                   2⋅Zₘ⋅d⋅k                           Zₑ⋅Zₘ⋅d ⋅k⋅s - (Zₘ - k)\n",
       "⎢─────────────────────────────────────────────  ──────────────────────────────\n",
       "⎢                               2                        2                    \n",
       "⎣-C⋅Zₑ⋅Zₘ⋅s - C⋅Zₑ⋅k⋅s + Zₑ⋅Zₘ⋅d ⋅k⋅s - Zₘ - k  - Zₑ⋅Zₘ⋅d ⋅k⋅s + Zₘ⋅(C⋅Zₑ⋅s + \n",
       "\n",
       "                   ⎤\n",
       "                   ⎥\n",
       "─────────────────  ⎥\n",
       "   2               ⎥\n",
       "ₘ⋅d ⋅k⋅s - Zₘ - k  ⎥\n",
       "                   ⎥\n",
       "                   ⎥\n",
       "⋅(C⋅Zₑ⋅s + 1)      ⎥\n",
       "───────────────────⎥\n",
       "                   ⎥\n",
       "1) + k⋅(C⋅Zₑ⋅s + 1)⎦"
      ]
     },
     "execution_count": 19,
     "metadata": {},
     "output_type": "execute_result"
    }
   ],
   "source": [
    "rel_atob = -rel_b**-1 * rel_a\n",
    "rel_atob.simplify()\n",
    "rel_atob"
   ]
  },
  {
   "cell_type": "code",
   "execution_count": 20,
   "metadata": {
    "collapsed": true
   },
   "outputs": [],
   "source": [
    "from sympy.utilities.lambdify import lambdastr"
   ]
  },
  {
   "cell_type": "code",
   "execution_count": 21,
   "metadata": {
    "collapsed": true
   },
   "outputs": [],
   "source": [
    "e = rel_atob[1,1]\n",
    "def pyval(expr):\n",
    "    sym = list(expr.free_symbols)\n",
    "    return lambdastr(sym, expr).split(':')[1].strip()"
   ]
  },
  {
   "cell_type": "code",
   "execution_count": 22,
   "metadata": {},
   "outputs": [
    {
     "data": {
      "text/plain": [
       "'((C*Z_e*Z_m*s + C*Z_e*k*s - Z_e*Z_m*d**2*k*s - Z_m - k)/(-C*Z_e*Z_m*s - C*Z_e*k*s + Z_e*Z_m*d**2*k*s - Z_m - k))'"
      ]
     },
     "execution_count": 22,
     "metadata": {},
     "output_type": "execute_result"
    }
   ],
   "source": [
    "pyval(rel_atob[0,0])"
   ]
  },
  {
   "cell_type": "code",
   "execution_count": 23,
   "metadata": {},
   "outputs": [
    {
     "data": {
      "text/plain": [
       "'((Z_e*Z_m*d**2*k*s - (Z_m - k)*(C*Z_e*s + 1))/(-Z_e*Z_m*d**2*k*s + Z_m*(C*Z_e*s + 1) + k*(C*Z_e*s + 1)))'"
      ]
     },
     "execution_count": 23,
     "metadata": {},
     "output_type": "execute_result"
    }
   ],
   "source": [
    "pyval(rel_atob[1,1])"
   ]
  },
  {
   "cell_type": "code",
   "execution_count": 24,
   "metadata": {},
   "outputs": [
    {
     "data": {
      "text/plain": [
       "'(2*Z_e*d*k*s/(-C*Z_e*Z_m*s - C*Z_e*k*s + Z_e*Z_m*d**2*k*s - Z_m - k))'"
      ]
     },
     "execution_count": 24,
     "metadata": {},
     "output_type": "execute_result"
    }
   ],
   "source": [
    "pyval(rel_atob[0,1])"
   ]
  },
  {
   "cell_type": "code",
   "execution_count": 25,
   "metadata": {},
   "outputs": [
    {
     "data": {
      "text/plain": [
       "'(2*Z_m*d*k/(-C*Z_e*Z_m*s - C*Z_e*k*s + Z_e*Z_m*d**2*k*s - Z_m - k))'"
      ]
     },
     "execution_count": 25,
     "metadata": {},
     "output_type": "execute_result"
    }
   ],
   "source": [
    "pyval(rel_atob[1,0])"
   ]
  },
  {
   "cell_type": "code",
   "execution_count": null,
   "metadata": {
    "collapsed": true
   },
   "outputs": [],
   "source": []
  }
 ],
 "metadata": {
  "kernelspec": {
   "display_name": "Python 3",
   "language": "python",
   "name": "python3"
  },
  "language_info": {
   "codemirror_mode": {
    "name": "ipython",
    "version": 3
   },
   "file_extension": ".py",
   "mimetype": "text/x-python",
   "name": "python",
   "nbconvert_exporter": "python",
   "pygments_lexer": "ipython3",
   "version": "3.5.3"
  },
  "latex_envs": {
   "bibliofile": "biblio.bib",
   "cite_by": "apalike",
   "current_citInitial": 1,
   "eqLabelWithNumbers": true,
   "eqNumInitial": 0
  }
 },
 "nbformat": 4,
 "nbformat_minor": 1
}
