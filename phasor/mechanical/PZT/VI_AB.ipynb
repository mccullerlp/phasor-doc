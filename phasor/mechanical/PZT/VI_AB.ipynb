{
 "cells": [
  {
   "cell_type": "code",
   "execution_count": 1,
   "metadata": {
    "collapsed": true
   },
   "outputs": [],
   "source": [
    "import sys\n",
    "from __future__ import division"
   ]
  },
  {
   "cell_type": "code",
   "execution_count": 2,
   "metadata": {},
   "outputs": [
    {
     "name": "stdout",
     "output_type": "stream",
     "text": [
      "Populating the interactive namespace from numpy and matplotlib\n"
     ]
    }
   ],
   "source": [
    "import numpy as np\n",
    "from phasor.utilities.ipynb.displays import *\n",
    "#from YALL.utilities.tabulate import tabulate\n",
    "\n",
    "import declarative\n",
    "\n",
    "from declarative.bunch import (\n",
    "    DeepBunch\n",
    ")\n",
    "\n",
    "import phasor.math.dispatched as dmath \n",
    "#import phasor.math.dispatch_sympy"
   ]
  },
  {
   "cell_type": "code",
   "execution_count": 3,
   "metadata": {},
   "outputs": [
    {
     "name": "stdout",
     "output_type": "stream",
     "text": [
      "b'2017-09-14 11:48:30 -0400 (2a2215d5e7f7e94920f3ffdab49cefe57c66e23b)'\n",
      "Sympy version:  1.0\n"
     ]
    }
   ],
   "source": [
    "import phasor.utilities.version as version\n",
    "print(version.foundations_version())\n",
    "\n",
    "from phasor.utilities.np import logspaced\n",
    "from phasor.utilities.ipynb.sympy import *\n",
    "\n",
    "from phasor import optics\n",
    "from phasor import base \n",
    "from phasor import signals \n",
    "from phasor import system\n",
    "from phasor import readouts \n",
    "from phasor import mechanical"
   ]
  },
  {
   "cell_type": "code",
   "execution_count": 52,
   "metadata": {},
   "outputs": [
    {
     "data": {
      "image/png": "[encoded data removed]",
      "text/latex": [
       "$$V$$"
      ],
      "text/plain": [
       "V"
      ]
     },
     "metadata": {},
     "output_type": "display_data"
    },
    {
     "data": {
      "image/png": "[encoded data removed]",
      "text/latex": [
       "$$\\left[\\begin{matrix}- I L s + V\\end{matrix}\\right]$$"
      ],
      "text/plain": [
       "[-I⋅L⋅s + V]"
      ]
     },
     "execution_count": 52,
     "metadata": {},
     "output_type": "execute_result"
    }
   ],
   "source": [
    "s = sympy.var('s')\n",
    "\n",
    "L = sympy.var('L')\n",
    "V = sympy.var('V')\n",
    "I = sympy.var('I')\n",
    "C = sympy.var('C')\n",
    "\n",
    "Z_e = sympy.var('Z_e', real = True)\n",
    "k_e = sympy.sqrt(1/sympy.im(Z_e))\n",
    "k_e = sympy.var('k_e', real = True)\n",
    "k_e = sympy.sympify(1)\n",
    "\n",
    "expr1 = V\n",
    "display(expr1)\n",
    "\n",
    "rel = sympy.Matrix([[1, -L*s]])\n",
    "var = sympy.Matrix([V, I])\n",
    "rel * var"
   ]
  },
  {
   "cell_type": "code",
   "execution_count": 53,
   "metadata": {},
   "outputs": [
    {
     "data": {
      "image/png": "[encoded data removed]",
      "text/latex": [
       "$$\\left[\\begin{matrix}\\frac{I Z_{e}}{2} + \\frac{V}{2}\\\\- \\frac{I Z_{e}}{2} + \\frac{V}{2}\\end{matrix}\\right]$$"
      ],
      "text/plain": [
       "⎡ I⋅Zₑ   V ⎤\n",
       "⎢ ──── + ─ ⎥\n",
       "⎢  2     2 ⎥\n",
       "⎢          ⎥\n",
       "⎢  I⋅Zₑ   V⎥\n",
       "⎢- ──── + ─⎥\n",
       "⎣   2     2⎦"
      ]
     },
     "execution_count": 53,
     "metadata": {},
     "output_type": "execute_result"
    }
   ],
   "source": [
    "trans = sympy.Matrix([\n",
    "    [k_e/2,  k_e/2 * Z_e            ],\n",
    "    [k_e/2, -k_e/2 * Z_e.conjugate()],\n",
    "])\n",
    "trans * var"
   ]
  },
  {
   "cell_type": "code",
   "execution_count": 54,
   "metadata": {},
   "outputs": [
    {
     "data": {
      "image/png": "[encoded data removed]",
      "text/latex": [
       "$$\\left[\\begin{matrix}0 & Z_{e}\\end{matrix}\\right]$$"
      ],
      "text/plain": [
       "[0  Zₑ]"
      ]
     },
     "execution_count": 54,
     "metadata": {},
     "output_type": "execute_result"
    }
   ],
   "source": [
    "sympy.Matrix([[1, -1]]) * trans"
   ]
  },
  {
   "cell_type": "code",
   "execution_count": 55,
   "metadata": {
    "collapsed": true
   },
   "outputs": [],
   "source": [
    "rel_ab = rel * trans**-1\n",
    "rel_a = rel_ab[:,::2]\n",
    "rel_b = rel_ab[:,1::2]\n"
   ]
  },
  {
   "cell_type": "code",
   "execution_count": 56,
   "metadata": {},
   "outputs": [
    {
     "data": {
      "image/png": "[encoded data removed]",
      "text/latex": [
       "$$\\left[\\begin{matrix}\\frac{L s}{Z_{e}} + 1\\end{matrix}\\right]$$"
      ],
      "text/plain": [
       "⎡L⋅s    ⎤\n",
       "⎢─── + 1⎥\n",
       "⎣ Zₑ    ⎦"
      ]
     },
     "execution_count": 56,
     "metadata": {},
     "output_type": "execute_result"
    }
   ],
   "source": [
    "rel_b"
   ]
  },
  {
   "cell_type": "code",
   "execution_count": 57,
   "metadata": {},
   "outputs": [
    {
     "data": {
      "image/png": "[encoded data removed]",
      "text/latex": [
       "$$\\left[\\begin{matrix}- \\frac{L s}{Z_{e}} + 1\\end{matrix}\\right]$$"
      ],
      "text/plain": [
       "⎡  L⋅s    ⎤\n",
       "⎢- ─── + 1⎥\n",
       "⎣   Zₑ    ⎦"
      ]
     },
     "execution_count": 57,
     "metadata": {},
     "output_type": "execute_result"
    }
   ],
   "source": [
    "rel_a"
   ]
  },
  {
   "cell_type": "code",
   "execution_count": 58,
   "metadata": {},
   "outputs": [
    {
     "data": {
      "image/png": "[encoded data removed]",
      "text/latex": [
       "$$\\left[\\begin{matrix}\\frac{L s - Z_{e}}{L s + Z_{e}}\\end{matrix}\\right]$$"
      ],
      "text/plain": [
       "⎡L⋅s - Zₑ⎤\n",
       "⎢────────⎥\n",
       "⎣L⋅s + Zₑ⎦"
      ]
     },
     "execution_count": 58,
     "metadata": {},
     "output_type": "execute_result"
    }
   ],
   "source": [
    "rel_atob = -rel_b**-1 * rel_a\n",
    "rel_atob.simplify()\n",
    "rel_atob"
   ]
  },
  {
   "cell_type": "code",
   "execution_count": null,
   "metadata": {
    "collapsed": true
   },
   "outputs": [],
   "source": []
  },
  {
   "cell_type": "code",
   "execution_count": null,
   "metadata": {
    "collapsed": true
   },
   "outputs": [],
   "source": []
  }
 ],
 "metadata": {
  "kernelspec": {
   "display_name": "Python 3",
   "language": "python",
   "name": "python3"
  },
  "language_info": {
   "codemirror_mode": {
    "name": "ipython",
    "version": 3
   },
   "file_extension": ".py",
   "mimetype": "text/x-python",
   "name": "python",
   "nbconvert_exporter": "python",
   "pygments_lexer": "ipython3",
   "version": "3.5.3"
  },
  "latex_envs": {
   "bibliofile": "biblio.bib",
   "cite_by": "apalike",
   "current_citInitial": 1,
   "eqLabelWithNumbers": true,
   "eqNumInitial": 0
  }
 },
 "nbformat": 4,
 "nbformat_minor": 1
}
