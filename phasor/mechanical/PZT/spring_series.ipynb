{
 "cells": [
  {
   "cell_type": "code",
   "execution_count": 1,
   "metadata": {
    "collapsed": true
   },
   "outputs": [],
   "source": [
    "import sys\n",
    "from __future__ import division"
   ]
  },
  {
   "cell_type": "code",
   "execution_count": 2,
   "metadata": {},
   "outputs": [
    {
     "name": "stdout",
     "output_type": "stream",
     "text": [
      "Populating the interactive namespace from numpy and matplotlib\n"
     ]
    }
   ],
   "source": [
    "import numpy as np\n",
    "from phasor.utilities.ipynb.displays import *\n",
    "#from YALL.utilities.tabulate import tabulate\n",
    "\n",
    "import declarative\n",
    "\n",
    "from declarative.bunch import (\n",
    "    DeepBunch\n",
    ")\n",
    "\n",
    "import phasor.math.dispatched as dmath \n",
    "#import phasor.math.dispatch_sympy"
   ]
  },
  {
   "cell_type": "code",
   "execution_count": 3,
   "metadata": {},
   "outputs": [
    {
     "name": "stdout",
     "output_type": "stream",
     "text": [
      "b'2017-09-22 09:45:51 -0400 (a76310c5d4476904171a3f1b18117db454719432)'\n",
      "Sympy version:  1.0\n"
     ]
    }
   ],
   "source": [
    "import phasor.utilities.version as version\n",
    "print(version.foundations_version())\n",
    "\n",
    "from phasor.utilities.np import logspaced\n",
    "from phasor.utilities.ipynb.sympy import *\n",
    "\n",
    "from phasor import optics\n",
    "from phasor import base \n",
    "from phasor import signals \n",
    "from phasor import system\n",
    "from phasor import readouts \n",
    "from phasor import mechanical"
   ]
  },
  {
   "cell_type": "code",
   "execution_count": 15,
   "metadata": {},
   "outputs": [
    {
     "data": {
      "image/png": "[encoded data removed]",
      "text/latex": [
       "$$- F_{1} + F_{2} + k \\left(l_{delta1} - l_{delta2}\\right)$$"
      ],
      "text/plain": [
       "-F₁ + F₂ + k⋅(l_delta1 - l_delta2)"
      ]
     },
     "metadata": {},
     "output_type": "display_data"
    },
    {
     "data": {
      "image/png": "[encoded data removed]",
      "text/latex": [
       "$$\\left[\\begin{matrix}- F_{1} + F_{2} + k l_{delta1} - k l_{delta2}\\\\l_{delta1} + l_{delta2}\\end{matrix}\\right]$$"
      ],
      "text/plain": [
       "⎡-F₁ + F₂ + k⋅l_delta1 - k⋅l_delta2⎤\n",
       "⎢                                  ⎥\n",
       "⎣       l_delta1 + l_delta2        ⎦"
      ]
     },
     "execution_count": 15,
     "metadata": {},
     "output_type": "execute_result"
    }
   ],
   "source": [
    "M = sympy.var('M')\n",
    "k = sympy.var('k')\n",
    "\n",
    "s = sympy.var('s')\n",
    "\n",
    "d_l1 = sympy.var('l_delta1')\n",
    "F1 = sympy.var('F_1')\n",
    "d_l2 = sympy.var('l_delta2')\n",
    "F2 = sympy.var('F_2')\n",
    "\n",
    "Z_m = sympy.var('Z_m', real = True)\n",
    "k_m = sympy.sqrt(1/sympy.im(Z_m))\n",
    "k_m = sympy.var('k_m', real = True)\n",
    "k_m = sympy.sympify(1)\n",
    "\n",
    "expr1 = k * (d_l1-d_l2)  - (F1 - F2)\n",
    "display(expr1)\n",
    "\n",
    "rel = sympy.Matrix([[M * s**2, -1]])\n",
    "rel = sympy.Matrix([[k, -1]])\n",
    "rel = sympy.Matrix([\n",
    "    [-1, k,  1,-k],\n",
    "    [0,1,0, 1],\n",
    "])\n",
    "var = sympy.Matrix([F1, d_l1, F2, d_l2])\n",
    "rel * var"
   ]
  },
  {
   "cell_type": "code",
   "execution_count": 16,
   "metadata": {},
   "outputs": [
    {
     "data": {
      "image/png": "[encoded data removed]",
      "text/latex": [
       "$$\\left[\\begin{matrix}\\frac{F_{1}}{2} + \\frac{Z_{m} l_{delta1}}{2}\\\\\\frac{F_{1}}{2} - \\frac{Z_{m} l_{delta1}}{2}\\\\\\frac{F_{2}}{2} + \\frac{Z_{m} l_{delta2}}{2}\\\\\\frac{F_{2}}{2} - \\frac{Z_{m} l_{delta2}}{2}\\end{matrix}\\right]$$"
      ],
      "text/plain": [
       "⎡F₁   Zₘ⋅l_delta1⎤\n",
       "⎢── + ───────────⎥\n",
       "⎢2         2     ⎥\n",
       "⎢                ⎥\n",
       "⎢F₁   Zₘ⋅l_delta1⎥\n",
       "⎢── - ───────────⎥\n",
       "⎢2         2     ⎥\n",
       "⎢                ⎥\n",
       "⎢F₂   Zₘ⋅l_delta2⎥\n",
       "⎢── + ───────────⎥\n",
       "⎢2         2     ⎥\n",
       "⎢                ⎥\n",
       "⎢F₂   Zₘ⋅l_delta2⎥\n",
       "⎢── - ───────────⎥\n",
       "⎣2         2     ⎦"
      ]
     },
     "execution_count": 16,
     "metadata": {},
     "output_type": "execute_result"
    }
   ],
   "source": [
    "trans = sympy.Matrix([\n",
    "    [k_m/2,  k_m/2 * Z_m            ,0,0, ],\n",
    "    [k_m/2, -k_m/2 * Z_m.conjugate(),0,0, ],\n",
    "    [0,0, k_m/2,  k_m/2 * Z_m            ],\n",
    "    [0,0, k_m/2, -k_m/2 * Z_m.conjugate()],\n",
    "])\n",
    "trans * var"
   ]
  },
  {
   "cell_type": "code",
   "execution_count": 17,
   "metadata": {},
   "outputs": [
    {
     "data": {
      "image/png": "[encoded data removed]",
      "text/latex": [
       "$$\\left[\\begin{matrix}1 & 1 & 0 & 0\\\\\\frac{1}{Z_{m}} & - \\frac{1}{Z_{m}} & 0 & 0\\\\0 & 0 & 1 & 1\\\\0 & 0 & \\frac{1}{Z_{m}} & - \\frac{1}{Z_{m}}\\end{matrix}\\right]$$"
      ],
      "text/plain": [
       "⎡1    1   0    0 ⎤\n",
       "⎢                ⎥\n",
       "⎢1   -1          ⎥\n",
       "⎢──  ───  0    0 ⎥\n",
       "⎢Zₘ   Zₘ         ⎥\n",
       "⎢                ⎥\n",
       "⎢0    0   1    1 ⎥\n",
       "⎢                ⎥\n",
       "⎢         1   -1 ⎥\n",
       "⎢0    0   ──  ───⎥\n",
       "⎣         Zₘ   Zₘ⎦"
      ]
     },
     "execution_count": 17,
     "metadata": {},
     "output_type": "execute_result"
    }
   ],
   "source": [
    "trans**-1"
   ]
  },
  {
   "cell_type": "code",
   "execution_count": 18,
   "metadata": {
    "collapsed": true
   },
   "outputs": [],
   "source": [
    "rel_ab = rel * trans**-1\n",
    "rel_a = rel_ab[:,::2]\n",
    "rel_b = rel_ab[:,1::2]\n"
   ]
  },
  {
   "cell_type": "code",
   "execution_count": 19,
   "metadata": {},
   "outputs": [
    {
     "data": {
      "image/png": "[encoded data removed]",
      "text/latex": [
       "$$\\left[\\begin{matrix}-1 - \\frac{k}{Z_{m}} & 1 + \\frac{k}{Z_{m}}\\\\- \\frac{1}{Z_{m}} & - \\frac{1}{Z_{m}}\\end{matrix}\\right]$$"
      ],
      "text/plain": [
       "⎡     k       k ⎤\n",
       "⎢-1 - ──  1 + ──⎥\n",
       "⎢     Zₘ      Zₘ⎥\n",
       "⎢               ⎥\n",
       "⎢  -1      -1   ⎥\n",
       "⎢  ───     ───  ⎥\n",
       "⎣   Zₘ      Zₘ  ⎦"
      ]
     },
     "execution_count": 19,
     "metadata": {},
     "output_type": "execute_result"
    }
   ],
   "source": [
    "rel_b"
   ]
  },
  {
   "cell_type": "code",
   "execution_count": 20,
   "metadata": {},
   "outputs": [
    {
     "data": {
      "image/png": "[encoded data removed]",
      "text/latex": [
       "$$\\left[\\begin{matrix}\\frac{k}{Z_{m} + k} & \\frac{Z_{m}}{Z_{m} + k}\\\\\\frac{Z_{m}}{Z_{m} + k} & \\frac{k}{Z_{m} + k}\\end{matrix}\\right]$$"
      ],
      "text/plain": [
       "⎡  k       Zₘ  ⎤\n",
       "⎢──────  ──────⎥\n",
       "⎢Zₘ + k  Zₘ + k⎥\n",
       "⎢              ⎥\n",
       "⎢  Zₘ      k   ⎥\n",
       "⎢──────  ──────⎥\n",
       "⎣Zₘ + k  Zₘ + k⎦"
      ]
     },
     "execution_count": 20,
     "metadata": {},
     "output_type": "execute_result"
    }
   ],
   "source": [
    "rel_atob = -rel_b**-1 * rel_a\n",
    "rel_atob.simplify()\n",
    "rel_atob"
   ]
  },
  {
   "cell_type": "code",
   "execution_count": null,
   "metadata": {
    "collapsed": true
   },
   "outputs": [],
   "source": []
  },
  {
   "cell_type": "code",
   "execution_count": null,
   "metadata": {
    "collapsed": true
   },
   "outputs": [],
   "source": []
  },
  {
   "cell_type": "code",
   "execution_count": null,
   "metadata": {
    "collapsed": true
   },
   "outputs": [],
   "source": []
  }
 ],
 "metadata": {
  "kernelspec": {
   "display_name": "Python 3",
   "language": "python",
   "name": "python3"
  },
  "language_info": {
   "codemirror_mode": {
    "name": "ipython",
    "version": 3
   },
   "file_extension": ".py",
   "mimetype": "text/x-python",
   "name": "python",
   "nbconvert_exporter": "python",
   "pygments_lexer": "ipython3",
   "version": "3.5.3"
  },
  "latex_envs": {
   "bibliofile": "biblio.bib",
   "cite_by": "apalike",
   "current_citInitial": 1,
   "eqLabelWithNumbers": true,
   "eqNumInitial": 0
  }
 },
 "nbformat": 4,
 "nbformat_minor": 1
}
