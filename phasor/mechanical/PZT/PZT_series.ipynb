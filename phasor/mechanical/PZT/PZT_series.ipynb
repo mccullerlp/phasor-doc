{
 "cells": [
  {
   "cell_type": "code",
   "execution_count": 2,
   "metadata": {
    "collapsed": true
   },
   "outputs": [],
   "source": [
    "import sys\n",
    "from __future__ import division"
   ]
  },
  {
   "cell_type": "code",
   "execution_count": 3,
   "metadata": {},
   "outputs": [
    {
     "name": "stdout",
     "output_type": "stream",
     "text": [
      "Populating the interactive namespace from numpy and matplotlib\n"
     ]
    }
   ],
   "source": [
    "import numpy as np\n",
    "from phasor.utilities.ipynb.displays import *\n",
    "#from YALL.utilities.tabulate import tabulate\n",
    "\n",
    "import declarative\n",
    "\n",
    "from declarative.bunch import (\n",
    "    DeepBunch\n",
    ")\n",
    "\n",
    "import phasor.math.dispatched as dmath \n",
    "#import phasor.math.dispatch_sympy"
   ]
  },
  {
   "cell_type": "code",
   "execution_count": 4,
   "metadata": {},
   "outputs": [
    {
     "name": "stdout",
     "output_type": "stream",
     "text": [
      "b'2017-09-22 09:45:51 -0400 (a76310c5d4476904171a3f1b18117db454719432)'\n",
      "Sympy version:  1.0\n"
     ]
    }
   ],
   "source": [
    "import phasor.utilities.version as version\n",
    "print(version.foundations_version())\n",
    "\n",
    "from phasor.utilities.np import logspaced\n",
    "from phasor.utilities.ipynb.sympy import *\n",
    "\n",
    "from phasor import optics\n",
    "from phasor import base \n",
    "from phasor import signals \n",
    "from phasor import system\n",
    "from phasor import readouts \n",
    "from phasor import mechanical"
   ]
  },
  {
   "cell_type": "code",
   "execution_count": 57,
   "metadata": {},
   "outputs": [
    {
     "data": {
      "image/png": "[encoded data removed]",
      "text/latex": [
       "$$C V_{1} + F_{1} d - \\frac{I_{1}}{s}$$"
      ],
      "text/plain": [
       "              I₁\n",
       "C⋅V₁ + F₁⋅d - ──\n",
       "              s "
      ]
     },
     "metadata": {},
     "output_type": "display_data"
    },
    {
     "data": {
      "image/png": "[encoded data removed]",
      "text/latex": [
       "$$F_{1} + V_{1} d k - k l_{\\delta 1}$$"
      ],
      "text/plain": [
       "F₁ + V₁⋅d⋅k - k⋅l_δ_1"
      ]
     },
     "metadata": {},
     "output_type": "display_data"
    },
    {
     "data": {
      "image/png": "[encoded data removed]",
      "text/latex": [
       "$$\\left[\\begin{matrix}C V_{1} - C V_{2} + F_{1} d - F_{2} d - \\frac{I_{1}}{s} + \\frac{I_{2}}{s}\\\\F_{1} - F_{2} + V_{1} d k - V_{2} d k - k l_{\\delta 1} + k l_{\\delta 2}\\\\I_{1} + I_{2}\\\\l_{\\delta 1} + l_{\\delta 2}\\end{matrix}\\right]$$"
      ],
      "text/plain": [
       "⎡                                 I₁   I₂     ⎤\n",
       "⎢     C⋅V₁ - C⋅V₂ + F₁⋅d - F₂⋅d - ── + ──     ⎥\n",
       "⎢                                 s    s      ⎥\n",
       "⎢                                             ⎥\n",
       "⎢F₁ - F₂ + V₁⋅d⋅k - V₂⋅d⋅k - k⋅l_δ_1 + k⋅l_δ_2⎥\n",
       "⎢                                             ⎥\n",
       "⎢                   I₁ + I₂                   ⎥\n",
       "⎢                                             ⎥\n",
       "⎣                l_δ_1 + l_δ_2                ⎦"
      ]
     },
     "execution_count": 57,
     "metadata": {},
     "output_type": "execute_result"
    }
   ],
   "source": [
    "d = sympy.var('d')\n",
    "N = sympy.var('N')\n",
    "l = sympy.var('l')\n",
    "A = sympy.var('A')\n",
    "s = sympy.var('s')\n",
    "k = sympy.var('k')\n",
    "epsilon = sympy.var('epsilon')\n",
    "epsilon_0 = sympy.var('epsilon_0')\n",
    "\n",
    "d_l1 = sympy.var('l_delta_1')\n",
    "F1 = sympy.var('F_1')\n",
    "d_l2 = sympy.var('l_delta_2')\n",
    "F2 = sympy.var('F_2')\n",
    "\n",
    "C = sympy.var('C')\n",
    "V1 = sympy.var('V_1')\n",
    "I1 = sympy.var('I_1')\n",
    "V2 = sympy.var('V_2')\n",
    "I2 = sympy.var('I_2')\n",
    "\n",
    "Z_e = sympy.var('Z_e', real = True)\n",
    "Z_m = sympy.var('Z_m', real = True)\n",
    "k_e = sympy.sqrt(1/sympy.re(Z_e))\n",
    "k_m = sympy.sqrt(1/sympy.im(Z_m))\n",
    "k_e = sympy.var('k_e', real = True)\n",
    "k_m = sympy.var('k_m', real = True)\n",
    "k_e = sympy.sympify(1)\n",
    "k_m = sympy.sympify(1)\n",
    "\n",
    "expr1 = d * F1  - I1/s + C * V1\n",
    "display(expr1)\n",
    "expr2 = -d_l1 * k + F1 + k * d * V1\n",
    "display(expr2)\n",
    "\n",
    "rel = sympy.Matrix([\n",
    "    [C, -1/s, -C, +1/s, d, 0, -d, 0],\n",
    "    [d*k, 0, -d*k, 0, 1, -k, -1, +k],\n",
    "    [0,1,0,1,0,0,0,0],\n",
    "    [0,0,0,0,0,1,0,1],\n",
    "])\n",
    "var = sympy.Matrix([V1, I1, V2, I2, F1, d_l1, F2, d_l2])\n",
    "rel * var"
   ]
  },
  {
   "cell_type": "code",
   "execution_count": 58,
   "metadata": {},
   "outputs": [
    {
     "data": {
      "image/png": "[encoded data removed]",
      "text/latex": [
       "$$\\left[\\begin{matrix}\\frac{I_{1} Z_{e}}{2} + \\frac{V_{1}}{2}\\\\- \\frac{I_{1} Z_{e}}{2} + \\frac{V_{1}}{2}\\\\\\frac{I_{2} Z_{e}}{2} + \\frac{V_{2}}{2}\\\\- \\frac{I_{2} Z_{e}}{2} + \\frac{V_{2}}{2}\\\\\\frac{F_{1}}{2} + \\frac{l_{\\delta 1}}{2} Z_{m}\\\\\\frac{F_{1}}{2} - \\frac{l_{\\delta 1}}{2} Z_{m}\\\\\\frac{F_{2}}{2} + \\frac{l_{\\delta 2}}{2} Z_{m}\\\\\\frac{F_{2}}{2} - \\frac{l_{\\delta 2}}{2} Z_{m}\\end{matrix}\\right]$$"
      ],
      "text/plain": [
       "⎡ I₁⋅Zₑ   V₁  ⎤\n",
       "⎢ ───── + ──  ⎥\n",
       "⎢   2     2   ⎥\n",
       "⎢             ⎥\n",
       "⎢  I₁⋅Zₑ   V₁ ⎥\n",
       "⎢- ───── + ── ⎥\n",
       "⎢    2     2  ⎥\n",
       "⎢             ⎥\n",
       "⎢ I₂⋅Zₑ   V₂  ⎥\n",
       "⎢ ───── + ──  ⎥\n",
       "⎢   2     2   ⎥\n",
       "⎢             ⎥\n",
       "⎢  I₂⋅Zₑ   V₂ ⎥\n",
       "⎢- ───── + ── ⎥\n",
       "⎢    2     2  ⎥\n",
       "⎢             ⎥\n",
       "⎢F₁   Zₘ⋅l_δ_1⎥\n",
       "⎢── + ────────⎥\n",
       "⎢2       2    ⎥\n",
       "⎢             ⎥\n",
       "⎢F₁   Zₘ⋅l_δ_1⎥\n",
       "⎢── - ────────⎥\n",
       "⎢2       2    ⎥\n",
       "⎢             ⎥\n",
       "⎢F₂   Zₘ⋅l_δ_2⎥\n",
       "⎢── + ────────⎥\n",
       "⎢2       2    ⎥\n",
       "⎢             ⎥\n",
       "⎢F₂   Zₘ⋅l_δ_2⎥\n",
       "⎢── - ────────⎥\n",
       "⎣2       2    ⎦"
      ]
     },
     "execution_count": 58,
     "metadata": {},
     "output_type": "execute_result"
    }
   ],
   "source": [
    "trans = sympy.Matrix([\n",
    "    [k_e/2, k_e/2 * Z_e            ,  0,     0,                        0,     0,                        0,     0],                       \n",
    "    [k_e/2, -k_e/2 * Z_e.conjugate(), 0,     0,                        0,     0,                        0,     0],                       \n",
    "    [0,     0,                        k_e/2, k_e/2 * Z_e            ,  0,     0,                        0,     0],                       \n",
    "    [0,     0,                        k_e/2, -k_e/2 * Z_e.conjugate(), 0,     0,                        0,     0],                       \n",
    "    [0,     0,                        0,     0,                        k_m/2, k_m/2 * Z_m            ,  0,     0],                       \n",
    "    [0,     0,                        0,     0,                        k_m/2, -k_m/2 * Z_m.conjugate(), 0,     0],                       \n",
    "    [0,     0,                        0,     0,                        0,     0,                        k_m/2, k_m/2 * Z_m             ], \n",
    "    [0,     0,                        0,     0,                        0,     0,                        k_m/2, -k_m/2 * Z_m.conjugate()], \n",
    "])\n",
    "trans * var"
   ]
  },
  {
   "cell_type": "code",
   "execution_count": 59,
   "metadata": {
    "collapsed": true
   },
   "outputs": [],
   "source": [
    "rel_ab = rel * trans**-1\n",
    "rel_a = rel_ab[:,::2]\n",
    "rel_b = rel_ab[:,1::2]\n"
   ]
  },
  {
   "cell_type": "code",
   "execution_count": 60,
   "metadata": {},
   "outputs": [
    {
     "data": {
      "image/png": "[encoded data removed]",
      "text/latex": [
       "$$\\left[\\begin{matrix}C + \\frac{1}{Z_{e} s} & - C - \\frac{1}{Z_{e} s} & d & - d\\\\d k & - d k & 1 + \\frac{k}{Z_{m}} & -1 - \\frac{k}{Z_{m}}\\\\- \\frac{1}{Z_{e}} & - \\frac{1}{Z_{e}} & 0 & 0\\\\0 & 0 & - \\frac{1}{Z_{m}} & - \\frac{1}{Z_{m}}\\end{matrix}\\right]$$"
      ],
      "text/plain": [
       "⎡     1          1                   ⎤\n",
       "⎢C + ────  -C - ────    d       -d   ⎥\n",
       "⎢    Zₑ⋅s       Zₑ⋅s                 ⎥\n",
       "⎢                                    ⎥\n",
       "⎢                         k        k ⎥\n",
       "⎢  d⋅k       -d⋅k     1 + ──  -1 - ──⎥\n",
       "⎢                         Zₘ       Zₘ⎥\n",
       "⎢                                    ⎥\n",
       "⎢  -1         -1                     ⎥\n",
       "⎢  ───        ───       0        0   ⎥\n",
       "⎢   Zₑ         Zₑ                    ⎥\n",
       "⎢                                    ⎥\n",
       "⎢                      -1       -1   ⎥\n",
       "⎢   0          0       ───      ───  ⎥\n",
       "⎣                       Zₘ       Zₘ  ⎦"
      ]
     },
     "execution_count": 60,
     "metadata": {},
     "output_type": "execute_result"
    }
   ],
   "source": [
    "rel_b"
   ]
  },
  {
   "cell_type": "code",
   "execution_count": 61,
   "metadata": {},
   "outputs": [
    {
     "data": {
      "image/png": "[encoded data removed]",
      "text/latex": [
       "$$\\left[\\begin{matrix}\\frac{Z_{m} + k}{C Z_{e} Z_{m} s + C Z_{e} k s - Z_{e} Z_{m} d^{2} k s + Z_{m} + k} & \\frac{Z_{e} s \\left(- C Z_{m} - C k + Z_{m} d^{2} k\\right)}{- C Z_{e} Z_{m} s - C Z_{e} k s + Z_{e} Z_{m} d^{2} k s - Z_{m} - k} & \\frac{Z_{e} d k s}{- C Z_{e} Z_{m} s - C Z_{e} k s + Z_{e} Z_{m} d^{2} k s - Z_{m} - k} & \\frac{Z_{e} d k s}{C Z_{e} Z_{m} s + C Z_{e} k s - Z_{e} Z_{m} d^{2} k s + Z_{m} + k}\\\\\\frac{Z_{e} s \\left(- C Z_{m} - C k + Z_{m} d^{2} k\\right)}{- C Z_{e} Z_{m} s - C Z_{e} k s + Z_{e} Z_{m} d^{2} k s - Z_{m} - k} & \\frac{Z_{m} + k}{C Z_{e} Z_{m} s + C Z_{e} k s - Z_{e} Z_{m} d^{2} k s + Z_{m} + k} & \\frac{Z_{e} d k s}{C Z_{e} Z_{m} s + C Z_{e} k s - Z_{e} Z_{m} d^{2} k s + Z_{m} + k} & \\frac{Z_{e} d k s}{- C Z_{e} Z_{m} s - C Z_{e} k s + Z_{e} Z_{m} d^{2} k s - Z_{m} - k}\\\\\\frac{Z_{m} d k}{- C Z_{e} Z_{m} s - C Z_{e} k s + Z_{e} Z_{m} d^{2} k s - Z_{m} - k} & \\frac{Z_{m} d k}{- Z_{e} Z_{m} d^{2} k s + Z_{m} \\left(C Z_{e} s + 1\\right) + k \\left(C Z_{e} s + 1\\right)} & \\frac{k \\left(C Z_{e} s + 1\\right)}{- Z_{e} Z_{m} d^{2} k s + Z_{m} \\left(C Z_{e} s + 1\\right) + k \\left(C Z_{e} s + 1\\right)} & \\frac{Z_{m} \\left(- C Z_{e} s + Z_{e} d^{2} k s - 1\\right)}{- C Z_{e} Z_{m} s - C Z_{e} k s + Z_{e} Z_{m} d^{2} k s - Z_{m} - k}\\\\\\frac{Z_{m} d k}{- Z_{e} Z_{m} d^{2} k s + Z_{m} \\left(C Z_{e} s + 1\\right) + k \\left(C Z_{e} s + 1\\right)} & \\frac{Z_{m} d k}{- C Z_{e} Z_{m} s - C Z_{e} k s + Z_{e} Z_{m} d^{2} k s - Z_{m} - k} & \\frac{Z_{m} \\left(- C Z_{e} s + Z_{e} d^{2} k s - 1\\right)}{- C Z_{e} Z_{m} s - C Z_{e} k s + Z_{e} Z_{m} d^{2} k s - Z_{m} - k} & \\frac{k \\left(C Z_{e} s + 1\\right)}{- Z_{e} Z_{m} d^{2} k s + Z_{m} \\left(C Z_{e} s + 1\\right) + k \\left(C Z_{e} s + 1\\right)}\\end{matrix}\\right]$$"
      ],
      "text/plain": [
       "⎡                                                                   ⎛         \n",
       "⎢                     Zₘ + k                                   Zₑ⋅s⋅⎝-C⋅Zₘ - C\n",
       "⎢  ────────────────────────────────────────────       ────────────────────────\n",
       "⎢                                2                                            \n",
       "⎢  C⋅Zₑ⋅Zₘ⋅s + C⋅Zₑ⋅k⋅s - Zₑ⋅Zₘ⋅d ⋅k⋅s + Zₘ + k       -C⋅Zₑ⋅Zₘ⋅s - C⋅Zₑ⋅k⋅s + \n",
       "⎢                                                                             \n",
       "⎢                ⎛                  2  ⎞                                      \n",
       "⎢           Zₑ⋅s⋅⎝-C⋅Zₘ - C⋅k + Zₘ⋅d ⋅k⎠                                 Zₘ + \n",
       "⎢  ─────────────────────────────────────────────      ────────────────────────\n",
       "⎢                                 2                                           \n",
       "⎢  -C⋅Zₑ⋅Zₘ⋅s - C⋅Zₑ⋅k⋅s + Zₑ⋅Zₘ⋅d ⋅k⋅s - Zₘ - k      C⋅Zₑ⋅Zₘ⋅s + C⋅Zₑ⋅k⋅s - Z\n",
       "⎢                                                                             \n",
       "⎢                                                                             \n",
       "⎢                      Zₘ⋅d⋅k                                             Zₘ⋅d\n",
       "⎢  ─────────────────────────────────────────────    ──────────────────────────\n",
       "⎢                                 2                          2                \n",
       "⎢  -C⋅Zₑ⋅Zₘ⋅s - C⋅Zₑ⋅k⋅s + Zₑ⋅Zₘ⋅d ⋅k⋅s - Zₘ - k    - Zₑ⋅Zₘ⋅d ⋅k⋅s + Zₘ⋅(C⋅Zₑ⋅\n",
       "⎢                                                                             \n",
       "⎢                                                                             \n",
       "⎢                      Zₘ⋅d⋅k                                             Zₘ⋅d\n",
       "⎢─────────────────────────────────────────────────    ────────────────────────\n",
       "⎢         2                                                                   \n",
       "⎣- Zₑ⋅Zₘ⋅d ⋅k⋅s + Zₘ⋅(C⋅Zₑ⋅s + 1) + k⋅(C⋅Zₑ⋅s + 1)    -C⋅Zₑ⋅Zₘ⋅s - C⋅Zₑ⋅k⋅s + \n",
       "\n",
       "         2  ⎞                                                                 \n",
       "⋅k + Zₘ⋅d ⋅k⎠                                 Zₑ⋅d⋅k⋅s                        \n",
       "─────────────────────      ─────────────────────────────────────────────      \n",
       "       2                                                  2                   \n",
       "Zₑ⋅Zₘ⋅d ⋅k⋅s - Zₘ - k      -C⋅Zₑ⋅Zₘ⋅s - C⋅Zₑ⋅k⋅s + Zₑ⋅Zₘ⋅d ⋅k⋅s - Zₘ - k      \n",
       "                                                                              \n",
       "                                                                              \n",
       "k                                            Zₑ⋅d⋅k⋅s                         \n",
       "────────────────────       ────────────────────────────────────────────       \n",
       "      2                                                  2                    \n",
       "ₑ⋅Zₘ⋅d ⋅k⋅s + Zₘ + k       C⋅Zₑ⋅Zₘ⋅s + C⋅Zₑ⋅k⋅s - Zₑ⋅Zₘ⋅d ⋅k⋅s + Zₘ + k       \n",
       "                                                                              \n",
       "                                                                              \n",
       "⋅k                                         k⋅(C⋅Zₑ⋅s + 1)                     \n",
       "───────────────────────  ─────────────────────────────────────────────────    \n",
       "                                  2                                           \n",
       "s + 1) + k⋅(C⋅Zₑ⋅s + 1)  - Zₑ⋅Zₘ⋅d ⋅k⋅s + Zₘ⋅(C⋅Zₑ⋅s + 1) + k⋅(C⋅Zₑ⋅s + 1)    \n",
       "                                                                              \n",
       "                                       ⎛              2        ⎞              \n",
       "⋅k                                  Zₘ⋅⎝-C⋅Zₑ⋅s + Zₑ⋅d ⋅k⋅s - 1⎠              \n",
       "─────────────────────      ─────────────────────────────────────────────    ──\n",
       "       2                                                  2                   \n",
       "Zₑ⋅Zₘ⋅d ⋅k⋅s - Zₘ - k      -C⋅Zₑ⋅Zₘ⋅s - C⋅Zₑ⋅k⋅s + Zₑ⋅Zₘ⋅d ⋅k⋅s - Zₘ - k    - \n",
       "\n",
       "                                               ⎤\n",
       "                  Zₑ⋅d⋅k⋅s                     ⎥\n",
       "────────────────────────────────────────────   ⎥\n",
       "                              2                ⎥\n",
       "C⋅Zₑ⋅Zₘ⋅s + C⋅Zₑ⋅k⋅s - Zₑ⋅Zₘ⋅d ⋅k⋅s + Zₘ + k   ⎥\n",
       "                                               ⎥\n",
       "                                               ⎥\n",
       "                   Zₑ⋅d⋅k⋅s                    ⎥\n",
       "─────────────────────────────────────────────  ⎥\n",
       "                               2               ⎥\n",
       "-C⋅Zₑ⋅Zₘ⋅s - C⋅Zₑ⋅k⋅s + Zₑ⋅Zₘ⋅d ⋅k⋅s - Zₘ - k  ⎥\n",
       "                                               ⎥\n",
       "            ⎛              2        ⎞          ⎥\n",
       "         Zₘ⋅⎝-C⋅Zₑ⋅s + Zₑ⋅d ⋅k⋅s - 1⎠          ⎥\n",
       "─────────────────────────────────────────────  ⎥\n",
       "                               2               ⎥\n",
       "-C⋅Zₑ⋅Zₘ⋅s - C⋅Zₑ⋅k⋅s + Zₑ⋅Zₘ⋅d ⋅k⋅s - Zₘ - k  ⎥\n",
       "                                               ⎥\n",
       "                                               ⎥\n",
       "                k⋅(C⋅Zₑ⋅s + 1)                 ⎥\n",
       "───────────────────────────────────────────────⎥\n",
       "       2                                       ⎥\n",
       "Zₑ⋅Zₘ⋅d ⋅k⋅s + Zₘ⋅(C⋅Zₑ⋅s + 1) + k⋅(C⋅Zₑ⋅s + 1)⎦"
      ]
     },
     "execution_count": 61,
     "metadata": {},
     "output_type": "execute_result"
    }
   ],
   "source": [
    "rel_atob = -rel_b**-1 * rel_a\n",
    "rel_atob.simplify()\n",
    "rel_atob"
   ]
  },
  {
   "cell_type": "code",
   "execution_count": 62,
   "metadata": {
    "collapsed": true
   },
   "outputs": [],
   "source": [
    "from sympy.utilities.lambdify import lambdastr"
   ]
  },
  {
   "cell_type": "code",
   "execution_count": 63,
   "metadata": {
    "collapsed": true
   },
   "outputs": [],
   "source": [
    "e = rel_atob[1,1]\n",
    "def pyval(expr):\n",
    "    sym = list(expr.free_symbols)\n",
    "    return lambdastr(sym, expr).split(':')[1].strip()"
   ]
  },
  {
   "cell_type": "code",
   "execution_count": 30,
   "metadata": {},
   "outputs": [
    {
     "data": {
      "text/plain": [
       "'((Z_m + k)/(C*Z_e*Z_m*s + C*Z_e*k*s - Z_e*Z_m*d**2*k*s + Z_m + k))'"
      ]
     },
     "execution_count": 30,
     "metadata": {},
     "output_type": "execute_result"
    }
   ],
   "source": [
    "pyval(rel_atob[0,0])"
   ]
  },
  {
   "cell_type": "code",
   "execution_count": 21,
   "metadata": {},
   "outputs": [
    {
     "data": {
      "text/plain": [
       "'((Z_m + k)/(C*Z_e*Z_m*s + C*Z_e*k*s - Z_e*Z_m*d**2*k*s + Z_m + k))'"
      ]
     },
     "execution_count": 21,
     "metadata": {},
     "output_type": "execute_result"
    }
   ],
   "source": [
    "pyval(rel_atob[1,1])"
   ]
  },
  {
   "cell_type": "code",
   "execution_count": 22,
   "metadata": {},
   "outputs": [
    {
     "data": {
      "text/plain": [
       "'(Z_e*s*(-C*Z_m - C*k + Z_m*d**2*k)/(-C*Z_e*Z_m*s - C*Z_e*k*s + Z_e*Z_m*d**2*k*s - Z_m - k))'"
      ]
     },
     "execution_count": 22,
     "metadata": {},
     "output_type": "execute_result"
    }
   ],
   "source": [
    "pyval(rel_atob[0,1])"
   ]
  },
  {
   "cell_type": "code",
   "execution_count": 36,
   "metadata": {},
   "outputs": [
    {
     "data": {
      "text/plain": [
       "'(Z_e*s*(-C*Z_m*k - C + d**2*k)/(-C*Z_e*Z_m*k*s - C*Z_e*s + Z_e*d**2*k*s - Z_m*k - 1))'"
      ]
     },
     "execution_count": 36,
     "metadata": {},
     "output_type": "execute_result"
    }
   ],
   "source": [
    "pyval(rel_atob[1,0])"
   ]
  },
  {
   "cell_type": "code",
   "execution_count": null,
   "metadata": {
    "collapsed": true
   },
   "outputs": [],
   "source": []
  }
 ],
 "metadata": {
  "kernelspec": {
   "display_name": "Python 3",
   "language": "python",
   "name": "python3"
  },
  "language_info": {
   "codemirror_mode": {
    "name": "ipython",
    "version": 3
   },
   "file_extension": ".py",
   "mimetype": "text/x-python",
   "name": "python",
   "nbconvert_exporter": "python",
   "pygments_lexer": "ipython3",
   "version": "3.5.3"
  },
  "latex_envs": {
   "bibliofile": "biblio.bib",
   "cite_by": "apalike",
   "current_citInitial": 1,
   "eqLabelWithNumbers": true,
   "eqNumInitial": 0
  }
 },
 "nbformat": 4,
 "nbformat_minor": 1
}
