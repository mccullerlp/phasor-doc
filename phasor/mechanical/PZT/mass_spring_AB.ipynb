{
 "cells": [
  {
   "cell_type": "code",
   "execution_count": 1,
   "metadata": {
    "collapsed": true
   },
   "outputs": [],
   "source": [
    "import sys\n",
    "from __future__ import division"
   ]
  },
  {
   "cell_type": "code",
   "execution_count": 2,
   "metadata": {},
   "outputs": [
    {
     "name": "stdout",
     "output_type": "stream",
     "text": [
      "Populating the interactive namespace from numpy and matplotlib\n"
     ]
    }
   ],
   "source": [
    "import numpy as np\n",
    "from phasor.utilities.ipynb.displays import *\n",
    "#from YALL.utilities.tabulate import tabulate\n",
    "\n",
    "import declarative\n",
    "\n",
    "from declarative.bunch import (\n",
    "    DeepBunch\n",
    ")\n",
    "\n",
    "import phasor.math.dispatched as dmath \n",
    "#import phasor.math.dispatch_sympy"
   ]
  },
  {
   "cell_type": "code",
   "execution_count": 3,
   "metadata": {},
   "outputs": [
    {
     "name": "stdout",
     "output_type": "stream",
     "text": [
      "b'2017-09-22 09:45:51 -0400 (a76310c5d4476904171a3f1b18117db454719432)'\n",
      "Sympy version:  1.0\n"
     ]
    }
   ],
   "source": [
    "import phasor.utilities.version as version\n",
    "print(version.foundations_version())\n",
    "\n",
    "from phasor.utilities.np import logspaced\n",
    "from phasor.utilities.ipynb.sympy import *\n",
    "\n",
    "from phasor import optics\n",
    "from phasor import base \n",
    "from phasor import signals \n",
    "from phasor import system\n",
    "from phasor import readouts \n",
    "from phasor import mechanical"
   ]
  },
  {
   "cell_type": "code",
   "execution_count": 11,
   "metadata": {},
   "outputs": [
    {
     "data": {
      "image/png": "[encoded data removed]",
      "text/latex": [
       "$$- F + M l_{\\delta} s^{2}$$"
      ],
      "text/plain": [
       "            2\n",
       "-F + M⋅l_δ⋅s "
      ]
     },
     "metadata": {},
     "output_type": "display_data"
    },
    {
     "data": {
      "image/png": "[encoded data removed]",
      "text/latex": [
       "$$\\left[\\begin{matrix}F - k l_{\\delta}\\end{matrix}\\right]$$"
      ],
      "text/plain": [
       "[F - k⋅l_δ]"
      ]
     },
     "execution_count": 11,
     "metadata": {},
     "output_type": "execute_result"
    }
   ],
   "source": [
    "M = sympy.var('M')\n",
    "k = sympy.var('k')\n",
    "F = sympy.var('F')\n",
    "\n",
    "s = sympy.var('s')\n",
    "\n",
    "V = sympy.var('V')\n",
    "I = sympy.var('I')\n",
    "C = sympy.var('C')\n",
    "\n",
    "d_l = sympy.var('l_delta')\n",
    "\n",
    "Z_m = sympy.var('Z_m', real = True)\n",
    "k_m = sympy.sqrt(1/sympy.im(Z_m))\n",
    "k_m = sympy.var('k_m', real = True)\n",
    "k_m = sympy.sympify(1)\n",
    "\n",
    "expr1 = M * d_l * s**2  - F\n",
    "display(expr1)\n",
    "\n",
    "rel = sympy.Matrix([[M * s**2, -1]])\n",
    "rel = sympy.Matrix([[k, -1]])\n",
    "rel = sympy.Matrix([[1, -k]])\n",
    "var = sympy.Matrix([F, d_l])\n",
    "rel * var"
   ]
  },
  {
   "cell_type": "code",
   "execution_count": 13,
   "metadata": {},
   "outputs": [
    {
     "data": {
      "image/png": "[encoded data removed]",
      "text/latex": [
       "$$\\left[\\begin{matrix}\\frac{F}{2} + \\frac{Z_{m} l_{\\delta}}{2}\\\\\\frac{F}{2} - \\frac{Z_{m} l_{\\delta}}{2}\\end{matrix}\\right]$$"
      ],
      "text/plain": [
       "⎡F   Zₘ⋅l_δ⎤\n",
       "⎢─ + ──────⎥\n",
       "⎢2     2   ⎥\n",
       "⎢          ⎥\n",
       "⎢F   Zₘ⋅l_δ⎥\n",
       "⎢─ - ──────⎥\n",
       "⎣2     2   ⎦"
      ]
     },
     "execution_count": 13,
     "metadata": {},
     "output_type": "execute_result"
    }
   ],
   "source": [
    "trans = sympy.Matrix([\n",
    "    [k_m/2,  k_m/2 * Z_m            ],\n",
    "    [k_m/2, -k_m/2 * Z_m.conjugate()],\n",
    "])\n",
    "trans * var"
   ]
  },
  {
   "cell_type": "code",
   "execution_count": 14,
   "metadata": {},
   "outputs": [
    {
     "data": {
      "image/png": "[encoded data removed]",
      "text/latex": [
       "$$\\left[\\begin{matrix}1 & 1\\\\\\frac{1}{Z_{m}} & - \\frac{1}{Z_{m}}\\end{matrix}\\right]$$"
      ],
      "text/plain": [
       "⎡1    1 ⎤\n",
       "⎢       ⎥\n",
       "⎢1   -1 ⎥\n",
       "⎢──  ───⎥\n",
       "⎣Zₘ   Zₘ⎦"
      ]
     },
     "execution_count": 14,
     "metadata": {},
     "output_type": "execute_result"
    }
   ],
   "source": [
    "trans**-1"
   ]
  },
  {
   "cell_type": "code",
   "execution_count": 15,
   "metadata": {
    "collapsed": true
   },
   "outputs": [],
   "source": [
    "rel_ab = rel * trans**-1\n",
    "rel_a = rel_ab[:,::2]\n",
    "rel_b = rel_ab[:,1::2]\n"
   ]
  },
  {
   "cell_type": "code",
   "execution_count": 16,
   "metadata": {},
   "outputs": [
    {
     "data": {
      "image/png": "[encoded data removed]",
      "text/latex": [
       "$$\\left[\\begin{matrix}1 + \\frac{k}{Z_{m}}\\end{matrix}\\right]$$"
      ],
      "text/plain": [
       "⎡    k ⎤\n",
       "⎢1 + ──⎥\n",
       "⎣    Zₘ⎦"
      ]
     },
     "execution_count": 16,
     "metadata": {},
     "output_type": "execute_result"
    }
   ],
   "source": [
    "rel_b"
   ]
  },
  {
   "cell_type": "code",
   "execution_count": 17,
   "metadata": {},
   "outputs": [
    {
     "data": {
      "image/png": "[encoded data removed]",
      "text/latex": [
       "$$\\left[\\begin{matrix}\\frac{- Z_{m} + k}{Z_{m} + k}\\end{matrix}\\right]$$"
      ],
      "text/plain": [
       "⎡-Zₘ + k⎤\n",
       "⎢───────⎥\n",
       "⎣ Zₘ + k⎦"
      ]
     },
     "execution_count": 17,
     "metadata": {},
     "output_type": "execute_result"
    }
   ],
   "source": [
    "rel_atob = -rel_b**-1 * rel_a\n",
    "rel_atob.simplify()\n",
    "rel_atob"
   ]
  },
  {
   "cell_type": "code",
   "execution_count": null,
   "metadata": {
    "collapsed": true
   },
   "outputs": [],
   "source": []
  },
  {
   "cell_type": "code",
   "execution_count": null,
   "metadata": {
    "collapsed": true
   },
   "outputs": [],
   "source": []
  }
 ],
 "metadata": {
  "kernelspec": {
   "display_name": "Python 3",
   "language": "python",
   "name": "python3"
  },
  "language_info": {
   "codemirror_mode": {
    "name": "ipython",
    "version": 3
   },
   "file_extension": ".py",
   "mimetype": "text/x-python",
   "name": "python",
   "nbconvert_exporter": "python",
   "pygments_lexer": "ipython3",
   "version": "3.5.3"
  },
  "latex_envs": {
   "bibliofile": "biblio.bib",
   "cite_by": "apalike",
   "current_citInitial": 1,
   "eqLabelWithNumbers": true,
   "eqNumInitial": 0
  }
 },
 "nbformat": 4,
 "nbformat_minor": 1
}
