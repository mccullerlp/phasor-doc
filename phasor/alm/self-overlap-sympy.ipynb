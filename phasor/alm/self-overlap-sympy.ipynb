{
 "cells": [
  {
   "cell_type": "code",
   "execution_count": 1,
   "metadata": {},
   "outputs": [
    {
     "name": "stdout",
     "output_type": "stream",
     "text": [
      "3.5.3 (default, May 10 2017, 15:05:55) \n",
      "[GCC 6.3.1 20161221 (Red Hat 6.3.1-1)]\n",
      "Populating the interactive namespace from numpy and matplotlib\n"
     ]
    },
    {
     "data": {
      "application/javascript": [
       "IPython.notebook.kernel.execute(\"setup_asavefig('\"+IPython.notebook.notebook_name+\"')\");"
      ],
      "text/plain": [
       "<IPython.core.display.Javascript object>"
      ]
     },
     "metadata": {},
     "output_type": "display_data"
    },
    {
     "name": "stdout",
     "output_type": "stream",
     "text": [
      "Sympy version:  1.0\n"
     ]
    }
   ],
   "source": [
    "import sys\n",
    "import numpy as np\n",
    "print(sys.version)\n",
    "\n",
    "import declarative\n",
    "from phasor.utilities.ipynb.displays import *\n",
    "from phasor.utilities.ipynb.sympy import *\n",
    "\n",
    "from phasor import alm"
   ]
  },
  {
   "cell_type": "code",
   "execution_count": 2,
   "metadata": {},
   "outputs": [],
   "source": [
    "class SympyBeamParam(alm.ComplexBeamParam):\n",
    "    #have to patch the conversion of everything into Complex types\n",
    "    @staticmethod\n",
    "    def complex(val):\n",
    "        return sympy.re(val) + sympy.I * sympy.im(val)\n",
    "    \n",
    "    pi = sympy.pi\n",
    "    I = sympy.I"
   ]
  },
  {
   "cell_type": "code",
   "execution_count": 11,
   "metadata": {},
   "outputs": [],
   "source": [
    "z0 = sympy.var('z_0', real = True)\n",
    "zR = sympy.var('z_R', real = True)\n",
    "dZ = sympy.var('dZ', real = True)\n",
    "wlen = sympy.var('lambda', real = True)\n",
    "q = SympyBeamParam.from_Z_ZR(z0, zR, wavelen=wlen)\n",
    "q2 = q.propagate_distance(dZ)\n",
    "olap = q.overlap_with(q2)"
   ]
  },
  {
   "cell_type": "code",
   "execution_count": 12,
   "metadata": {},
   "outputs": [
    {
     "data": {
      "image/png": "[encoded data removed]",
      "text/latex": [
       "$$- \\frac{2 i z_{R} \\left(z_{0} + i z_{R}\\right) \\left(dZ + z_{0} - i z_{R}\\right)}{\\left(dZ - 2 i z_{R}\\right) \\sqrt{z_{0}^{2} + z_{R}^{2}} \\sqrt{z_{R}^{2} + \\left(dZ + z_{0}\\right)^{2}}}$$"
      ],
      "text/plain": [
       "       -2⋅ⅈ⋅z_R⋅(z₀ + ⅈ⋅z_R)⋅(dZ + z₀ - ⅈ⋅z_R)       \n",
       "─────────────────────────────────────────────────────\n",
       "                  ____________    ___________________\n",
       "                 ╱   2      2    ╱    2            2 \n",
       "(dZ - 2⋅ⅈ⋅z_R)⋅╲╱  z₀  + z_R  ⋅╲╱  z_R  + (dZ + z₀)  "
      ]
     },
     "execution_count": 12,
     "metadata": {},
     "output_type": "execute_result"
    }
   ],
   "source": [
    "olap.simplify()"
   ]
  },
  {
   "cell_type": "code",
   "execution_count": 13,
   "metadata": {},
   "outputs": [
    {
     "data": {
      "image/png": "[encoded data removed]",
      "text/latex": [
       "$$- \\frac{i \\left(z_{0}^{2} - z_{R}^{2}\\right)}{2 z_{R} \\left(z_{0}^{2} + z_{R}^{2}\\right)}$$"
      ],
      "text/plain": [
       "    ⎛  2      2⎞  \n",
       " -ⅈ⋅⎝z₀  - z_R ⎠  \n",
       "──────────────────\n",
       "      ⎛  2      2⎞\n",
       "2⋅z_R⋅⎝z₀  + z_R ⎠"
      ]
     },
     "execution_count": 13,
     "metadata": {},
     "output_type": "execute_result"
    }
   ],
   "source": [
    "dolap = olap.diff(dZ)\n",
    "dolap.subs(dZ, 0).simplify()"
   ]
  },
  {
   "cell_type": "code",
   "execution_count": 14,
   "metadata": {},
   "outputs": [
    {
     "data": {
      "image/png": "[encoded data removed]",
      "text/latex": [
       "$$- \\frac{z_{0}^{4} + 4 i z_{0} z_{R}^{3} + z_{R}^{4}}{2 z_{R}^{2} \\left(z_{0}^{4} + 2 z_{0}^{2} z_{R}^{2} + z_{R}^{4}\\right)}$$"
      ],
      "text/plain": [
       "   ⎛  4             3      4⎞   \n",
       "  -⎝z₀  + 4⋅ⅈ⋅z₀⋅z_R  + z_R ⎠   \n",
       "────────────────────────────────\n",
       "     2 ⎛  4       2    2      4⎞\n",
       "2⋅z_R ⋅⎝z₀  + 2⋅z₀ ⋅z_R  + z_R ⎠"
      ]
     },
     "execution_count": 14,
     "metadata": {},
     "output_type": "execute_result"
    }
   ],
   "source": [
    "ddolap = olap.diff(dZ).diff(dZ)\n",
    "ddolap.subs(dZ, 0).simplify()"
   ]
  },
  {
   "cell_type": "code",
   "execution_count": 15,
   "metadata": {},
   "outputs": [
    {
     "data": {
      "image/png": "[encoded data removed]",
      "text/latex": [
       "$$\\frac{1.0 i \\left|{\\lambda}\\right| \\left|{z_{R}}\\right|}{\\lambda \\sqrt{z_{0}^{4} + z_{R}^{2} \\left(2 z_{0}^{2} + z_{R}^{2}\\right)}}$$"
      ],
      "text/plain": [
       "        1.0⋅ⅈ⋅│λ│⋅│z_R│         \n",
       "────────────────────────────────\n",
       "     ___________________________\n",
       "    ╱   4      2 ⎛    2      2⎞ \n",
       "λ⋅╲╱  z₀  + z_R ⋅⎝2⋅z₀  + z_R ⎠ "
      ]
     },
     "execution_count": 15,
     "metadata": {},
     "output_type": "execute_result"
    }
   ],
   "source": [
    "gouy = q2.gouy_phasor / abs(q2.gouy_phasor )\n",
    "dgouy = gouy.diff(dZ)\n",
    "dgouy.subs(dZ, 0).simplify()"
   ]
  },
  {
   "cell_type": "code",
   "execution_count": null,
   "metadata": {
    "collapsed": true
   },
   "outputs": [],
   "source": []
  }
 ],
 "metadata": {
  "kernelspec": {
   "display_name": "Python 3",
   "language": "python",
   "name": "python3"
  },
  "language_info": {
   "codemirror_mode": {
    "name": "ipython",
    "version": 3
   },
   "file_extension": ".py",
   "mimetype": "text/x-python",
   "name": "python",
   "nbconvert_exporter": "python",
   "pygments_lexer": "ipython3",
   "version": "3.5.3"
  },
  "latex_envs": {
   "bibliofile": "biblio.bib",
   "cite_by": "apalike",
   "current_citInitial": 1,
   "eqLabelWithNumbers": true,
   "eqNumInitial": 0
  }
 },
 "nbformat": 4,
 "nbformat_minor": 1
}
