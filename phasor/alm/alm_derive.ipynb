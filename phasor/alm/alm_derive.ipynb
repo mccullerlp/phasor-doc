{
 "cells": [
  {
   "cell_type": "code",
   "execution_count": 1,
   "metadata": {},
   "outputs": [
    {
     "name": "stdout",
     "output_type": "stream",
     "text": [
      "3.5.3 (default, May 10 2017, 15:05:55) \n",
      "[GCC 6.3.1 20161221 (Red Hat 6.3.1-1)]\n",
      "Populating the interactive namespace from numpy and matplotlib\n",
      "Sympy version:  1.0\n"
     ]
    }
   ],
   "source": [
    "import sys\n",
    "import numpy as np\n",
    "print(sys.version)\n",
    "\n",
    "import declarative\n",
    "from phasor.utilities.ipynb.displays import *\n",
    "from phasor.utilities.ipynb.sympy import *\n",
    "\n",
    "from phasor import alm"
   ]
  },
  {
   "cell_type": "code",
   "execution_count": 440,
   "metadata": {},
   "outputs": [
    {
     "data": {
      "image/png": "[encoded data removed]",
      "text/latex": [
       "$$i k \\theta x - \\frac{2 x^{2}}{w^{2}} - \\frac{2 x}{w^{2}} x_{\\delta} - \\frac{x_{\\delta}^{2}}{w^{2}} + \\frac{i k}{R} x x_{\\delta} + \\frac{i k x_{\\delta}^{2}}{2 R}$$"
      ],
      "text/plain": [
       "             2                2                      2\n",
       "          2⋅x    2⋅x⋅x_δ   x_δ    ⅈ⋅k⋅x⋅x_δ   ⅈ⋅k⋅x_δ \n",
       "ⅈ⋅k⋅θ⋅x - ──── - ─────── - ──── + ───────── + ────────\n",
       "            2        2       2        R         2⋅R   \n",
       "           w        w       w                         "
      ]
     },
     "execution_count": 440,
     "metadata": {},
     "output_type": "execute_result"
    }
   ],
   "source": [
    "w = sympy.var('w',real = True)\n",
    "w0 = sympy.var('w_0',real = True)\n",
    "xd = sympy.var('x_delta',real = True)\n",
    "x = sympy.var('x',real = True)\n",
    "theta = sympy.var('theta',real = True)\n",
    "k = sympy.var('k',real = True)\n",
    "R = sympy.var('R',real = True)\n",
    "z0 = sympy.var('z_0',real = True)\n",
    "zR = sympy.var('z_R',real = True)\n",
    "\n",
    "ex = -2/w**2 * (x**2 + x * xd + xd**2/2 - sympy.I * k * w**2/2 * (x * xd / R + xd**2/(2 * R) + theta * x))\n",
    "ex = ex.expand()\n",
    "ex"
   ]
  },
  {
   "cell_type": "code",
   "execution_count": 424,
   "metadata": {},
   "outputs": [],
   "source": [
    "a = -ex.coeff(x, 2)\n",
    "b = ex.coeff(x, 1)\n",
    "c = ex.coeff(x, 0)"
   ]
  },
  {
   "cell_type": "code",
   "execution_count": 425,
   "metadata": {},
   "outputs": [],
   "source": [
    "ex2 = sympy.sqrt(2/sympy.pi / w**2) * sympy.sqrt(sympy.pi / a) * sympy.exp(b**2 / (4 * a) + c)"
   ]
  },
  {
   "cell_type": "code",
   "execution_count": 426,
   "metadata": {},
   "outputs": [
    {
     "data": {
      "image/png": "[encoded data removed]",
      "text/latex": [
       "$$e^{- \\frac{x_{\\delta}^{2}}{w^{2}}} e^{\\frac{1}{8 R^{2} w^{2}} \\left(i R k \\theta w^{2} - 2 R x_{\\delta} + i k w^{2} x_{\\delta}\\right)^{2}} e^{\\frac{i k x_{\\delta}^{2}}{2 R}}$$"
      ],
      "text/plain": [
       "                                            2          \n",
       "     2   ⎛         2                  2    ⎞           \n",
       " -x_δ    ⎝ⅈ⋅R⋅k⋅θ⋅w  - 2⋅R⋅x_δ + ⅈ⋅k⋅w ⋅x_δ⎠          2\n",
       " ──────  ────────────────────────────────────  ⅈ⋅k⋅x_δ \n",
       "    2                     2  2                 ────────\n",
       "   w                   8⋅R ⋅w                    2⋅R   \n",
       "ℯ      ⋅ℯ                                    ⋅ℯ        "
      ]
     },
     "execution_count": 426,
     "metadata": {},
     "output_type": "execute_result"
    }
   ],
   "source": [
    "ex2.simplify()"
   ]
  },
  {
   "cell_type": "code",
   "execution_count": 427,
   "metadata": {},
   "outputs": [
    {
     "data": {
      "image/png": "[encoded data removed]",
      "text/latex": [
       "$$- \\frac{k^{2} \\theta^{2}}{8} w^{2} - \\frac{i k}{2} \\theta x_{\\delta} - \\frac{x_{\\delta}^{2}}{2 w^{2}} - \\frac{k^{2} \\theta w^{2} x_{\\delta}}{4 R} - \\frac{k^{2} w^{2} x_{\\delta}^{2}}{8 R^{2}}$$"
      ],
      "text/plain": [
       "   2  2  2                  2    2    2        2  2    2\n",
       "  k ⋅θ ⋅w    ⅈ⋅k⋅θ⋅x_δ   x_δ    k ⋅θ⋅w ⋅x_δ   k ⋅w ⋅x_δ \n",
       "- ──────── - ───────── - ──── - ─────────── - ──────────\n",
       "     8           2          2       4⋅R             2   \n",
       "                         2⋅w                     8⋅R    "
      ]
     },
     "execution_count": 427,
     "metadata": {},
     "output_type": "execute_result"
    }
   ],
   "source": [
    "ex2 = b**2 / (4 * a) + c\n",
    "ex2 = ex2.expand().simplify()\n",
    "ex2"
   ]
  },
  {
   "cell_type": "code",
   "execution_count": 428,
   "metadata": {},
   "outputs": [],
   "source": [
    "x12 = ex2.coeff(xd, 1).coeff(theta, 1) / 2\n",
    "x11 = ex2.coeff(xd, 2).coeff(theta, 0)\n",
    "x22 = ex2.coeff(xd, 0).coeff(theta, 2)\n",
    "x12 = sympy.re(x12)\n",
    "x22 = sympy.re(x22)\n",
    "x11 = sympy.re(x11)"
   ]
  },
  {
   "cell_type": "code",
   "execution_count": 429,
   "metadata": {},
   "outputs": [
    {
     "data": {
      "image/png": "[encoded data removed]",
      "text/latex": [
       "$$- \\frac{k^{2} w^{2}}{8 R}$$"
      ],
      "text/plain": [
       "  2  2 \n",
       "-k ⋅w  \n",
       "───────\n",
       "  8⋅R  "
      ]
     },
     "execution_count": 429,
     "metadata": {},
     "output_type": "execute_result"
    }
   ],
   "source": [
    "x12"
   ]
  },
  {
   "cell_type": "code",
   "execution_count": 430,
   "metadata": {},
   "outputs": [
    {
     "data": {
      "image/png": "[encoded data removed]",
      "text/latex": [
       "$$- \\frac{1}{2 w^{2}} - \\frac{k^{2} w^{2}}{8 R^{2}}$$"
      ],
      "text/plain": [
       "          2  2\n",
       "   1     k ⋅w \n",
       "- ──── - ─────\n",
       "     2       2\n",
       "  2⋅w     8⋅R "
      ]
     },
     "execution_count": 430,
     "metadata": {},
     "output_type": "execute_result"
    }
   ],
   "source": [
    "x11"
   ]
  },
  {
   "cell_type": "code",
   "execution_count": 431,
   "metadata": {},
   "outputs": [
    {
     "data": {
      "image/png": "[encoded data removed]",
      "text/latex": [
       "$$- \\frac{k^{2} w^{2}}{8}$$"
      ],
      "text/plain": [
       "  2  2 \n",
       "-k ⋅w  \n",
       "───────\n",
       "   8   "
      ]
     },
     "execution_count": 431,
     "metadata": {},
     "output_type": "execute_result"
    }
   ],
   "source": [
    "x22"
   ]
  },
  {
   "cell_type": "code",
   "execution_count": 432,
   "metadata": {},
   "outputs": [],
   "source": [
    "M = sympy.Matrix([[x11, x12], [x12, x22]])\n",
    "M\n",
    "v = sympy.Matrix([[xd], [theta]])"
   ]
  },
  {
   "cell_type": "code",
   "execution_count": 433,
   "metadata": {},
   "outputs": [
    {
     "data": {
      "image/png": "[encoded data removed]",
      "text/latex": [
       "$$- \\frac{k^{2} \\theta^{2}}{8} w^{2} - \\frac{x_{\\delta}^{2}}{2 w^{2}} - \\frac{k^{2} \\theta w^{2} x_{\\delta}}{4 R} - \\frac{k^{2} w^{2} x_{\\delta}^{2}}{8 R^{2}}$$"
      ],
      "text/plain": [
       "   2  2  2      2    2    2        2  2    2\n",
       "  k ⋅θ ⋅w    x_δ    k ⋅θ⋅w ⋅x_δ   k ⋅w ⋅x_δ \n",
       "- ──────── - ──── - ─────────── - ──────────\n",
       "     8          2       4⋅R             2   \n",
       "             2⋅w                     8⋅R    "
      ]
     },
     "execution_count": 433,
     "metadata": {},
     "output_type": "execute_result"
    }
   ],
   "source": [
    "full = v.T * M *v\n",
    "full[0,0].expand()"
   ]
  },
  {
   "cell_type": "code",
   "execution_count": 434,
   "metadata": {},
   "outputs": [
    {
     "data": {
      "image/png": "[encoded data removed]",
      "text/latex": [
       "$$\\left[\\begin{matrix}- \\frac{1}{2 w^{2}} - \\frac{k^{2} w^{2}}{8 R^{2}} & - \\frac{k^{2} w^{2}}{8 R}\\\\- \\frac{k^{2} w^{2}}{8 R} & - \\frac{k^{2} w^{2}}{8}\\end{matrix}\\right]$$"
      ],
      "text/plain": [
       "⎡          2  2    2  2 ⎤\n",
       "⎢   1     k ⋅w   -k ⋅w  ⎥\n",
       "⎢- ──── - ─────  ───────⎥\n",
       "⎢     2       2    8⋅R  ⎥\n",
       "⎢  2⋅w     8⋅R          ⎥\n",
       "⎢                       ⎥\n",
       "⎢     2  2         2  2 ⎥\n",
       "⎢   -k ⋅w        -k ⋅w  ⎥\n",
       "⎢   ───────      ───────⎥\n",
       "⎣     8⋅R           8   ⎦"
      ]
     },
     "execution_count": 434,
     "metadata": {},
     "output_type": "execute_result"
    }
   ],
   "source": [
    "M"
   ]
  },
  {
   "cell_type": "code",
   "execution_count": 435,
   "metadata": {},
   "outputs": [
    {
     "data": {
      "image/png": "[encoded data removed]",
      "text/latex": [
       "$$\\frac{w^{2}}{2} \\left(i k \\theta - \\frac{2 x_{\\delta}}{w^{2}} + \\frac{i k}{R} x_{\\delta}\\right)^{2}$$"
      ],
      "text/plain": [
       "                            2\n",
       " 2 ⎛        2⋅x_δ   ⅈ⋅k⋅x_δ⎞ \n",
       "w ⋅⎜ⅈ⋅k⋅θ - ───── + ───────⎟ \n",
       "   ⎜           2       R   ⎟ \n",
       "   ⎝          w            ⎠ \n",
       "─────────────────────────────\n",
       "              2              "
      ]
     },
     "execution_count": 435,
     "metadata": {},
     "output_type": "execute_result"
    }
   ],
   "source": [
    "b**2 / a"
   ]
  },
  {
   "cell_type": "code",
   "execution_count": 422,
   "metadata": {},
   "outputs": [
    {
     "data": {
      "image/png": "[encoded data removed]",
      "text/latex": [
       "$$- \\frac{x_{\\delta}^{2}}{w^{2}} + \\frac{i k x_{\\delta}^{2}}{2 R}$$"
      ],
      "text/plain": [
       "     2          2\n",
       "  x_δ    ⅈ⋅k⋅x_δ \n",
       "- ──── + ────────\n",
       "    2      2⋅R   \n",
       "   w             "
      ]
     },
     "execution_count": 422,
     "metadata": {},
     "output_type": "execute_result"
    }
   ],
   "source": [
    "c"
   ]
  },
  {
   "cell_type": "code",
   "execution_count": 439,
   "metadata": {},
   "outputs": [
    {
     "data": {
      "image/png": "[encoded data removed]",
      "text/latex": [
       "$$\\left[\\begin{matrix}- \\frac{1}{2 w_{0}} & - \\frac{k^{2} w^{2}}{8 R}\\\\- \\frac{k^{2} w^{2}}{8 R} & - \\frac{k^{2} w^{2}}{8}\\end{matrix}\\right]$$"
      ],
      "text/plain": [
       "⎡           2  2 ⎤\n",
       "⎢ -1      -k ⋅w  ⎥\n",
       "⎢ ────    ───────⎥\n",
       "⎢ 2⋅w₀      8⋅R  ⎥\n",
       "⎢                ⎥\n",
       "⎢  2  2     2  2 ⎥\n",
       "⎢-k ⋅w    -k ⋅w  ⎥\n",
       "⎢───────  ───────⎥\n",
       "⎣  8⋅R       8   ⎦"
      ]
     },
     "execution_count": 439,
     "metadata": {},
     "output_type": "execute_result"
    }
   ],
   "source": [
    "M2 = sympy.Matrix([[-1/(2 * w0), x12], [x12, x22]])\n",
    "M2"
   ]
  },
  {
   "cell_type": "code",
   "execution_count": 448,
   "metadata": {},
   "outputs": [
    {
     "data": {
      "image/png": "[encoded data removed]",
      "text/latex": [
       "$$\\left[\\begin{matrix}- \\frac{k}{4 z_{R}} & - \\frac{k z_{0}}{4 z_{R}}\\\\- \\frac{k z_{0}}{4 z_{R}} & - \\frac{k \\left(z_{0}^{2} + z_{R}^{2}\\right)}{4 z_{R}}\\end{matrix}\\right]$$"
      ],
      "text/plain": [
       "⎡ -k          -k⋅z₀      ⎤\n",
       "⎢─────        ──────     ⎥\n",
       "⎢4⋅z_R        4⋅z_R      ⎥\n",
       "⎢                        ⎥\n",
       "⎢           ⎛  2      2⎞ ⎥\n",
       "⎢-k⋅z₀   -k⋅⎝z₀  + z_R ⎠ ⎥\n",
       "⎢──────  ────────────────⎥\n",
       "⎣4⋅z_R        4⋅z_R      ⎦"
      ]
     },
     "execution_count": 448,
     "metadata": {},
     "output_type": "execute_result"
    }
   ],
   "source": [
    "M3 = -k/(4*zR) * sympy.Matrix([[1, z0], [z0, (z0**2 + zR**2)]])\n",
    "M3"
   ]
  },
  {
   "cell_type": "code",
   "execution_count": null,
   "metadata": {
    "collapsed": true
   },
   "outputs": [],
   "source": []
  }
 ],
 "metadata": {
  "kernelspec": {
   "display_name": "Python 3",
   "language": "python",
   "name": "python3"
  },
  "language_info": {
   "codemirror_mode": {
    "name": "ipython",
    "version": 3
   },
   "file_extension": ".py",
   "mimetype": "text/x-python",
   "name": "python",
   "nbconvert_exporter": "python",
   "pygments_lexer": "ipython3",
   "version": "3.5.3"
  },
  "latex_envs": {
   "bibliofile": "biblio.bib",
   "cite_by": "apalike",
   "current_citInitial": 1,
   "eqLabelWithNumbers": true,
   "eqNumInitial": 0
  }
 },
 "nbformat": 4,
 "nbformat_minor": 1
}
