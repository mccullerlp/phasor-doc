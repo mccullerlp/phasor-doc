{
 "cells": [
  {
   "cell_type": "code",
   "execution_count": 2,
   "metadata": {
    "collapsed": false,
    "deletable": true,
    "editable": true
   },
   "outputs": [
    {
     "name": "stderr",
     "output_type": "stream",
     "text": [
      "/usr/lib64/python3.5/site-packages/matplotlib/font_manager.py:273: UserWarning: Matplotlib is building the font cache using fc-list. This may take a moment.\n",
      "  warnings.warn('Matplotlib is building the font cache using fc-list. This may take a moment.')\n",
      "/usr/lib64/python3.5/site-packages/matplotlib/font_manager.py:273: UserWarning: Matplotlib is building the font cache using fc-list. This may take a moment.\n",
      "  warnings.warn('Matplotlib is building the font cache using fc-list. This may take a moment.')\n"
     ]
    },
    {
     "name": "stdout",
     "output_type": "stream",
     "text": [
      "Populating the interactive namespace from numpy and matplotlib\n",
      "Sympy version:  1.0\n"
     ]
    }
   ],
   "source": [
    "import sympy\n",
    "from phasor.utilities.ipynb.displays import *\n",
    "from phasor.utilities.ipynb.ipy_sympy import *\n",
    "import scipy.linalg"
   ]
  },
  {
   "cell_type": "code",
   "execution_count": 94,
   "metadata": {
    "collapsed": false,
    "deletable": true,
    "editable": true
   },
   "outputs": [],
   "source": [
    "a, b, c= sympy.var('a, b, c')\n",
    "ac, bc, cc = a.conjugate(), b.conjugate(), c.conjugate()\n",
    "X = sympy.ps_In * sympy.Matrix([\n",
    "[0,        0,        1 * bc, 0,        1 * c,   0],\n",
    "[0,        0,        1 * ac, 1 * c,   0,        0],\n",
    "[2 * b,   2 * a,   0,       0,        0,        0],\n",
    "[0,        -1 * cc, 0,       0,        0,        -1 * b],\n",
    "[-1 * cc, 0,        0,       0,        0,        -1 * a],\n",
    "[0,        0,        0,       -2 * bc, -2 * ac, 0],       \n",
    "])\n",
    "\n",
    "X = sympy.ps_In * sympy.Matrix([\n",
    "[0,       1 * ac, 1 * c,   0],\n",
    "[2 * a,   0,      0,       0],\n",
    "[-1 * cc, 0,      0,       -1 * a],\n",
    "[0,       0,      -2 * ac, 0],      \n",
    "])\n",
    "\n",
    "RX = sympy.Matrix([a,c,ac,cc])\n",
    "\n",
    "G = np.matrix([\n",
    "    [0,  0,  0,  1, 0, 0],\n",
    "    [0,  0,  0,  0, 1, 0],\n",
    "    [0,  0,  0,  0, 0, 1],\n",
    "    [-1, 0,  0,  0, 0, 0],\n",
    "    [0,  -1, 0,  0, 0, 0],\n",
    "    [0,  0,  -1, 0, 0, 0],\n",
    "])"
   ]
  },
  {
   "cell_type": "code",
   "execution_count": 108,
   "metadata": {
    "collapsed": false
   },
   "outputs": [],
   "source": [
    "dX = X * RX\n",
    "tau = .1\n",
    "X2 = X.subs([(a, a + tau * dX[0]/4), (c, c + tau * dX[1]/4)])"
   ]
  },
  {
   "cell_type": "code",
   "execution_count": 109,
   "metadata": {
    "collapsed": false,
    "deletable": true,
    "editable": true
   },
   "outputs": [],
   "source": [
    "R = np.matrix([.1,0,1,.1,0,1]).T\n",
    "subs = [(a, 1), (b, 0.02003302j), (c, 1j)]\n",
    "T = np.matrix(X2.subs(subs).evalf()).astype(complex)\n",
    "R = np.matrix(RX.subs(subs).evalf()).astype(complex)\n",
    "#R = np.matrix([1,1j,1,-1j]).T"
   ]
  },
  {
   "cell_type": "code",
   "execution_count": 110,
   "metadata": {
    "collapsed": false,
    "deletable": true,
    "editable": true
   },
   "outputs": [
    {
     "data": {
      "text/plain": [
       "matrix([[ 0.00+0.j    ,  0.00+0.9475j, -1.05+0.j    ,  0.00+0.j    ],\n",
       "        [ 0.00+1.895j ,  0.00+0.j    ,  0.00+0.j    ,  0.00+0.j    ],\n",
       "        [-1.05+0.j    ,  0.00+0.j    ,  0.00+0.j    ,  0.00-0.9475j],\n",
       "        [ 0.00+0.j    ,  0.00+0.j    ,  0.00-1.895j ,  0.00+0.j    ]])"
      ]
     },
     "execution_count": 110,
     "metadata": {},
     "output_type": "execute_result"
    }
   ],
   "source": [
    "T"
   ]
  },
  {
   "cell_type": "code",
   "execution_count": 111,
   "metadata": {
    "collapsed": false,
    "deletable": true,
    "editable": true
   },
   "outputs": [],
   "source": [
    "V = np.matrix(scipy.linalg.expm(0.1 * T))\n",
    "V2 = np.matrix(scipy.linalg.expm(.2 * T))"
   ]
  },
  {
   "cell_type": "code",
   "execution_count": 112,
   "metadata": {
    "collapsed": false,
    "deletable": true,
    "editable": true
   },
   "outputs": [
    {
     "data": {
      "image/png": "[encoded data removed]",
      "text/latex": [
       "$$0.993069447446$$"
      ],
      "text/plain": [
       "0.993069447446"
      ]
     },
     "execution_count": 112,
     "metadata": {},
     "output_type": "execute_result"
    }
   ],
   "source": [
    "abs(V[0,0])**2"
   ]
  },
  {
   "cell_type": "code",
   "execution_count": 113,
   "metadata": {
    "collapsed": false,
    "deletable": true,
    "editable": true
   },
   "outputs": [
    {
     "data": {
      "text/plain": [
       "matrix([[  9.96528699e-01,   9.46404435e-02,   1.04564768e-01,\n",
       "           4.96406339e-03],\n",
       "        [  1.89280887e-01,   9.91027626e-01,   9.92812678e-03,\n",
       "           3.13823833e-04],\n",
       "        [  1.04564768e-01,   4.96406339e-03,   9.96528699e-01,\n",
       "           9.46404435e-02],\n",
       "        [  9.92812678e-03,   3.13823833e-04,   1.89280887e-01,\n",
       "           9.91027626e-01]])"
      ]
     },
     "execution_count": 113,
     "metadata": {},
     "output_type": "execute_result"
    }
   ],
   "source": [
    "abs(V)"
   ]
  },
  {
   "cell_type": "code",
   "execution_count": 114,
   "metadata": {
    "collapsed": false,
    "deletable": true,
    "editable": true
   },
   "outputs": [
    {
     "name": "stdout",
     "output_type": "stream",
     "text": [
      "[[ 4.02838049+0.j]]\n",
      "[[ 4.+0.j]]\n"
     ]
    },
    {
     "data": {
      "text/plain": [
       "matrix([[ 0.80228755+0.j        ],\n",
       "        [ 0.00000000+1.17069421j],\n",
       "        [ 0.80228755+0.j        ],\n",
       "        [ 0.00000000-1.17069421j]])"
      ]
     },
     "execution_count": 114,
     "metadata": {},
     "output_type": "execute_result"
    }
   ],
   "source": [
    "Y = V * R\n",
    "print(Y.transpose().conjugate() * Y)\n",
    "print(R.transpose().conjugate() * R)\n",
    "Y"
   ]
  },
  {
   "cell_type": "code",
   "execution_count": 115,
   "metadata": {
    "collapsed": false,
    "deletable": true,
    "editable": true
   },
   "outputs": [
    {
     "data": {
      "text/plain": [
       "matrix([[ 0.80228755+0.j        ],\n",
       "        [ 0.00000000+1.17069421j],\n",
       "        [ 0.80228755+0.j        ],\n",
       "        [ 0.00000000-1.17069421j]])"
      ]
     },
     "execution_count": 115,
     "metadata": {},
     "output_type": "execute_result"
    }
   ],
   "source": [
    "Y"
   ]
  },
  {
   "cell_type": "code",
   "execution_count": 116,
   "metadata": {
    "collapsed": false,
    "deletable": true,
    "editable": true
   },
   "outputs": [
    {
     "data": {
      "text/plain": [
       "matrix([[ 1.01298469,  0.        , -0.20934319,  0.        ],\n",
       "        [ 0.        ,  1.01806168,  0.        ,  0.00313639],\n",
       "        [-0.20934319,  0.        ,  1.01298469,  0.        ],\n",
       "        [ 0.        ,  0.00313639,  0.        ,  1.01806168]])"
      ]
     },
     "execution_count": 116,
     "metadata": {},
     "output_type": "execute_result"
    }
   ],
   "source": [
    "(V*(V.transpose().conjugate())).real"
   ]
  },
  {
   "cell_type": "code",
   "execution_count": 37,
   "metadata": {
    "collapsed": false,
    "deletable": true,
    "editable": true
   },
   "outputs": [
    {
     "data": {
      "text/plain": [
       "matrix([[ 0.99500417+0.j        ,  0.00000000+0.09983342j,  0.00000000+0.j        ],\n",
       "        [ 0.00000000+0.09983342j,  0.99500417+0.j        ,  0.00000000+0.j        ],\n",
       "        [ 0.00000000+0.j        ,  0.00000000+0.j        ,  0.99500417+0.j        ]])"
      ]
     },
     "execution_count": 37,
     "metadata": {},
     "output_type": "execute_result"
    }
   ],
   "source": [
    "V[:3,:3]"
   ]
  },
  {
   "cell_type": "code",
   "execution_count": 27,
   "metadata": {
    "collapsed": false,
    "deletable": true,
    "editable": true
   },
   "outputs": [
    {
     "data": {
      "text/plain": [
       "matrix([[ 0.00499583+0.j        ],\n",
       "        [ 0.00000000+0.00016658j],\n",
       "        [ 0.00000000-0.09999992j]])"
      ]
     },
     "execution_count": 27,
     "metadata": {},
     "output_type": "execute_result"
    }
   ],
   "source": [
    "V[:3,3:6]"
   ]
  },
  {
   "cell_type": "code",
   "execution_count": 15,
   "metadata": {
    "collapsed": false,
    "deletable": true,
    "editable": true
   },
   "outputs": [
    {
     "data": {
      "text/plain": [
       "matrix([[ 0.+0.j        ,  0.+0.j        ,  0.-0.09983342j]])"
      ]
     },
     "execution_count": 15,
     "metadata": {},
     "output_type": "execute_result"
    }
   ],
   "source": [
    "V[3:6,:3]"
   ]
  },
  {
   "cell_type": "code",
   "execution_count": 16,
   "metadata": {
    "collapsed": false,
    "deletable": true,
    "editable": true
   },
   "outputs": [
    {
     "data": {
      "text/plain": [
       "matrix([[ 0.99500417+0.j]])"
      ]
     },
     "execution_count": 16,
     "metadata": {},
     "output_type": "execute_result"
    }
   ],
   "source": [
    "V[3:6,3:6]"
   ]
  },
  {
   "cell_type": "code",
   "execution_count": 17,
   "metadata": {
    "collapsed": false,
    "deletable": true,
    "editable": true
   },
   "outputs": [
    {
     "ename": "ValueError",
     "evalue": "shapes (4,4) and (6,6) not aligned: 4 (dim 1) != 6 (dim 0)",
     "output_type": "error",
     "traceback": [
      "\u001b[0;31m---------------------------------------------------------------------------\u001b[0m",
      "\u001b[0;31mValueError\u001b[0m                                Traceback (most recent call last)",
      "\u001b[0;32m<ipython-input-17-103545a97144>\u001b[0m in \u001b[0;36m<module>\u001b[0;34m()\u001b[0m\n\u001b[0;32m----> 1\u001b[0;31m \u001b[0;34m(\u001b[0m\u001b[0mV\u001b[0m\u001b[0;34m*\u001b[0m\u001b[0mG\u001b[0m\u001b[0;34m*\u001b[0m\u001b[0mV\u001b[0m\u001b[0;34m.\u001b[0m\u001b[0mtranspose\u001b[0m\u001b[0;34m(\u001b[0m\u001b[0;34m)\u001b[0m\u001b[0;34m)\u001b[0m\u001b[0;34m.\u001b[0m\u001b[0mreal\u001b[0m\u001b[0;34m\u001b[0m\u001b[0m\n\u001b[0m",
      "\u001b[0;32m/usr/lib64/python3.5/site-packages/numpy/matrixlib/defmatrix.py\u001b[0m in \u001b[0;36m__mul__\u001b[0;34m(self, other)\u001b[0m\n\u001b[1;32m    341\u001b[0m         \u001b[0;32mif\u001b[0m \u001b[0misinstance\u001b[0m\u001b[0;34m(\u001b[0m\u001b[0mother\u001b[0m\u001b[0;34m,\u001b[0m \u001b[0;34m(\u001b[0m\u001b[0mN\u001b[0m\u001b[0;34m.\u001b[0m\u001b[0mndarray\u001b[0m\u001b[0;34m,\u001b[0m \u001b[0mlist\u001b[0m\u001b[0;34m,\u001b[0m \u001b[0mtuple\u001b[0m\u001b[0;34m)\u001b[0m\u001b[0;34m)\u001b[0m \u001b[0;34m:\u001b[0m\u001b[0;34m\u001b[0m\u001b[0m\n\u001b[1;32m    342\u001b[0m             \u001b[0;31m# This promotes 1-D vectors to row vectors\u001b[0m\u001b[0;34m\u001b[0m\u001b[0;34m\u001b[0m\u001b[0m\n\u001b[0;32m--> 343\u001b[0;31m             \u001b[0;32mreturn\u001b[0m \u001b[0mN\u001b[0m\u001b[0;34m.\u001b[0m\u001b[0mdot\u001b[0m\u001b[0;34m(\u001b[0m\u001b[0mself\u001b[0m\u001b[0;34m,\u001b[0m \u001b[0masmatrix\u001b[0m\u001b[0;34m(\u001b[0m\u001b[0mother\u001b[0m\u001b[0;34m)\u001b[0m\u001b[0;34m)\u001b[0m\u001b[0;34m\u001b[0m\u001b[0m\n\u001b[0m\u001b[1;32m    344\u001b[0m         \u001b[0;32mif\u001b[0m \u001b[0misscalar\u001b[0m\u001b[0;34m(\u001b[0m\u001b[0mother\u001b[0m\u001b[0;34m)\u001b[0m \u001b[0;32mor\u001b[0m \u001b[0;32mnot\u001b[0m \u001b[0mhasattr\u001b[0m\u001b[0;34m(\u001b[0m\u001b[0mother\u001b[0m\u001b[0;34m,\u001b[0m \u001b[0;34m'__rmul__'\u001b[0m\u001b[0;34m)\u001b[0m \u001b[0;34m:\u001b[0m\u001b[0;34m\u001b[0m\u001b[0m\n\u001b[1;32m    345\u001b[0m             \u001b[0;32mreturn\u001b[0m \u001b[0mN\u001b[0m\u001b[0;34m.\u001b[0m\u001b[0mdot\u001b[0m\u001b[0;34m(\u001b[0m\u001b[0mself\u001b[0m\u001b[0;34m,\u001b[0m \u001b[0mother\u001b[0m\u001b[0;34m)\u001b[0m\u001b[0;34m\u001b[0m\u001b[0m\n",
      "\u001b[0;31mValueError\u001b[0m: shapes (4,4) and (6,6) not aligned: 4 (dim 1) != 6 (dim 0)"
     ]
    }
   ],
   "source": [
    "(V*G*V.transpose()).real"
   ]
  },
  {
   "cell_type": "code",
   "execution_count": 56,
   "metadata": {
    "collapsed": false,
    "deletable": true,
    "editable": true
   },
   "outputs": [
    {
     "data": {
      "image/png": "[encoded data removed]",
      "text/latex": [
       "$$\\left[\\begin{matrix}- 2 a \\overline{a} + c \\overline{c} & - 2 i a \\overline{a}^{2} + i c \\overline{a} \\overline{c} + i \\overline{a} & - 2 i a c \\overline{a} + i c \\left(- 2 a \\overline{a} + c \\overline{c}\\right) + i c & a c\\\\2 i a \\left(- 2 a \\overline{a} + c \\overline{c}\\right) + 2 i a & - 2 a \\overline{a} & - 2 a c & 2 i a^{2} c\\\\2 i a \\overline{a} \\overline{c} - i \\left(- 2 a \\overline{a} + c \\overline{c}\\right) \\overline{c} - i \\overline{c} & \\overline{a} \\overline{c} & - 2 a \\overline{a} + c \\overline{c} & 2 i a^{2} \\overline{a} - i a c \\overline{c} - i a\\\\- 2 \\overline{a} \\overline{c} & - 2 i \\overline{a}^{2} \\overline{c} & - 2 i \\left(- 2 a \\overline{a} + c \\overline{c}\\right) \\overline{a} - 2 i \\overline{a} & - 2 a \\overline{a}\\end{matrix}\\right]$$"
      ],
      "text/plain": [
       "⎡                                                2                            \n",
       "⎢                  _     _                      _        _ _     _            \n",
       "⎢            - 2⋅a⋅a + c⋅c              - 2⋅ⅈ⋅a⋅a  + ⅈ⋅c⋅a⋅c + ⅈ⋅a  - 2⋅ⅈ⋅a⋅c⋅\n",
       "⎢                                                                             \n",
       "⎢          ⎛      _     _⎞                             _                      \n",
       "⎢    2⋅ⅈ⋅a⋅⎝- 2⋅a⋅a + c⋅c⎠ + 2⋅ⅈ⋅a                -2⋅a⋅a                      \n",
       "⎢                                                                             \n",
       "⎢      _ _     ⎛      _     _⎞ _     _             _ _                        \n",
       "⎢2⋅ⅈ⋅a⋅a⋅c - ⅈ⋅⎝- 2⋅a⋅a + c⋅c⎠⋅c - ⅈ⋅c             a⋅c                        \n",
       "⎢                                                                             \n",
       "⎢                                                     2                       \n",
       "⎢                  _ _                               _  _                     \n",
       "⎣               -2⋅a⋅c                          -2⋅ⅈ⋅a ⋅c               - 2⋅ⅈ⋅\n",
       "\n",
       "                                                       ⎤\n",
       "_       ⎛      _     _⎞                                ⎥\n",
       "a + ⅈ⋅c⋅⎝- 2⋅a⋅a + c⋅c⎠ + ⅈ⋅c            a⋅c           ⎥\n",
       "                                                       ⎥\n",
       "                                            2          ⎥\n",
       "      -2⋅a⋅c                           2⋅ⅈ⋅a ⋅c        ⎥\n",
       "                                                       ⎥\n",
       "         _     _                    2 _         _      ⎥\n",
       "   - 2⋅a⋅a + c⋅c               2⋅ⅈ⋅a ⋅a - ⅈ⋅a⋅c⋅c - ⅈ⋅a⎥\n",
       "                                                       ⎥\n",
       "                                                       ⎥\n",
       "⎛      _     _⎞ _       _                    _         ⎥\n",
       "⎝- 2⋅a⋅a + c⋅c⎠⋅a - 2⋅ⅈ⋅a               -2⋅a⋅a         ⎦"
      ]
     },
     "execution_count": 56,
     "metadata": {},
     "output_type": "execute_result"
    }
   ],
   "source": [
    "X**2 + X + X**3"
   ]
  },
  {
   "cell_type": "code",
   "execution_count": null,
   "metadata": {
    "collapsed": true,
    "deletable": true,
    "editable": true
   },
   "outputs": [],
   "source": []
  }
 ],
 "metadata": {
  "kernelspec": {
   "display_name": "Python 3",
   "language": "python",
   "name": "python3"
  },
  "language_info": {
   "codemirror_mode": {
    "name": "ipython",
    "version": 3
   },
   "file_extension": ".py",
   "mimetype": "text/x-python",
   "name": "python",
   "nbconvert_exporter": "python",
   "pygments_lexer": "ipython3",
   "version": "3.5.2"
  },
  "latex_envs": {
   "bibliofile": "biblio.bib",
   "cite_by": "apalike",
   "current_citInitial": 1,
   "eqLabelWithNumbers": true,
   "eqNumInitial": 0
  }
 },
 "nbformat": 4,
 "nbformat_minor": 1
}
