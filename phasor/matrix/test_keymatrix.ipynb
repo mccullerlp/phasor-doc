{
 "metadata": {
  "name": "",
  "signature": "sha256:0782e6fa11c4d45bced2a5e561a9070952b78dbd99da286b865d71f3f0582e00"
 },
 "nbformat": 3,
 "nbformat_minor": 0,
 "worksheets": [
  {
   "cells": [
    {
     "cell_type": "code",
     "collapsed": false,
     "input": [
      "import numpy as np\n",
      "from phasor.utilities.key_matrix.keymatrix import (\n",
      "    KVSpace,\n",
      "    KeyVector,\n",
      "    KeyMatrix\n",
      ")\n",
      "\n",
      "space_a = KVSpace('a')\n",
      "space_b = KVSpace('b')\n",
      "\n",
      "v_a = KeyVector(space_a)\n",
      "v_b = KeyVector(space_b)\n",
      "m_ab = KeyMatrix(space_a, space_b)\n",
      "\n",
      "v_a['x'] = 1\n",
      "v_a['y'] = 2\n",
      "v_a['z'] = 3\n",
      "\n",
      "v_b['m'] = 2\n",
      "v_b['n'] = 2\n",
      "\n",
      "m_ab['x', 'm'] = 2\n",
      "m_ab['y', 'n'] = 1\n",
      "\n",
      "space_a._key_map"
     ],
     "language": "python",
     "metadata": {},
     "outputs": [
      {
       "output_type": "stream",
       "stream": "stderr",
       "text": [
        "/usr/lib/python2.7/site-packages/wx-3.0-gtk2/wx/_core.py:16632: UserWarning: wxPython/wxWidgets release number mismatch\n",
        "  warnings.warn(\"wxPython/wxWidgets release number mismatch\")\n"
       ]
      },
      {
       "metadata": {},
       "output_type": "pyout",
       "prompt_number": 1,
       "text": [
        "{'x': 0, 'y': 1, 'z': 2}"
       ]
      }
     ],
     "prompt_number": 1
    },
    {
     "cell_type": "code",
     "collapsed": false,
     "input": [
      "assert(np.all(m_ab.array == np.array([[2,0,0],[0,1,0]])))\n",
      "assert(np.all(v_a.array == np.array([1,2,3])))\n",
      "assert(np.all(v_b.array == np.array([2,2])))\n",
      "assert(np.all(m_ab.array == m_ab.backmap_array(m_ab.array).array))\n",
      "\n"
     ],
     "language": "python",
     "metadata": {},
     "outputs": [],
     "prompt_number": 2
    },
    {
     "cell_type": "code",
     "collapsed": false,
     "input": [
      "m_ab.array"
     ],
     "language": "python",
     "metadata": {},
     "outputs": [
      {
       "metadata": {},
       "output_type": "pyout",
       "prompt_number": 3,
       "text": [
        "array([[ 2.,  0.,  0.],\n",
        "       [ 0.,  1.,  0.]])"
       ]
      }
     ],
     "prompt_number": 3
    },
    {
     "cell_type": "code",
     "collapsed": false,
     "input": [
      "space_a = KVSpace('a')\n",
      "space_b = KVSpace('b')\n",
      "\n",
      "v_a = KeyVector(space_a)\n",
      "v_b = KeyVector(space_b)\n",
      "m_ab = KeyMatrix(space_a, space_b)\n",
      "\n",
      "v_a['x'] = 1\n",
      "v_a['y'] = 2\n",
      "v_a['z'] = 3\n",
      "\n",
      "v_b['m'] = np.array([[2,0], [0,2]])\n",
      "v_b['n'] = np.array([[2,2], [2,2]])\n",
      "\n",
      "m_ab['x', 'm'] = np.array([[2,0], [0,2]])\n",
      "m_ab['y', 'n'] = 1\n",
      "\n",
      "m_ab.array[:, :]\n",
      "out = np.tensordot(m_ab.array, v_a.array, axes = [[1],[0]])\n",
      "out == v_b.array"
     ],
     "language": "python",
     "metadata": {},
     "outputs": [
      {
       "metadata": {},
       "output_type": "pyout",
       "prompt_number": 4,
       "text": [
        "array([[[ True,  True],\n",
        "        [ True,  True]],\n",
        "\n",
        "       [[ True,  True],\n",
        "        [ True,  True]]], dtype=bool)"
       ]
      }
     ],
     "prompt_number": 4
    },
    {
     "cell_type": "code",
     "collapsed": false,
     "input": [
      "space_a = KVSpace('a')\n",
      "space_b = KVSpace('b', dtype = object)\n",
      "\n",
      "v_a = KeyVector(space_a)\n",
      "v_b = KeyVector(space_b)\n",
      "m_ab = KeyMatrix(space_a, space_b)\n",
      "\n",
      "v_a['x'] = 1\n",
      "v_a['y'] = 2\n",
      "v_a['z'] = 3\n",
      "\n",
      "v_b['m'] = np.array([[2,0], [0,2]])\n",
      "v_b['n'] = np.array([[2,2], [2,2]])\n",
      "\n",
      "m_ab['x', 'm'] = np.array([[2,0], [0,2]])\n",
      "m_ab['y', 'n'] = 1\n",
      "\n",
      "m_ab.array[:, :]\n",
      "\n",
      "out = m_ab.mat * v_a.col\n",
      "out"
     ],
     "language": "python",
     "metadata": {},
     "outputs": [
      {
       "metadata": {},
       "output_type": "pyout",
       "prompt_number": 6,
       "text": [
        "matrix([[matrix([[ 2.,  0.],\n",
        "        [ 0.,  2.]])],\n",
        "        [2.0]], dtype=object)"
       ]
      }
     ],
     "prompt_number": 6
    },
    {
     "cell_type": "code",
     "collapsed": false,
     "input": [],
     "language": "python",
     "metadata": {},
     "outputs": [],
     "prompt_number": 5
    }
   ],
   "metadata": {}
  }
 ]
}