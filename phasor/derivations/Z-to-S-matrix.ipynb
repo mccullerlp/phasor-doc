{
 "cells": [
  {
   "cell_type": "code",
   "execution_count": 2,
   "metadata": {
    "collapsed": false,
    "deletable": true,
    "editable": true
   },
   "outputs": [
    {
     "name": "stdout",
     "output_type": "stream",
     "text": [
      "Populating the interactive namespace from numpy and matplotlib\n",
      "Sympy version:  1.0\n"
     ]
    }
   ],
   "source": [
    "import sympy\n",
    "from phasor.utilities.ipynb.displays import *\n",
    "from phasor.utilities.ipynb.ipy_sympy import *"
   ]
  },
  {
   "cell_type": "code",
   "execution_count": 88,
   "metadata": {
    "collapsed": false,
    "deletable": true,
    "editable": true
   },
   "outputs": [],
   "source": [
    "Z_11 = sympy.var('Z_11')\n",
    "Z_22 = sympy.var('Z_22')\n",
    "Z_12 = sympy.var('Z_12')\n",
    "Z_21 = sympy.var('Z_21')\n",
    "Z = sympy.Matrix([[Z_11, Z_12], [Z_21, Z_22]])\n",
    "Z = sympy.Matrix([[Z_11, Z_12], [Z_21, Z_22]])\n",
    "Z\n",
    "Y = Z**-1\n",
    "Y.simplify()\n",
    "Y\n",
    "Y = sympy.Matrix([[0, 1/Z_11], [1/Z_11, 0]])"
   ]
  },
  {
   "cell_type": "code",
   "execution_count": 89,
   "metadata": {
    "collapsed": false,
    "deletable": true,
    "editable": true
   },
   "outputs": [
    {
     "data": {
      "image/png": "[encoded data removed]",
      "text/latex": [
       "$$\\left[\\begin{matrix}1 & -1 & 0 & 0\\\\0 & 0 & 1 & -1\\end{matrix}\\right]$$"
      ],
      "text/plain": [
       "⎡1  -1  0  0 ⎤\n",
       "⎢            ⎥\n",
       "⎣0  0   1  -1⎦"
      ]
     },
     "execution_count": 89,
     "metadata": {},
     "output_type": "execute_result"
    }
   ],
   "source": [
    "B_I = sympy.Matrix([[1,0],[-1,0],[0,1],[0,-1]])\n",
    "B_V = sympy.Matrix([[1,0],[1,0],[0,1],[0,1]])\n",
    "B_X = sympy.Matrix([[-1,0],[1,0],[0,1],[0,1]])\n",
    "B_I.transpose()"
   ]
  },
  {
   "cell_type": "code",
   "execution_count": 124,
   "metadata": {
    "collapsed": false,
    "deletable": true,
    "editable": true
   },
   "outputs": [
    {
     "data": {
      "image/png": "[encoded data removed]",
      "text/latex": [
       "$$\\left[\\begin{matrix}\\frac{1}{Z_{11}} & - \\frac{1}{Z_{11}} & \\frac{1}{Z_{12}} & - \\frac{1}{Z_{12}}\\\\- \\frac{1}{Z_{11}} & \\frac{1}{Z_{11}} & - \\frac{1}{Z_{12}} & \\frac{1}{Z_{12}}\\\\\\frac{1}{Z_{21}} & - \\frac{1}{Z_{21}} & \\frac{1}{Z_{22}} & - \\frac{1}{Z_{22}}\\\\- \\frac{1}{Z_{21}} & \\frac{1}{Z_{21}} & - \\frac{1}{Z_{22}} & \\frac{1}{Z_{22}}\\end{matrix}\\right]$$"
      ],
      "text/plain": [
       "⎡ 1   -1    1   -1 ⎤\n",
       "⎢───  ───  ───  ───⎥\n",
       "⎢Z₁₁  Z₁₁  Z₁₂  Z₁₂⎥\n",
       "⎢                  ⎥\n",
       "⎢-1    1   -1    1 ⎥\n",
       "⎢───  ───  ───  ───⎥\n",
       "⎢Z₁₁  Z₁₁  Z₁₂  Z₁₂⎥\n",
       "⎢                  ⎥\n",
       "⎢ 1   -1    1   -1 ⎥\n",
       "⎢───  ───  ───  ───⎥\n",
       "⎢Z₂₁  Z₂₁  Z₂₂  Z₂₂⎥\n",
       "⎢                  ⎥\n",
       "⎢-1    1   -1    1 ⎥\n",
       "⎢───  ───  ───  ───⎥\n",
       "⎣Z₂₁  Z₂₁  Z₂₂  Z₂₂⎦"
      ]
     },
     "execution_count": 124,
     "metadata": {},
     "output_type": "execute_result"
    }
   ],
   "source": [
    "Z4 = B_I * Z * (B_I.transpose())\n",
    "Z4\n",
    "Y4 = sympy.Matrix([[1/Z_11,-1/Z_11,1/Z_12,-1/Z_12],[-1/Z_11,1/Z_11,-1/Z_12,1/Z_12],[1/Z_21,-1/Z_21,1/Z_22,-1/Z_22],[-1/Z_21,1/Z_21,-1/Z_22,1/Z_22]])\n",
    "Y4\n"
   ]
  },
  {
   "cell_type": "code",
   "execution_count": 125,
   "metadata": {
    "collapsed": false,
    "deletable": true,
    "editable": true
   },
   "outputs": [
    {
     "data": {
      "image/png": "[encoded data removed]",
      "text/latex": [
       "$$\\left[\\begin{matrix}\\frac{Y_{c} Z_{11} Z_{12} Z_{21} \\left(Y_{c} Z_{22} + 2\\right)}{Y_{c}^{2} Z_{11} Z_{12} Z_{21} Z_{22} + 2 Y_{c} Z_{11} Z_{12} Z_{21} + 2 Y_{c} Z_{12} Z_{21} Z_{22} - 4 Z_{11} Z_{22} + 4 Z_{12} Z_{21}} & \\frac{2 Y_{c} Z_{12} Z_{21} Z_{22} - 4 Z_{11} Z_{22} + 4 Z_{12} Z_{21}}{Y_{c}^{2} Z_{11} Z_{12} Z_{21} Z_{22} + 2 Y_{c} Z_{11} Z_{12} Z_{21} + 2 Y_{c} Z_{12} Z_{21} Z_{22} - 4 Z_{11} Z_{22} + 4 Z_{12} Z_{21}} & - \\frac{2 Y_{c} Z_{11} Z_{21} Z_{22}}{Y_{c}^{2} Z_{11} Z_{12} Z_{21} Z_{22} + 2 Y_{c} Z_{11} Z_{12} Z_{21} + 2 Y_{c} Z_{12} Z_{21} Z_{22} - 4 Z_{11} Z_{22} + 4 Z_{12} Z_{21}} & \\frac{2 Y_{c} Z_{11} Z_{21} Z_{22}}{Y_{c}^{2} Z_{11} Z_{12} Z_{21} Z_{22} + 2 Y_{c} Z_{11} Z_{12} Z_{21} + 2 Y_{c} Z_{12} Z_{21} Z_{22} - 4 Z_{11} Z_{22} + 4 Z_{12} Z_{21}}\\\\\\frac{2 Y_{c} Z_{12} Z_{21} Z_{22} - 4 Z_{11} Z_{22} + 4 Z_{12} Z_{21}}{Y_{c}^{2} Z_{11} Z_{12} Z_{21} Z_{22} + 2 Y_{c} Z_{11} Z_{12} Z_{21} + 2 Y_{c} Z_{12} Z_{21} Z_{22} - 4 Z_{11} Z_{22} + 4 Z_{12} Z_{21}} & \\frac{Y_{c} Z_{11} Z_{12} Z_{21} \\left(Y_{c} Z_{22} + 2\\right)}{Y_{c}^{2} Z_{11} Z_{12} Z_{21} Z_{22} + 2 Y_{c} Z_{11} Z_{12} Z_{21} + 2 Y_{c} Z_{12} Z_{21} Z_{22} - 4 Z_{11} Z_{22} + 4 Z_{12} Z_{21}} & \\frac{2 Y_{c} Z_{11} Z_{21} Z_{22}}{Y_{c}^{2} Z_{11} Z_{12} Z_{21} Z_{22} + 2 Y_{c} Z_{11} Z_{12} Z_{21} + 2 Y_{c} Z_{12} Z_{21} Z_{22} - 4 Z_{11} Z_{22} + 4 Z_{12} Z_{21}} & - \\frac{2 Y_{c} Z_{11} Z_{21} Z_{22}}{Y_{c}^{2} Z_{11} Z_{12} Z_{21} Z_{22} + 2 Y_{c} Z_{11} Z_{12} Z_{21} + 2 Y_{c} Z_{12} Z_{21} Z_{22} - 4 Z_{11} Z_{22} + 4 Z_{12} Z_{21}}\\\\- \\frac{2 Y_{c} Z_{11} Z_{12} Z_{22}}{Y_{c}^{2} Z_{11} Z_{12} Z_{21} Z_{22} + 2 Y_{c} Z_{11} Z_{12} Z_{21} + 2 Y_{c} Z_{12} Z_{21} Z_{22} - 4 Z_{11} Z_{22} + 4 Z_{12} Z_{21}} & \\frac{2 Y_{c} Z_{11} Z_{12} Z_{22}}{Y_{c}^{2} Z_{11} Z_{12} Z_{21} Z_{22} + 2 Y_{c} Z_{11} Z_{12} Z_{21} + 2 Y_{c} Z_{12} Z_{21} Z_{22} - 4 Z_{11} Z_{22} + 4 Z_{12} Z_{21}} & \\frac{Y_{c} Z_{12} Z_{21} Z_{22} \\left(Y_{c} Z_{11} + 2\\right)}{Y_{c}^{2} Z_{11} Z_{12} Z_{21} Z_{22} + 2 Y_{c} Z_{11} Z_{12} Z_{21} + 2 Y_{c} Z_{12} Z_{21} Z_{22} - 4 Z_{11} Z_{22} + 4 Z_{12} Z_{21}} & \\frac{2 Y_{c} Z_{11} Z_{12} Z_{21} - 4 Z_{11} Z_{22} + 4 Z_{12} Z_{21}}{Y_{c}^{2} Z_{11} Z_{12} Z_{21} Z_{22} + 2 Y_{c} Z_{11} Z_{12} Z_{21} + 2 Y_{c} Z_{12} Z_{21} Z_{22} - 4 Z_{11} Z_{22} + 4 Z_{12} Z_{21}}\\\\\\frac{2 Y_{c} Z_{11} Z_{12} Z_{22}}{Y_{c}^{2} Z_{11} Z_{12} Z_{21} Z_{22} + 2 Y_{c} Z_{11} Z_{12} Z_{21} + 2 Y_{c} Z_{12} Z_{21} Z_{22} - 4 Z_{11} Z_{22} + 4 Z_{12} Z_{21}} & - \\frac{2 Y_{c} Z_{11} Z_{12} Z_{22}}{Y_{c}^{2} Z_{11} Z_{12} Z_{21} Z_{22} + 2 Y_{c} Z_{11} Z_{12} Z_{21} + 2 Y_{c} Z_{12} Z_{21} Z_{22} - 4 Z_{11} Z_{22} + 4 Z_{12} Z_{21}} & \\frac{2 Y_{c} Z_{11} Z_{12} Z_{21} - 4 Z_{11} Z_{22} + 4 Z_{12} Z_{21}}{Y_{c}^{2} Z_{11} Z_{12} Z_{21} Z_{22} + 2 Y_{c} Z_{11} Z_{12} Z_{21} + 2 Y_{c} Z_{12} Z_{21} Z_{22} - 4 Z_{11} Z_{22} + 4 Z_{12} Z_{21}} & \\frac{Y_{c} Z_{12} Z_{21} Z_{22} \\left(Y_{c} Z_{11} + 2\\right)}{Y_{c}^{2} Z_{11} Z_{12} Z_{21} Z_{22} + 2 Y_{c} Z_{11} Z_{12} Z_{21} + 2 Y_{c} Z_{12} Z_{21} Z_{22} - 4 Z_{11} Z_{22} + 4 Z_{12} Z_{21}}\\end{matrix}\\right]$$"
      ],
      "text/plain": [
       "⎡                           Y_c⋅Z₁₁⋅Z₁₂⋅Z₂₁⋅(Y_c⋅Z₂₂ + 2)                     \n",
       "⎢─────────────────────────────────────────────────────────────────────────────\n",
       "⎢   2                                                                         \n",
       "⎢Y_c ⋅Z₁₁⋅Z₁₂⋅Z₂₁⋅Z₂₂ + 2⋅Y_c⋅Z₁₁⋅Z₁₂⋅Z₂₁ + 2⋅Y_c⋅Z₁₂⋅Z₂₁⋅Z₂₂ - 4⋅Z₁₁⋅Z₂₂ + 4⋅\n",
       "⎢                                                                             \n",
       "⎢                    2⋅(Y_c⋅Z₁₂⋅Z₂₁⋅Z₂₂ - 2⋅Z₁₁⋅Z₂₂ + 2⋅Z₁₂⋅Z₂₁)              \n",
       "⎢─────────────────────────────────────────────────────────────────────────────\n",
       "⎢   2                                                                         \n",
       "⎢Y_c ⋅Z₁₁⋅Z₁₂⋅Z₂₁⋅Z₂₂ + 2⋅Y_c⋅Z₁₁⋅Z₁₂⋅Z₂₁ + 2⋅Y_c⋅Z₁₂⋅Z₂₁⋅Z₂₂ - 4⋅Z₁₁⋅Z₂₂ + 4⋅\n",
       "⎢                                                                             \n",
       "⎢                                -2⋅Y_c⋅Z₁₁⋅Z₁₂⋅Z₂₂                           \n",
       "⎢─────────────────────────────────────────────────────────────────────────────\n",
       "⎢   2                                                                         \n",
       "⎢Y_c ⋅Z₁₁⋅Z₁₂⋅Z₂₁⋅Z₂₂ + 2⋅Y_c⋅Z₁₁⋅Z₁₂⋅Z₂₁ + 2⋅Y_c⋅Z₁₂⋅Z₂₁⋅Z₂₂ - 4⋅Z₁₁⋅Z₂₂ + 4⋅\n",
       "⎢                                                                             \n",
       "⎢                                 2⋅Y_c⋅Z₁₁⋅Z₁₂⋅Z₂₂                           \n",
       "⎢─────────────────────────────────────────────────────────────────────────────\n",
       "⎢   2                                                                         \n",
       "⎣Y_c ⋅Z₁₁⋅Z₁₂⋅Z₂₁⋅Z₂₂ + 2⋅Y_c⋅Z₁₁⋅Z₁₂⋅Z₂₁ + 2⋅Y_c⋅Z₁₂⋅Z₂₁⋅Z₂₂ - 4⋅Z₁₁⋅Z₂₂ + 4⋅\n",
       "\n",
       "                             2⋅(Y_c⋅Z₁₂⋅Z₂₁⋅Z₂₂ - 2⋅Z₁₁⋅Z₂₂ + 2⋅Z₁₂⋅Z₂₁)      \n",
       "───────  ─────────────────────────────────────────────────────────────────────\n",
       "            2                                                                 \n",
       "Z₁₂⋅Z₂₁  Y_c ⋅Z₁₁⋅Z₁₂⋅Z₂₁⋅Z₂₂ + 2⋅Y_c⋅Z₁₁⋅Z₁₂⋅Z₂₁ + 2⋅Y_c⋅Z₁₂⋅Z₂₁⋅Z₂₂ - 4⋅Z₁₁⋅\n",
       "                                                                              \n",
       "                                    Y_c⋅Z₁₁⋅Z₁₂⋅Z₂₁⋅(Y_c⋅Z₂₂ + 2)             \n",
       "───────  ─────────────────────────────────────────────────────────────────────\n",
       "            2                                                                 \n",
       "Z₁₂⋅Z₂₁  Y_c ⋅Z₁₁⋅Z₁₂⋅Z₂₁⋅Z₂₂ + 2⋅Y_c⋅Z₁₁⋅Z₁₂⋅Z₂₁ + 2⋅Y_c⋅Z₁₂⋅Z₂₁⋅Z₂₂ - 4⋅Z₁₁⋅\n",
       "                                                                              \n",
       "                                          2⋅Y_c⋅Z₁₁⋅Z₁₂⋅Z₂₂                   \n",
       "───────  ─────────────────────────────────────────────────────────────────────\n",
       "            2                                                                 \n",
       "Z₁₂⋅Z₂₁  Y_c ⋅Z₁₁⋅Z₁₂⋅Z₂₁⋅Z₂₂ + 2⋅Y_c⋅Z₁₁⋅Z₁₂⋅Z₂₁ + 2⋅Y_c⋅Z₁₂⋅Z₂₁⋅Z₂₂ - 4⋅Z₁₁⋅\n",
       "                                                                              \n",
       "                                         -2⋅Y_c⋅Z₁₁⋅Z₁₂⋅Z₂₂                   \n",
       "───────  ─────────────────────────────────────────────────────────────────────\n",
       "            2                                                                 \n",
       "Z₁₂⋅Z₂₁  Y_c ⋅Z₁₁⋅Z₁₂⋅Z₂₁⋅Z₂₂ + 2⋅Y_c⋅Z₁₁⋅Z₁₂⋅Z₂₁ + 2⋅Y_c⋅Z₁₂⋅Z₂₁⋅Z₂₂ - 4⋅Z₁₁⋅\n",
       "\n",
       "                                                 -2⋅Y_c⋅Z₁₁⋅Z₂₁⋅Z₂₂           \n",
       "───────────────  ─────────────────────────────────────────────────────────────\n",
       "                    2                                                         \n",
       "Z₂₂ + 4⋅Z₁₂⋅Z₂₁  Y_c ⋅Z₁₁⋅Z₁₂⋅Z₂₁⋅Z₂₂ + 2⋅Y_c⋅Z₁₁⋅Z₁₂⋅Z₂₁ + 2⋅Y_c⋅Z₁₂⋅Z₂₁⋅Z₂₂ \n",
       "                                                                              \n",
       "                                                  2⋅Y_c⋅Z₁₁⋅Z₂₁⋅Z₂₂           \n",
       "───────────────  ─────────────────────────────────────────────────────────────\n",
       "                    2                                                         \n",
       "Z₂₂ + 4⋅Z₁₂⋅Z₂₁  Y_c ⋅Z₁₁⋅Z₁₂⋅Z₂₁⋅Z₂₂ + 2⋅Y_c⋅Z₁₁⋅Z₁₂⋅Z₂₁ + 2⋅Y_c⋅Z₁₂⋅Z₂₁⋅Z₂₂ \n",
       "                                                                              \n",
       "                                            Y_c⋅Z₁₂⋅Z₂₁⋅Z₂₂⋅(Y_c⋅Z₁₁ + 2)     \n",
       "───────────────  ─────────────────────────────────────────────────────────────\n",
       "                    2                                                         \n",
       "Z₂₂ + 4⋅Z₁₂⋅Z₂₁  Y_c ⋅Z₁₁⋅Z₁₂⋅Z₂₁⋅Z₂₂ + 2⋅Y_c⋅Z₁₁⋅Z₁₂⋅Z₂₁ + 2⋅Y_c⋅Z₁₂⋅Z₂₁⋅Z₂₂ \n",
       "                                                                              \n",
       "                                     2⋅(Y_c⋅Z₁₁⋅Z₁₂⋅Z₂₁ - 2⋅Z₁₁⋅Z₂₂ + 2⋅Z₁₂⋅Z₂\n",
       "───────────────  ─────────────────────────────────────────────────────────────\n",
       "                    2                                                         \n",
       "Z₂₂ + 4⋅Z₁₂⋅Z₂₁  Y_c ⋅Z₁₁⋅Z₁₂⋅Z₂₁⋅Z₂₂ + 2⋅Y_c⋅Z₁₁⋅Z₁₂⋅Z₂₁ + 2⋅Y_c⋅Z₁₂⋅Z₂₁⋅Z₂₂ \n",
       "\n",
       "                                                          2⋅Y_c⋅Z₁₁⋅Z₂₁⋅Z₂₂   \n",
       "───────────────────────  ─────────────────────────────────────────────────────\n",
       "                            2                                                 \n",
       "- 4⋅Z₁₁⋅Z₂₂ + 4⋅Z₁₂⋅Z₂₁  Y_c ⋅Z₁₁⋅Z₁₂⋅Z₂₁⋅Z₂₂ + 2⋅Y_c⋅Z₁₁⋅Z₁₂⋅Z₂₁ + 2⋅Y_c⋅Z₁₂⋅\n",
       "                                                                              \n",
       "                                                         -2⋅Y_c⋅Z₁₁⋅Z₂₁⋅Z₂₂   \n",
       "───────────────────────  ─────────────────────────────────────────────────────\n",
       "                            2                                                 \n",
       "- 4⋅Z₁₁⋅Z₂₂ + 4⋅Z₁₂⋅Z₂₁  Y_c ⋅Z₁₁⋅Z₁₂⋅Z₂₁⋅Z₂₂ + 2⋅Y_c⋅Z₁₁⋅Z₁₂⋅Z₂₁ + 2⋅Y_c⋅Z₁₂⋅\n",
       "                                                                              \n",
       "                                             2⋅(Y_c⋅Z₁₁⋅Z₁₂⋅Z₂₁ - 2⋅Z₁₁⋅Z₂₂ + \n",
       "───────────────────────  ─────────────────────────────────────────────────────\n",
       "                            2                                                 \n",
       "- 4⋅Z₁₁⋅Z₂₂ + 4⋅Z₁₂⋅Z₂₁  Y_c ⋅Z₁₁⋅Z₁₂⋅Z₂₁⋅Z₂₂ + 2⋅Y_c⋅Z₁₁⋅Z₁₂⋅Z₂₁ + 2⋅Y_c⋅Z₁₂⋅\n",
       "                                                                              \n",
       "₁)                                                  Y_c⋅Z₁₂⋅Z₂₁⋅Z₂₂⋅(Y_c⋅Z₁₁ +\n",
       "───────────────────────  ─────────────────────────────────────────────────────\n",
       "                            2                                                 \n",
       "- 4⋅Z₁₁⋅Z₂₂ + 4⋅Z₁₂⋅Z₂₁  Y_c ⋅Z₁₁⋅Z₁₂⋅Z₂₁⋅Z₂₂ + 2⋅Y_c⋅Z₁₁⋅Z₁₂⋅Z₂₁ + 2⋅Y_c⋅Z₁₂⋅\n",
       "\n",
       "                               ⎤\n",
       "───────────────────────────────⎥\n",
       "                               ⎥\n",
       "Z₂₁⋅Z₂₂ - 4⋅Z₁₁⋅Z₂₂ + 4⋅Z₁₂⋅Z₂₁⎥\n",
       "                               ⎥\n",
       "                               ⎥\n",
       "───────────────────────────────⎥\n",
       "                               ⎥\n",
       "Z₂₁⋅Z₂₂ - 4⋅Z₁₁⋅Z₂₂ + 4⋅Z₁₂⋅Z₂₁⎥\n",
       "                               ⎥\n",
       "2⋅Z₁₂⋅Z₂₁)                     ⎥\n",
       "───────────────────────────────⎥\n",
       "                               ⎥\n",
       "Z₂₁⋅Z₂₂ - 4⋅Z₁₁⋅Z₂₂ + 4⋅Z₁₂⋅Z₂₁⎥\n",
       "                               ⎥\n",
       " 2)                            ⎥\n",
       "───────────────────────────────⎥\n",
       "                               ⎥\n",
       "Z₂₁⋅Z₂₂ - 4⋅Z₁₁⋅Z₂₂ + 4⋅Z₁₂⋅Z₂₁⎦"
      ]
     },
     "metadata": {},
     "output_type": "display_data"
    }
   ],
   "source": [
    "I4 = sympy.eye(4)\n",
    "Z_c = sympy.var('Z_c')\n",
    "Y_c = sympy.var('Y_c')\n",
    "y_c = sympy.sqrt(Y_c) * I4\n",
    "z_c = sympy.sqrt(Z_c) * I4\n",
    "z_c = 1/sympy.sqrt(Y_c) * I4\n",
    "S = ((y_c * Z4  * y_c - I4) * (y_c * Z4  * y_c + I4)**(-1))\n",
    "S = (I4 - z_c * Y4  * z_c ) * (I4 + z_c * Y4  * z_c)**(-1)\n",
    "S.simplify()\n",
    "display(S)"
   ]
  },
  {
   "cell_type": "code",
   "execution_count": 13,
   "metadata": {
    "collapsed": false,
    "deletable": true,
    "editable": true
   },
   "outputs": [
    {
     "name": "stdout",
     "output_type": "stream",
     "text": [
      "True\n",
      "True\n",
      "True\n",
      "True\n",
      "True\n",
      "True\n"
     ]
    }
   ],
   "source": [
    "print(S[0,0] == S[1,1])\n",
    "print(S[1,0] == S[0,1])\n",
    "print(S[2,0] == -S[2,1])\n",
    "print(S[2,0] == -S[3,0])\n",
    "print(S[2,0] == S[3,1])\n",
    "print(S[3,0] == S[2,1])"
   ]
  },
  {
   "cell_type": "code",
   "execution_count": 114,
   "metadata": {
    "collapsed": false,
    "deletable": true,
    "editable": true
   },
   "outputs": [
    {
     "data": {
      "image/png": "[encoded data removed]",
      "text/latex": [
       "$$\\left[\\begin{matrix}\\frac{Y_{c} Z_{12}}{Y_{c} Z_{12} + 2} & \\frac{2}{Y_{c} Z_{12} + 2}\\\\\\frac{2}{Y_{c} Z_{12} + 2} & \\frac{Y_{c} Z_{12}}{Y_{c} Z_{12} + 2}\\end{matrix}\\right]$$"
      ],
      "text/plain": [
       "⎡  Y_c⋅Z₁₂         2     ⎤\n",
       "⎢───────────  ───────────⎥\n",
       "⎢Y_c⋅Z₁₂ + 2  Y_c⋅Z₁₂ + 2⎥\n",
       "⎢                        ⎥\n",
       "⎢     2         Y_c⋅Z₁₂  ⎥\n",
       "⎢───────────  ───────────⎥\n",
       "⎣Y_c⋅Z₁₂ + 2  Y_c⋅Z₁₂ + 2⎦"
      ]
     },
     "metadata": {},
     "output_type": "display_data"
    },
    {
     "data": {
      "image/png": "[encoded data removed]",
      "text/latex": [
       "$$\\frac{Y_{c} Z_{12}}{Y_{c} Z_{12} + 2}$$"
      ],
      "text/plain": [
       "  Y_c⋅Z₁₂  \n",
       "───────────\n",
       "Y_c⋅Z₁₂ + 2"
      ]
     },
     "metadata": {},
     "output_type": "display_data"
    },
    {
     "data": {
      "image/png": "[encoded data removed]",
      "text/latex": [
       "$$\\frac{2}{Y_{c} Z_{12} + 2}$$"
      ],
      "text/plain": [
       "     2     \n",
       "───────────\n",
       "Y_c⋅Z₁₂ + 2"
      ]
     },
     "metadata": {},
     "output_type": "display_data"
    }
   ],
   "source": [
    "\n",
    "A = sympy.var('A')\n",
    "Z_11 = sympy.var('Z_11')\n",
    "Z_22 = sympy.var('Z_22')\n",
    "Z_12 = sympy.var('Z_12')\n",
    "Z_21 = sympy.var('Z_21')\n",
    "Z = sympy.Matrix([[Z_12, -Z_12], [-Z_12, Z_12]])\n",
    "Y = sympy.Matrix([[1/Z_12, -1/Z_12], [-1/Z_12, 1/Z_12]])\n",
    "\n",
    "I2 = sympy.eye(2)\n",
    "Z_c = sympy.var('Z_c')\n",
    "Y_c = sympy.var('Y_c')\n",
    "y_c = sympy.sqrt(Y_c) * I2\n",
    "z_c = sympy.sqrt(Z_c) * I2\n",
    "z_c = 1/sympy.sqrt(Y_c) * I2\n",
    "S = ((y_c * Z  * y_c - I2) * (y_c * Z  * y_c + I2)**(-1))\n",
    "S = (I2 - z_c * Y  * z_c ) * (I2 + z_c * Y  * z_c)**(-1)\n",
    "S.simplify()\n",
    "display(S)\n",
    "display(sympy.limit(S[0,0], A, sympy.oo))\n",
    "display(sympy.limit(S[0,1], A, sympy.oo))"
   ]
  },
  {
   "cell_type": "code",
   "execution_count": null,
   "metadata": {
    "collapsed": true,
    "deletable": true,
    "editable": true
   },
   "outputs": [],
   "source": []
  }
 ],
 "metadata": {
  "kernelspec": {
   "display_name": "Python 3",
   "language": "python",
   "name": "python3"
  },
  "language_info": {
   "codemirror_mode": {
    "name": "ipython",
    "version": 3
   },
   "file_extension": ".py",
   "mimetype": "text/x-python",
   "name": "python",
   "nbconvert_exporter": "python",
   "pygments_lexer": "ipython3",
   "version": "3.5.3"
  },
  "latex_envs": {
   "bibliofile": "biblio.bib",
   "cite_by": "apalike",
   "current_citInitial": 1,
   "eqLabelWithNumbers": true,
   "eqNumInitial": 0
  }
 },
 "nbformat": 4,
 "nbformat_minor": 1
}
