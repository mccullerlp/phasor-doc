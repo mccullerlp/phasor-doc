{
 "cells": [
  {
   "cell_type": "code",
   "execution_count": 2,
   "metadata": {
    "collapsed": false,
    "deletable": true,
    "editable": true
   },
   "outputs": [
    {
     "name": "stdout",
     "output_type": "stream",
     "text": [
      "3.5.3 (default, Apr 24 2017, 13:32:13) \n",
      "[GCC 6.3.1 20161221 (Red Hat 6.3.1-1)]\n",
      "Sympy version:  1.0\n"
     ]
    }
   ],
   "source": [
    "import sys\n",
    "import numpy as np\n",
    "import sys\n",
    "print(sys.version)\n",
    "\n",
    "from phasor.utilities.ipynb.displays import *\n",
    "from phasor.utilities.ipynb.filters import *\n",
    "from phasor.utilities.ipynb.hdf import *\n",
    "#from YALL.utilities.tabulate import tabulate\n",
    "\n",
    "from declarative import (\n",
    "  OverridableObject, mproperty\n",
    ")\n",
    "\n",
    "import sympy\n",
    "from phasor.utilities.ipynb.displays import *\n",
    "from phasor.utilities.ipynb.ipy_sympy import *\n",
    "import scipy.linalg"
   ]
  },
  {
   "cell_type": "code",
   "execution_count": 69,
   "metadata": {
    "collapsed": false,
    "deletable": true,
    "editable": true
   },
   "outputs": [
    {
     "data": {
      "image/png": "[encoded data removed]",
      "text/latex": [
       "$$\\left[\\begin{matrix}1 & 0\\\\- \\overline{y} c & 1\\end{matrix}\\right]$$"
      ],
      "text/plain": [
       "⎡ 1    0⎤\n",
       "⎢       ⎥\n",
       "⎢ _     ⎥\n",
       "⎣-y⋅c  1⎦"
      ]
     },
     "metadata": {},
     "output_type": "display_data"
    },
    {
     "data": {
      "image/png": "[encoded data removed]",
      "text/latex": [
       "$$\\left[\\begin{matrix}\\alpha_{1}\\\\- \\alpha_{1} \\overline{y} c + \\alpha_{2}\\end{matrix}\\right]$$"
      ],
      "text/plain": [
       "⎡     α₁      ⎤\n",
       "⎢             ⎥\n",
       "⎢     _       ⎥\n",
       "⎣- α₁⋅y⋅c + α₂⎦"
      ]
     },
     "metadata": {},
     "output_type": "display_data"
    },
    {
     "data": {
      "image/png": "[encoded data removed]",
      "text/latex": [
       "$$\\left[\\begin{matrix}a & b\\\\- \\overline{y} c a + c & - \\overline{y} c b + d\\end{matrix}\\right]$$"
      ],
      "text/plain": [
       "⎡     a            b     ⎤\n",
       "⎢                        ⎥\n",
       "⎢  _            _        ⎥\n",
       "⎣- y⋅c⋅a + c  - y⋅c⋅b + d⎦"
      ]
     },
     "metadata": {},
     "output_type": "display_data"
    }
   ],
   "source": [
    "alpha = sympy.Matrix(sympy.var('alpha_1, alpha_2'))\n",
    "a, b, c, d = sympy.var('a, b, c, d', commutative = False)\n",
    "Sa, Sb, Sc, Sd = sympy.var('Sa, Sb, Sc, Sd', commutative = False)\n",
    "T = sympy.Matrix([[a,b], [c, d]])\n",
    "T_s = sympy.Matrix([[1-Sa,-Sb], [-Sc, 1-Sd]])\n",
    "T\n",
    "\n",
    "y, yc = sympy.var('y, y_c')\n",
    "Q = sympy.Matrix([[1,0 * y * c.conjugate()], [-y.conjugate() * c, 1]])\n",
    "Q_s = sympy.Matrix([[1,y * -Sc.conjugate()], [y.conjugate() * Sc, 1]])\n",
    "\n",
    "subs_list = [(a, 1 - Sa), (b, -Sb), (c, -Sc), (d, 1-Sd)]\n",
    "Q_s = Q.subs(subs_list)\n",
    "T_s = T.subs(subs_list)\n",
    "\n",
    "display(Q)\n",
    "\n",
    "T_prime = Q * T\n",
    "T_prime_s = Q_s * T_s\n",
    "alpha_prime = Q * alpha\n",
    "\n",
    "display(alpha_prime)\n",
    "display(T_prime)"
   ]
  },
  {
   "cell_type": "code",
   "execution_count": null,
   "metadata": {
    "collapsed": false,
    "deletable": true,
    "editable": true
   },
   "outputs": [],
   "source": []
  },
  {
   "cell_type": "code",
   "execution_count": 70,
   "metadata": {
    "collapsed": false
   },
   "outputs": [
    {
     "data": {
      "image/png": "[encoded data removed]",
      "text/latex": [
       "$$\\left[\\begin{matrix}\\alpha_{1}\\\\\\alpha_{1} \\overline{y} Sc + \\alpha_{2}\\end{matrix}\\right]$$"
      ],
      "text/plain": [
       "⎡     α₁     ⎤\n",
       "⎢            ⎥\n",
       "⎢   _        ⎥\n",
       "⎣α₁⋅y⋅Sc + α₂⎦"
      ]
     },
     "metadata": {},
     "output_type": "display_data"
    },
    {
     "data": {
      "image/png": "[encoded data removed]",
      "text/latex": [
       "$$\\left[\\begin{matrix}1 - Sa & - Sb\\\\\\overline{y} Sc \\left(1 - Sa\\right) - Sc & - \\overline{y} Sc Sb + 1 - Sd\\end{matrix}\\right]$$"
      ],
      "text/plain": [
       "⎡      1 - Sa               -Sb        ⎤\n",
       "⎢                                      ⎥\n",
       "⎢_                     _               ⎥\n",
       "⎣y⋅Sc⋅(1 - Sa) - Sc  - y⋅Sc⋅Sb + 1 - Sd⎦"
      ]
     },
     "metadata": {},
     "output_type": "display_data"
    },
    {
     "data": {
      "image/png": "[encoded data removed]",
      "text/latex": [
       "$$\\left[\\begin{matrix}Sa & Sb\\\\- \\overline{y} Sc \\left(1 - Sa\\right) + Sc & \\overline{y} Sc Sb + Sd\\end{matrix}\\right]$$"
      ],
      "text/plain": [
       "⎡         Sa                Sb     ⎤\n",
       "⎢                                  ⎥\n",
       "⎢  _                   _           ⎥\n",
       "⎣- y⋅Sc⋅(1 - Sa) + Sc  y⋅Sc⋅Sb + Sd⎦"
      ]
     },
     "metadata": {},
     "output_type": "display_data"
    }
   ],
   "source": [
    "display(alpha_prime.subs(subs_list))\n",
    "display(Q_s * T_s)\n",
    "S_prime = sympy.eye(2) - T_prime_s\n",
    "S_prime.simplify()\n",
    "display(S_prime)"
   ]
  },
  {
   "cell_type": "code",
   "execution_count": null,
   "metadata": {
    "collapsed": true
   },
   "outputs": [],
   "source": []
  },
  {
   "cell_type": "code",
   "execution_count": null,
   "metadata": {
    "collapsed": true
   },
   "outputs": [],
   "source": []
  }
 ],
 "metadata": {
  "kernelspec": {
   "display_name": "Python 3",
   "language": "python",
   "name": "python3"
  },
  "language_info": {
   "codemirror_mode": {
    "name": "ipython",
    "version": 3
   },
   "file_extension": ".py",
   "mimetype": "text/x-python",
   "name": "python",
   "nbconvert_exporter": "python",
   "pygments_lexer": "ipython3",
   "version": "3.5.3"
  },
  "latex_envs": {
   "bibliofile": "biblio.bib",
   "cite_by": "apalike",
   "current_citInitial": 1,
   "eqLabelWithNumbers": true,
   "eqNumInitial": 0
  }
 },
 "nbformat": 4,
 "nbformat_minor": 0
}
