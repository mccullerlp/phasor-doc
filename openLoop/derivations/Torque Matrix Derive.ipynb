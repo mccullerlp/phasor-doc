{
 "cells": [
  {
   "cell_type": "code",
   "execution_count": 17,
   "metadata": {
    "collapsed": false,
    "deletable": true,
    "editable": true
   },
   "outputs": [
    {
     "name": "stdout",
     "output_type": "stream",
     "text": [
      "3.5.2 (default, Sep 14 2016, 11:28:32) \n",
      "[GCC 6.2.1 20160901 (Red Hat 6.2.1-1)]\n"
     ]
    }
   ],
   "source": [
    "import sys\n",
    "import numpy as np\n",
    "import sys\n",
    "print(sys.version)\n",
    "\n",
    "from openLoop.utilities.ipynb.displays import *\n",
    "from openLoop.utilities.ipynb.filters import *\n",
    "from openLoop.utilities.ipynb.hdf import *\n",
    "#from YALL.utilities.tabulate import tabulate\n",
    "\n",
    "from declarative import (\n",
    "  OverridableObject, mproperty\n",
    ")\n",
    "\n",
    "import sympy\n",
    "from openLoop.utilities.ipynb.displays import *\n",
    "from openLoop.utilities.ipynb.ipy_sympy import *\n",
    "import scipy.linalg"
   ]
  },
  {
   "cell_type": "code",
   "execution_count": 18,
   "metadata": {
    "collapsed": false,
    "deletable": true,
    "editable": true
   },
   "outputs": [
    {
     "data": {
      "image/png": "[encoded data removed]",
      "text/latex": [
       "$$d_{x}^{2} + d_{y}^{2} + d_{z}^{2}$$"
      ],
      "text/plain": [
       "  2      2      2\n",
       "dₓ  + d_y  + d_z "
      ]
     },
     "metadata": {},
     "output_type": "display_data"
    },
    {
     "data": {
      "image/png": "[encoded data removed]",
      "text/latex": [
       "$$\\left[\\begin{matrix}0 & - d_{z} & d_{y}\\\\d_{z} & 0 & - d_{x}\\\\- d_{y} & d_{x} & 0\\end{matrix}\\right]$$"
      ],
      "text/plain": [
       "⎡ 0    -d_z  d_y⎤\n",
       "⎢               ⎥\n",
       "⎢d_z    0    -dₓ⎥\n",
       "⎢               ⎥\n",
       "⎣-d_y   dₓ    0 ⎦"
      ]
     },
     "metadata": {},
     "output_type": "display_data"
    },
    {
     "data": {
      "image/png": "[encoded data removed]",
      "text/latex": [
       "$$\\left[\\begin{matrix}0 & \\frac{d_{z}}{d_{x}^{2} + d_{y}^{2} + d_{z}^{2}} & - \\frac{d_{y}}{d_{x}^{2} + d_{y}^{2} + d_{z}^{2}}\\\\- \\frac{d_{z}}{d_{x}^{2} + d_{y}^{2} + d_{z}^{2}} & 0 & \\frac{d_{x}}{d_{x}^{2} + d_{y}^{2} + d_{z}^{2}}\\\\\\frac{d_{y}}{d_{x}^{2} + d_{y}^{2} + d_{z}^{2}} & - \\frac{d_{x}}{d_{x}^{2} + d_{y}^{2} + d_{z}^{2}} & 0\\end{matrix}\\right]$$"
      ],
      "text/plain": [
       "⎡                          d_z               -d_y       ⎤\n",
       "⎢        0          ─────────────────  ─────────────────⎥\n",
       "⎢                     2      2      2    2      2      2⎥\n",
       "⎢                   dₓ  + d_y  + d_z   dₓ  + d_y  + d_z ⎥\n",
       "⎢                                                       ⎥\n",
       "⎢      -d_z                                    dₓ       ⎥\n",
       "⎢─────────────────          0          ─────────────────⎥\n",
       "⎢  2      2      2                       2      2      2⎥\n",
       "⎢dₓ  + d_y  + d_z                      dₓ  + d_y  + d_z ⎥\n",
       "⎢                                                       ⎥\n",
       "⎢       d_y                -dₓ                          ⎥\n",
       "⎢─────────────────  ─────────────────          0        ⎥\n",
       "⎢  2      2      2    2      2      2                   ⎥\n",
       "⎣dₓ  + d_y  + d_z   dₓ  + d_y  + d_z                    ⎦"
      ]
     },
     "metadata": {},
     "output_type": "display_data"
    },
    {
     "data": {
      "image/png": "[encoded data removed]",
      "text/latex": [
       "$$\\left[\\begin{matrix}\\frac{d_{x}^{2}}{d_{x}^{2} + d_{y}^{2} + d_{z}^{2}} & \\frac{d_{x} d_{y}}{d_{x}^{2} + d_{y}^{2} + d_{z}^{2}} & \\frac{d_{x} d_{z}}{d_{x}^{2} + d_{y}^{2} + d_{z}^{2}}\\\\\\frac{d_{x} d_{y}}{d_{x}^{2} + d_{y}^{2} + d_{z}^{2}} & \\frac{d_{y}^{2}}{d_{x}^{2} + d_{y}^{2} + d_{z}^{2}} & \\frac{d_{y} d_{z}}{d_{x}^{2} + d_{y}^{2} + d_{z}^{2}}\\\\\\frac{d_{x} d_{z}}{d_{x}^{2} + d_{y}^{2} + d_{z}^{2}} & \\frac{d_{y} d_{z}}{d_{x}^{2} + d_{y}^{2} + d_{z}^{2}} & \\frac{d_{z}^{2}}{d_{x}^{2} + d_{y}^{2} + d_{z}^{2}}\\end{matrix}\\right]$$"
      ],
      "text/plain": [
       "⎡         2                                             ⎤\n",
       "⎢       dₓ                dₓ⋅d_y             dₓ⋅d_z     ⎥\n",
       "⎢─────────────────  ─────────────────  ─────────────────⎥\n",
       "⎢  2      2      2    2      2      2    2      2      2⎥\n",
       "⎢dₓ  + d_y  + d_z   dₓ  + d_y  + d_z   dₓ  + d_y  + d_z ⎥\n",
       "⎢                                                       ⎥\n",
       "⎢                             2                         ⎥\n",
       "⎢      dₓ⋅d_y              d_y              d_y⋅d_z     ⎥\n",
       "⎢─────────────────  ─────────────────  ─────────────────⎥\n",
       "⎢  2      2      2    2      2      2    2      2      2⎥\n",
       "⎢dₓ  + d_y  + d_z   dₓ  + d_y  + d_z   dₓ  + d_y  + d_z ⎥\n",
       "⎢                                                       ⎥\n",
       "⎢                                                2      ⎥\n",
       "⎢      dₓ⋅d_z            d_y⋅d_z              d_z       ⎥\n",
       "⎢─────────────────  ─────────────────  ─────────────────⎥\n",
       "⎢  2      2      2    2      2      2    2      2      2⎥\n",
       "⎣dₓ  + d_y  + d_z   dₓ  + d_y  + d_z   dₓ  + d_y  + d_z ⎦"
      ]
     },
     "metadata": {},
     "output_type": "display_data"
    },
    {
     "data": {
      "image/png": "[encoded data removed]",
      "text/latex": [
       "$$\\left[\\begin{matrix}\\frac{d_{x}^{2}}{d_{x}^{2} + d_{y}^{2} + d_{z}^{2}} & \\frac{d_{x} d_{y}}{d_{x}^{2} + d_{y}^{2} + d_{z}^{2}} & \\frac{d_{x} d_{z}}{d_{x}^{2} + d_{y}^{2} + d_{z}^{2}} & 0 & \\frac{d_{z}}{d_{x}^{2} + d_{y}^{2} + d_{z}^{2}} & - \\frac{d_{y}}{d_{x}^{2} + d_{y}^{2} + d_{z}^{2}}\\\\\\frac{d_{x} d_{y}}{d_{x}^{2} + d_{y}^{2} + d_{z}^{2}} & \\frac{d_{y}^{2}}{d_{x}^{2} + d_{y}^{2} + d_{z}^{2}} & \\frac{d_{y} d_{z}}{d_{x}^{2} + d_{y}^{2} + d_{z}^{2}} & - \\frac{d_{z}}{d_{x}^{2} + d_{y}^{2} + d_{z}^{2}} & 0 & \\frac{d_{x}}{d_{x}^{2} + d_{y}^{2} + d_{z}^{2}}\\\\\\frac{d_{x} d_{z}}{d_{x}^{2} + d_{y}^{2} + d_{z}^{2}} & \\frac{d_{y} d_{z}}{d_{x}^{2} + d_{y}^{2} + d_{z}^{2}} & \\frac{d_{z}^{2}}{d_{x}^{2} + d_{y}^{2} + d_{z}^{2}} & \\frac{d_{y}}{d_{x}^{2} + d_{y}^{2} + d_{z}^{2}} & - \\frac{d_{x}}{d_{x}^{2} + d_{y}^{2} + d_{z}^{2}} & 0\\\\0 & - d_{z} & d_{y} & \\frac{d_{x}^{2}}{d_{x}^{2} + d_{y}^{2} + d_{z}^{2}} & \\frac{d_{x} d_{y}}{d_{x}^{2} + d_{y}^{2} + d_{z}^{2}} & \\frac{d_{x} d_{z}}{d_{x}^{2} + d_{y}^{2} + d_{z}^{2}}\\\\d_{z} & 0 & - d_{x} & \\frac{d_{x} d_{y}}{d_{x}^{2} + d_{y}^{2} + d_{z}^{2}} & \\frac{d_{y}^{2}}{d_{x}^{2} + d_{y}^{2} + d_{z}^{2}} & \\frac{d_{y} d_{z}}{d_{x}^{2} + d_{y}^{2} + d_{z}^{2}}\\\\- d_{y} & d_{x} & 0 & \\frac{d_{x} d_{z}}{d_{x}^{2} + d_{y}^{2} + d_{z}^{2}} & \\frac{d_{y} d_{z}}{d_{x}^{2} + d_{y}^{2} + d_{z}^{2}} & \\frac{d_{z}^{2}}{d_{x}^{2} + d_{y}^{2} + d_{z}^{2}}\\end{matrix}\\right]$$"
      ],
      "text/plain": [
       "⎡         2                                                                   \n",
       "⎢       dₓ                dₓ⋅d_y             dₓ⋅d_z                           \n",
       "⎢─────────────────  ─────────────────  ─────────────────          0          ─\n",
       "⎢  2      2      2    2      2      2    2      2      2                      \n",
       "⎢dₓ  + d_y  + d_z   dₓ  + d_y  + d_z   dₓ  + d_y  + d_z                      d\n",
       "⎢                                                                             \n",
       "⎢                             2                                               \n",
       "⎢      dₓ⋅d_y              d_y              d_y⋅d_z             -d_z          \n",
       "⎢─────────────────  ─────────────────  ─────────────────  ─────────────────   \n",
       "⎢  2      2      2    2      2      2    2      2      2    2      2      2   \n",
       "⎢dₓ  + d_y  + d_z   dₓ  + d_y  + d_z   dₓ  + d_y  + d_z   dₓ  + d_y  + d_z    \n",
       "⎢                                                                             \n",
       "⎢                                                2                            \n",
       "⎢      dₓ⋅d_z            d_y⋅d_z              d_z                d_y          \n",
       "⎢─────────────────  ─────────────────  ─────────────────  ─────────────────  ─\n",
       "⎢  2      2      2    2      2      2    2      2      2    2      2      2   \n",
       "⎢dₓ  + d_y  + d_z   dₓ  + d_y  + d_z   dₓ  + d_y  + d_z   dₓ  + d_y  + d_z   d\n",
       "⎢                                                                             \n",
       "⎢                                                                  2          \n",
       "⎢                                                                dₓ           \n",
       "⎢        0                -d_z                d_y         ─────────────────  ─\n",
       "⎢                                                           2      2      2   \n",
       "⎢                                                         dₓ  + d_y  + d_z   d\n",
       "⎢                                                                             \n",
       "⎢                                                                             \n",
       "⎢                                                               dₓ⋅d_y        \n",
       "⎢       d_z                 0                 -dₓ         ─────────────────  ─\n",
       "⎢                                                           2      2      2   \n",
       "⎢                                                         dₓ  + d_y  + d_z   d\n",
       "⎢                                                                             \n",
       "⎢                                                                             \n",
       "⎢                                                               dₓ⋅d_z        \n",
       "⎢      -d_y                dₓ                  0          ─────────────────  ─\n",
       "⎢                                                           2      2      2   \n",
       "⎣                                                         dₓ  + d_y  + d_z   d\n",
       "\n",
       "                                   ⎤\n",
       "      d_z               -d_y       ⎥\n",
       "────────────────  ─────────────────⎥\n",
       " 2      2      2    2      2      2⎥\n",
       "ₓ  + d_y  + d_z   dₓ  + d_y  + d_z ⎥\n",
       "                                   ⎥\n",
       "                                   ⎥\n",
       "                          dₓ       ⎥\n",
       "       0          ─────────────────⎥\n",
       "                    2      2      2⎥\n",
       "                  dₓ  + d_y  + d_z ⎥\n",
       "                                   ⎥\n",
       "                                   ⎥\n",
       "      -dₓ                          ⎥\n",
       "────────────────          0        ⎥\n",
       " 2      2      2                   ⎥\n",
       "ₓ  + d_y  + d_z                    ⎥\n",
       "                                   ⎥\n",
       "                                   ⎥\n",
       "     dₓ⋅d_y             dₓ⋅d_z     ⎥\n",
       "────────────────  ─────────────────⎥\n",
       " 2      2      2    2      2      2⎥\n",
       "ₓ  + d_y  + d_z   dₓ  + d_y  + d_z ⎥\n",
       "                                   ⎥\n",
       "         2                         ⎥\n",
       "      d_y              d_y⋅d_z     ⎥\n",
       "────────────────  ─────────────────⎥\n",
       " 2      2      2    2      2      2⎥\n",
       "ₓ  + d_y  + d_z   dₓ  + d_y  + d_z ⎥\n",
       "                                   ⎥\n",
       "                            2      ⎥\n",
       "    d_y⋅d_z              d_z       ⎥\n",
       "────────────────  ─────────────────⎥\n",
       " 2      2      2    2      2      2⎥\n",
       "ₓ  + d_y  + d_z   dₓ  + d_y  + d_z ⎦"
      ]
     },
     "metadata": {},
     "output_type": "display_data"
    },
    {
     "data": {
      "image/png": "[encoded data removed]",
      "text/latex": [
       "$$\\left[\\begin{matrix}\\frac{d_{x}^{2}}{d_{x}^{2} + d_{y}^{2} + d_{z}^{2}} & \\frac{d_{x} d_{y}}{d_{x}^{2} + d_{y}^{2} + d_{z}^{2}} & \\frac{d_{x} d_{z}}{d_{x}^{2} + d_{y}^{2} + d_{z}^{2}} & 0 & d_{z} & - d_{y}\\\\\\frac{d_{x} d_{y}}{d_{x}^{2} + d_{y}^{2} + d_{z}^{2}} & \\frac{d_{y}^{2}}{d_{x}^{2} + d_{y}^{2} + d_{z}^{2}} & \\frac{d_{y} d_{z}}{d_{x}^{2} + d_{y}^{2} + d_{z}^{2}} & - d_{z} & 0 & d_{x}\\\\\\frac{d_{x} d_{z}}{d_{x}^{2} + d_{y}^{2} + d_{z}^{2}} & \\frac{d_{y} d_{z}}{d_{x}^{2} + d_{y}^{2} + d_{z}^{2}} & \\frac{d_{z}^{2}}{d_{x}^{2} + d_{y}^{2} + d_{z}^{2}} & d_{y} & - d_{x} & 0\\\\0 & - \\frac{d_{z}}{d_{x}^{2} + d_{y}^{2} + d_{z}^{2}} & \\frac{d_{y}}{d_{x}^{2} + d_{y}^{2} + d_{z}^{2}} & \\frac{d_{x}^{2}}{d_{x}^{2} + d_{y}^{2} + d_{z}^{2}} & \\frac{d_{x} d_{y}}{d_{x}^{2} + d_{y}^{2} + d_{z}^{2}} & \\frac{d_{x} d_{z}}{d_{x}^{2} + d_{y}^{2} + d_{z}^{2}}\\\\\\frac{d_{z}}{d_{x}^{2} + d_{y}^{2} + d_{z}^{2}} & 0 & - \\frac{d_{x}}{d_{x}^{2} + d_{y}^{2} + d_{z}^{2}} & \\frac{d_{x} d_{y}}{d_{x}^{2} + d_{y}^{2} + d_{z}^{2}} & \\frac{d_{y}^{2}}{d_{x}^{2} + d_{y}^{2} + d_{z}^{2}} & \\frac{d_{y} d_{z}}{d_{x}^{2} + d_{y}^{2} + d_{z}^{2}}\\\\- \\frac{d_{y}}{d_{x}^{2} + d_{y}^{2} + d_{z}^{2}} & \\frac{d_{x}}{d_{x}^{2} + d_{y}^{2} + d_{z}^{2}} & 0 & \\frac{d_{x} d_{z}}{d_{x}^{2} + d_{y}^{2} + d_{z}^{2}} & \\frac{d_{y} d_{z}}{d_{x}^{2} + d_{y}^{2} + d_{z}^{2}} & \\frac{d_{z}^{2}}{d_{x}^{2} + d_{y}^{2} + d_{z}^{2}}\\end{matrix}\\right]$$"
      ],
      "text/plain": [
       "⎡         2                                                                   \n",
       "⎢       dₓ                dₓ⋅d_y             dₓ⋅d_z                           \n",
       "⎢─────────────────  ─────────────────  ─────────────────          0           \n",
       "⎢  2      2      2    2      2      2    2      2      2                      \n",
       "⎢dₓ  + d_y  + d_z   dₓ  + d_y  + d_z   dₓ  + d_y  + d_z                       \n",
       "⎢                                                                             \n",
       "⎢                             2                                               \n",
       "⎢      dₓ⋅d_y              d_y              d_y⋅d_z                           \n",
       "⎢─────────────────  ─────────────────  ─────────────────        -d_z          \n",
       "⎢  2      2      2    2      2      2    2      2      2                      \n",
       "⎢dₓ  + d_y  + d_z   dₓ  + d_y  + d_z   dₓ  + d_y  + d_z                       \n",
       "⎢                                                                             \n",
       "⎢                                                2                            \n",
       "⎢      dₓ⋅d_z            d_y⋅d_z              d_z                             \n",
       "⎢─────────────────  ─────────────────  ─────────────────         d_y          \n",
       "⎢  2      2      2    2      2      2    2      2      2                      \n",
       "⎢dₓ  + d_y  + d_z   dₓ  + d_y  + d_z   dₓ  + d_y  + d_z                       \n",
       "⎢                                                                             \n",
       "⎢                                                                  2          \n",
       "⎢                         -d_z                d_y                dₓ           \n",
       "⎢        0          ─────────────────  ─────────────────  ─────────────────  ─\n",
       "⎢                     2      2      2    2      2      2    2      2      2   \n",
       "⎢                   dₓ  + d_y  + d_z   dₓ  + d_y  + d_z   dₓ  + d_y  + d_z   d\n",
       "⎢                                                                             \n",
       "⎢                                                                             \n",
       "⎢       d_z                                   -dₓ               dₓ⋅d_y        \n",
       "⎢─────────────────          0          ─────────────────  ─────────────────  ─\n",
       "⎢  2      2      2                       2      2      2    2      2      2   \n",
       "⎢dₓ  + d_y  + d_z                      dₓ  + d_y  + d_z   dₓ  + d_y  + d_z   d\n",
       "⎢                                                                             \n",
       "⎢                                                                             \n",
       "⎢      -d_y                 dₓ                                  dₓ⋅d_z        \n",
       "⎢─────────────────  ─────────────────          0          ─────────────────  ─\n",
       "⎢  2      2      2    2      2      2                       2      2      2   \n",
       "⎣dₓ  + d_y  + d_z   dₓ  + d_y  + d_z                      dₓ  + d_y  + d_z   d\n",
       "\n",
       "                                   ⎤\n",
       "                                   ⎥\n",
       "      d_z               -d_y       ⎥\n",
       "                                   ⎥\n",
       "                                   ⎥\n",
       "                                   ⎥\n",
       "                                   ⎥\n",
       "                                   ⎥\n",
       "       0                 dₓ        ⎥\n",
       "                                   ⎥\n",
       "                                   ⎥\n",
       "                                   ⎥\n",
       "                                   ⎥\n",
       "                                   ⎥\n",
       "      -dₓ                 0        ⎥\n",
       "                                   ⎥\n",
       "                                   ⎥\n",
       "                                   ⎥\n",
       "                                   ⎥\n",
       "     dₓ⋅d_y             dₓ⋅d_z     ⎥\n",
       "────────────────  ─────────────────⎥\n",
       " 2      2      2    2      2      2⎥\n",
       "ₓ  + d_y  + d_z   dₓ  + d_y  + d_z ⎥\n",
       "                                   ⎥\n",
       "         2                         ⎥\n",
       "      d_y              d_y⋅d_z     ⎥\n",
       "────────────────  ─────────────────⎥\n",
       " 2      2      2    2      2      2⎥\n",
       "ₓ  + d_y  + d_z   dₓ  + d_y  + d_z ⎥\n",
       "                                   ⎥\n",
       "                            2      ⎥\n",
       "    d_y⋅d_z              d_z       ⎥\n",
       "────────────────  ─────────────────⎥\n",
       " 2      2      2    2      2      2⎥\n",
       "ₓ  + d_y  + d_z   dₓ  + d_y  + d_z ⎦"
      ]
     },
     "metadata": {},
     "output_type": "display_data"
    }
   ],
   "source": [
    "dx,dy,dz = sympy.var('d_x, d_y, d_z')\n",
    "d = sympy.Matrix([dx,dy,dz])\n",
    "dLsq = dx**2 + dy**2 + dz**2\n",
    "dLsq = (d.T * d)[0,0]\n",
    "display(dLsq)\n",
    "P_torque = sympy.Matrix([[0,-dz,dy],[dz,0,-dx],[-dy,dx,0]])\n",
    "display(P_torque)\n",
    "P_force = sympy.Matrix([[0,dz,-dy],[-dz,0,dx],[dy,-dx,0]]) / dLsq\n",
    "display(P_force)\n",
    "P_d = (d * d.T)/dLsq\n",
    "display(P_d)\n",
    "\n",
    "bm = sympy.Matrix(np.bmat([[P_d, P_force],[P_torque,P_d]]))\n",
    "display(bm)\n",
    "display(bm.T)"
   ]
  },
  {
   "cell_type": "code",
   "execution_count": 19,
   "metadata": {
    "collapsed": false,
    "deletable": true,
    "editable": true
   },
   "outputs": [
    {
     "data": {
      "image/png": "[encoded data removed]",
      "text/latex": [
       "$$1$$"
      ],
      "text/plain": [
       "1"
      ]
     },
     "execution_count": 19,
     "metadata": {},
     "output_type": "execute_result"
    }
   ],
   "source": [
    "bm.det()"
   ]
  },
  {
   "cell_type": "code",
   "execution_count": 20,
   "metadata": {
    "collapsed": false,
    "deletable": true,
    "editable": true
   },
   "outputs": [
    {
     "data": {
      "image/png": "[encoded data removed]",
      "text/latex": [
       "$$\\left[\\begin{matrix}1 & 0 & 0 & 0 & 0 & 0\\\\0 & 1 & 0 & 0 & 0 & 0\\\\0 & 0 & 1 & 0 & 0 & 0\\\\0 & 0 & 0 & 1 & 0 & 0\\\\0 & 0 & 0 & 0 & 1 & 0\\\\0 & 0 & 0 & 0 & 0 & 1\\end{matrix}\\right]$$"
      ],
      "text/plain": [
       "⎡1  0  0  0  0  0⎤\n",
       "⎢                ⎥\n",
       "⎢0  1  0  0  0  0⎥\n",
       "⎢                ⎥\n",
       "⎢0  0  1  0  0  0⎥\n",
       "⎢                ⎥\n",
       "⎢0  0  0  1  0  0⎥\n",
       "⎢                ⎥\n",
       "⎢0  0  0  0  1  0⎥\n",
       "⎢                ⎥\n",
       "⎣0  0  0  0  0  1⎦"
      ]
     },
     "execution_count": 20,
     "metadata": {},
     "output_type": "execute_result"
    }
   ],
   "source": [
    "ct = (bm * bm)\n",
    "ct.simplify()\n",
    "ct"
   ]
  },
  {
   "cell_type": "code",
   "execution_count": 21,
   "metadata": {
    "collapsed": false,
    "deletable": true,
    "editable": true
   },
   "outputs": [
    {
     "data": {
      "text/plain": [
       "array([[d_x**2, d_x*d_y, d_x*d_z],\n",
       "       [d_x*d_y, d_y**2, d_y*d_z],\n",
       "       [d_x*d_z, d_y*d_z, d_z**2]], dtype=object)"
      ]
     },
     "execution_count": 21,
     "metadata": {},
     "output_type": "execute_result"
    }
   ],
   "source": [
    "d_np = np.array([dx,dy,dz])\n",
    "d_np\n",
    "np.outer(d_np, d_np)"
   ]
  },
  {
   "cell_type": "code",
   "execution_count": 22,
   "metadata": {
    "collapsed": false,
    "deletable": true,
    "editable": true
   },
   "outputs": [
    {
     "data": {
      "image/png": "[encoded data removed]",
      "text/latex": [
       "$$\\left[\\begin{matrix}\\frac{d_{x}^{4}}{\\left(d_{x}^{2} + d_{y}^{2} + d_{z}^{2}\\right)^{2}} + \\frac{d_{x}^{2} d_{y}^{2}}{\\left(d_{x}^{2} + d_{y}^{2} + d_{z}^{2}\\right)^{2}} + \\frac{d_{x}^{2} d_{z}^{2}}{\\left(d_{x}^{2} + d_{y}^{2} + d_{z}^{2}\\right)^{2}} & \\frac{d_{x}^{3} d_{y}}{\\left(d_{x}^{2} + d_{y}^{2} + d_{z}^{2}\\right)^{2}} + \\frac{d_{x} d_{y}^{3}}{\\left(d_{x}^{2} + d_{y}^{2} + d_{z}^{2}\\right)^{2}} + \\frac{d_{x} d_{y} d_{z}^{2}}{\\left(d_{x}^{2} + d_{y}^{2} + d_{z}^{2}\\right)^{2}} & \\frac{d_{x}^{3} d_{z}}{\\left(d_{x}^{2} + d_{y}^{2} + d_{z}^{2}\\right)^{2}} + \\frac{d_{x} d_{y}^{2} d_{z}}{\\left(d_{x}^{2} + d_{y}^{2} + d_{z}^{2}\\right)^{2}} + \\frac{d_{x} d_{z}^{3}}{\\left(d_{x}^{2} + d_{y}^{2} + d_{z}^{2}\\right)^{2}}\\\\\\frac{d_{x}^{3} d_{y}}{\\left(d_{x}^{2} + d_{y}^{2} + d_{z}^{2}\\right)^{2}} + \\frac{d_{x} d_{y}^{3}}{\\left(d_{x}^{2} + d_{y}^{2} + d_{z}^{2}\\right)^{2}} + \\frac{d_{x} d_{y} d_{z}^{2}}{\\left(d_{x}^{2} + d_{y}^{2} + d_{z}^{2}\\right)^{2}} & \\frac{d_{x}^{2} d_{y}^{2}}{\\left(d_{x}^{2} + d_{y}^{2} + d_{z}^{2}\\right)^{2}} + \\frac{d_{y}^{4}}{\\left(d_{x}^{2} + d_{y}^{2} + d_{z}^{2}\\right)^{2}} + \\frac{d_{y}^{2} d_{z}^{2}}{\\left(d_{x}^{2} + d_{y}^{2} + d_{z}^{2}\\right)^{2}} & \\frac{d_{x}^{2} d_{y} d_{z}}{\\left(d_{x}^{2} + d_{y}^{2} + d_{z}^{2}\\right)^{2}} + \\frac{d_{y}^{3} d_{z}}{\\left(d_{x}^{2} + d_{y}^{2} + d_{z}^{2}\\right)^{2}} + \\frac{d_{y} d_{z}^{3}}{\\left(d_{x}^{2} + d_{y}^{2} + d_{z}^{2}\\right)^{2}}\\\\\\frac{d_{x}^{3} d_{z}}{\\left(d_{x}^{2} + d_{y}^{2} + d_{z}^{2}\\right)^{2}} + \\frac{d_{x} d_{y}^{2} d_{z}}{\\left(d_{x}^{2} + d_{y}^{2} + d_{z}^{2}\\right)^{2}} + \\frac{d_{x} d_{z}^{3}}{\\left(d_{x}^{2} + d_{y}^{2} + d_{z}^{2}\\right)^{2}} & \\frac{d_{x}^{2} d_{y} d_{z}}{\\left(d_{x}^{2} + d_{y}^{2} + d_{z}^{2}\\right)^{2}} + \\frac{d_{y}^{3} d_{z}}{\\left(d_{x}^{2} + d_{y}^{2} + d_{z}^{2}\\right)^{2}} + \\frac{d_{y} d_{z}^{3}}{\\left(d_{x}^{2} + d_{y}^{2} + d_{z}^{2}\\right)^{2}} & \\frac{d_{x}^{2} d_{z}^{2}}{\\left(d_{x}^{2} + d_{y}^{2} + d_{z}^{2}\\right)^{2}} + \\frac{d_{y}^{2} d_{z}^{2}}{\\left(d_{x}^{2} + d_{y}^{2} + d_{z}^{2}\\right)^{2}} + \\frac{d_{z}^{4}}{\\left(d_{x}^{2} + d_{y}^{2} + d_{z}^{2}\\right)^{2}}\\end{matrix}\\right]$$"
      ],
      "text/plain": [
       "⎡          4                    2    2                 2    2                3\n",
       "⎢        dₓ                   dₓ ⋅d_y                dₓ ⋅d_z               dₓ \n",
       "⎢──────────────────── + ──────────────────── + ────────────────────  ─────────\n",
       "⎢                   2                      2                      2           \n",
       "⎢⎛  2      2      2⎞    ⎛  2      2      2⎞    ⎛  2      2      2⎞   ⎛  2     \n",
       "⎢⎝dₓ  + d_y  + d_z ⎠    ⎝dₓ  + d_y  + d_z ⎠    ⎝dₓ  + d_y  + d_z ⎠   ⎝dₓ  + d_\n",
       "⎢                                                                             \n",
       "⎢        3                          3                        2               2\n",
       "⎢      dₓ ⋅d_y                dₓ⋅d_y               dₓ⋅d_y⋅d_z              dₓ \n",
       "⎢──────────────────── + ──────────────────── + ────────────────────  ─────────\n",
       "⎢                   2                      2                      2           \n",
       "⎢⎛  2      2      2⎞    ⎛  2      2      2⎞    ⎛  2      2      2⎞   ⎛  2     \n",
       "⎢⎝dₓ  + d_y  + d_z ⎠    ⎝dₓ  + d_y  + d_z ⎠    ⎝dₓ  + d_y  + d_z ⎠   ⎝dₓ  + d_\n",
       "⎢                                                                             \n",
       "⎢        3                        2                        3               2  \n",
       "⎢      dₓ ⋅d_z              dₓ⋅d_y ⋅d_z              dₓ⋅d_z              dₓ ⋅d\n",
       "⎢──────────────────── + ──────────────────── + ────────────────────  ─────────\n",
       "⎢                   2                      2                      2           \n",
       "⎢⎛  2      2      2⎞    ⎛  2      2      2⎞    ⎛  2      2      2⎞   ⎛  2     \n",
       "⎣⎝dₓ  + d_y  + d_z ⎠    ⎝dₓ  + d_y  + d_z ⎠    ⎝dₓ  + d_y  + d_z ⎠   ⎝dₓ  + d_\n",
       "\n",
       "                          3                        2               3          \n",
       "⋅d_y                dₓ⋅d_y               dₓ⋅d_y⋅d_z              dₓ ⋅d_z      \n",
       "─────────── + ──────────────────── + ────────────────────  ───────────────────\n",
       "          2                      2                      2                     \n",
       " 2      2⎞    ⎛  2      2      2⎞    ⎛  2      2      2⎞   ⎛  2      2      2⎞\n",
       "y  + d_z ⎠    ⎝dₓ  + d_y  + d_z ⎠    ⎝dₓ  + d_y  + d_z ⎠   ⎝dₓ  + d_y  + d_z ⎠\n",
       "                                                                              \n",
       "    2                    4                   2    2              2            \n",
       "⋅d_y                  d_y                 d_y ⋅d_z             dₓ ⋅d_y⋅d_z    \n",
       "─────────── + ──────────────────── + ────────────────────  ───────────────────\n",
       "          2                      2                      2                     \n",
       " 2      2⎞    ⎛  2      2      2⎞    ⎛  2      2      2⎞   ⎛  2      2      2⎞\n",
       "y  + d_z ⎠    ⎝dₓ  + d_y  + d_z ⎠    ⎝dₓ  + d_y  + d_z ⎠   ⎝dₓ  + d_y  + d_z ⎠\n",
       "                                                                              \n",
       "                       3                          3                2    2     \n",
       "_y⋅d_z              d_y ⋅d_z               d_y⋅d_z               dₓ ⋅d_z      \n",
       "─────────── + ──────────────────── + ────────────────────  ───────────────────\n",
       "          2                      2                      2                     \n",
       " 2      2⎞    ⎛  2      2      2⎞    ⎛  2      2      2⎞   ⎛  2      2      2⎞\n",
       "y  + d_z ⎠    ⎝dₓ  + d_y  + d_z ⎠    ⎝dₓ  + d_y  + d_z ⎠   ⎝dₓ  + d_y  + d_z ⎠\n",
       "\n",
       "              2                        3       ⎤\n",
       "        dₓ⋅d_y ⋅d_z              dₓ⋅d_z        ⎥\n",
       "─ + ──────────────────── + ────────────────────⎥\n",
       "2                      2                      2⎥\n",
       "    ⎛  2      2      2⎞    ⎛  2      2      2⎞ ⎥\n",
       "    ⎝dₓ  + d_y  + d_z ⎠    ⎝dₓ  + d_y  + d_z ⎠ ⎥\n",
       "                                               ⎥\n",
       "             3                          3      ⎥\n",
       "          d_y ⋅d_z               d_y⋅d_z       ⎥\n",
       "─ + ──────────────────── + ────────────────────⎥\n",
       "2                      2                      2⎥\n",
       "    ⎛  2      2      2⎞    ⎛  2      2      2⎞ ⎥\n",
       "    ⎝dₓ  + d_y  + d_z ⎠    ⎝dₓ  + d_y  + d_z ⎠ ⎥\n",
       "                                               ⎥\n",
       "            2    2                    4        ⎥\n",
       "         d_y ⋅d_z                  d_z         ⎥\n",
       "─ + ──────────────────── + ────────────────────⎥\n",
       "2                      2                      2⎥\n",
       "    ⎛  2      2      2⎞    ⎛  2      2      2⎞ ⎥\n",
       "    ⎝dₓ  + d_y  + d_z ⎠    ⎝dₓ  + d_y  + d_z ⎠ ⎦"
      ]
     },
     "execution_count": 22,
     "metadata": {},
     "output_type": "execute_result"
    }
   ],
   "source": [
    "ct = (P_d * P_d.T)\n",
    "ct.expand().simplify()\n",
    "ct"
   ]
  },
  {
   "cell_type": "code",
   "execution_count": 23,
   "metadata": {
    "collapsed": false,
    "deletable": true,
    "editable": true
   },
   "outputs": [
    {
     "data": {
      "image/png": "[encoded data removed]",
      "text/latex": [
       "$$\\left[\\begin{matrix}\\frac{d_{y}^{2}}{d_{x}^{2} + d_{y}^{2} + d_{z}^{2}} + \\frac{d_{z}^{2}}{d_{x}^{2} + d_{y}^{2} + d_{z}^{2}} & - \\frac{d_{x} d_{y}}{d_{x}^{2} + d_{y}^{2} + d_{z}^{2}} & - \\frac{d_{x} d_{z}}{d_{x}^{2} + d_{y}^{2} + d_{z}^{2}}\\\\- \\frac{d_{x} d_{y}}{d_{x}^{2} + d_{y}^{2} + d_{z}^{2}} & \\frac{d_{x}^{2}}{d_{x}^{2} + d_{y}^{2} + d_{z}^{2}} + \\frac{d_{z}^{2}}{d_{x}^{2} + d_{y}^{2} + d_{z}^{2}} & - \\frac{d_{y} d_{z}}{d_{x}^{2} + d_{y}^{2} + d_{z}^{2}}\\\\- \\frac{d_{x} d_{z}}{d_{x}^{2} + d_{y}^{2} + d_{z}^{2}} & - \\frac{d_{y} d_{z}}{d_{x}^{2} + d_{y}^{2} + d_{z}^{2}} & \\frac{d_{x}^{2}}{d_{x}^{2} + d_{y}^{2} + d_{z}^{2}} + \\frac{d_{y}^{2}}{d_{x}^{2} + d_{y}^{2} + d_{z}^{2}}\\end{matrix}\\right]$$"
      ],
      "text/plain": [
       "⎡          2                   2                                              \n",
       "⎢       d_y                 d_z                        -dₓ⋅d_y                \n",
       "⎢───────────────── + ─────────────────            ─────────────────           \n",
       "⎢  2      2      2     2      2      2              2      2      2           \n",
       "⎢dₓ  + d_y  + d_z    dₓ  + d_y  + d_z             dₓ  + d_y  + d_z            \n",
       "⎢                                                                             \n",
       "⎢                                                2                    2       \n",
       "⎢               -dₓ⋅d_y                        dₓ                  d_z        \n",
       "⎢          ─────────────────            ───────────────── + ───────────────── \n",
       "⎢            2      2      2              2      2      2     2      2      2 \n",
       "⎢          dₓ  + d_y  + d_z             dₓ  + d_y  + d_z    dₓ  + d_y  + d_z  \n",
       "⎢                                                                             \n",
       "⎢                                                                             \n",
       "⎢               -dₓ⋅d_z                               -d_y⋅d_z                \n",
       "⎢          ─────────────────                      ─────────────────           \n",
       "⎢            2      2      2                        2      2      2           \n",
       "⎣          dₓ  + d_y  + d_z                       dₓ  + d_y  + d_z            \n",
       "\n",
       "                                      ⎤\n",
       "                -dₓ⋅d_z               ⎥\n",
       "           ─────────────────          ⎥\n",
       "             2      2      2          ⎥\n",
       "           dₓ  + d_y  + d_z           ⎥\n",
       "                                      ⎥\n",
       "                                      ⎥\n",
       "               -d_y⋅d_z               ⎥\n",
       "           ─────────────────          ⎥\n",
       "             2      2      2          ⎥\n",
       "           dₓ  + d_y  + d_z           ⎥\n",
       "                                      ⎥\n",
       "          2                    2      ⎥\n",
       "        dₓ                  d_y       ⎥\n",
       " ───────────────── + ─────────────────⎥\n",
       "   2      2      2     2      2      2⎥\n",
       " dₓ  + d_y  + d_z    dₓ  + d_y  + d_z ⎦"
      ]
     },
     "execution_count": 23,
     "metadata": {},
     "output_type": "execute_result"
    }
   ],
   "source": [
    "ct = (P_force * P_torque)\n",
    "ct.expand().simplify()\n",
    "ct\n"
   ]
  },
  {
   "cell_type": "code",
   "execution_count": 24,
   "metadata": {
    "collapsed": false,
    "deletable": true,
    "editable": true
   },
   "outputs": [
    {
     "name": "stdout",
     "output_type": "stream",
     "text": [
      "[[ 0.01960784 -0.19607843 -0.98039216]\n",
      " [-0.19607843  0.96078431 -0.19607843]\n",
      " [-0.98039216 -0.19607843  0.01960784]]\n",
      "[[ 0.01960784 -0.19607843 -0.98039216]\n",
      " [-0.19607843  0.96078431 -0.19607843]\n",
      " [-0.98039216 -0.19607843  0.01960784]]\n"
     ]
    },
    {
     "data": {
      "text/plain": [
       "(array([ 1., -1.,  1.]), matrix([[ 0.71400555, -0.70014004,  0.51870247],\n",
       "         [-0.13730876, -0.14002801, -0.77360539],\n",
       "         [-0.6865438 , -0.70014004, -0.36398139]]))"
      ]
     },
     "execution_count": 24,
     "metadata": {},
     "output_type": "execute_result"
    }
   ],
   "source": [
    "I = np.eye(3)\n",
    "VIAB = np.bmat([[I,I],[I,-I]])\n",
    "d = 5\n",
    "X2VI = np.matrix([\n",
    "    [0,0,0,1,1/d,1],\n",
    "    [0,d,-1,0,0,0,],\n",
    "    [1,0,-1,0,0,0],\n",
    "]) * VIAB.T\n",
    "print(np.linalg.inv(X2VI[:,0:3]) * X2VI[:,3:6])\n",
    "print(np.linalg.inv(X2VI[:,3:6]) * X2VI[:,0:3])\n",
    "np.linalg.eig(np.linalg.inv(X2VI[:,0:3]) * X2VI[:,3:6])"
   ]
  },
  {
   "cell_type": "code",
   "execution_count": 25,
   "metadata": {
    "collapsed": false,
    "deletable": true,
    "editable": true
   },
   "outputs": [
    {
     "data": {
      "image/png": "[encoded data removed]",
      "text/latex": [
       "$$\\left[\\begin{matrix}- \\frac{1}{3} & \\frac{2 d}{3} & \\frac{2}{3}\\\\\\frac{2}{3 d} & - \\frac{1}{3} & \\frac{2}{3 d}\\\\\\frac{2}{3} & \\frac{2 d}{3} & - \\frac{1}{3}\\end{matrix}\\right]$$"
      ],
      "text/plain": [
       "⎡      2⋅d       ⎤\n",
       "⎢-1/3  ───   2/3 ⎥\n",
       "⎢       3        ⎥\n",
       "⎢                ⎥\n",
       "⎢ 2           2  ⎥\n",
       "⎢───   -1/3  ─── ⎥\n",
       "⎢3⋅d         3⋅d ⎥\n",
       "⎢                ⎥\n",
       "⎢      2⋅d       ⎥\n",
       "⎢2/3   ───   -1/3⎥\n",
       "⎣       3        ⎦"
      ]
     },
     "execution_count": 25,
     "metadata": {},
     "output_type": "execute_result"
    }
   ],
   "source": [
    "I = np.eye(3, dtype = object)\n",
    "VIAB = np.bmat([[I,I],[-I,I]])\n",
    "d = sympy.var('d')\n",
    "X2VI = sympy.Matrix(np.matrix([\n",
    "    [0,0,0,1,d,1],\n",
    "    [0,d,-1,0,0,0,],\n",
    "    [1,0,-1,0,0,0],\n",
    "]) * VIAB.T)\n",
    "M = sympy.Matrix(X2VI[:,0:3]).inv() * sympy.Matrix(X2VI[:,3:6])\n",
    "M = M.expand()\n",
    "M.simplify()\n",
    "M"
   ]
  },
  {
   "cell_type": "code",
   "execution_count": 26,
   "metadata": {
    "collapsed": false,
    "deletable": true,
    "editable": true
   },
   "outputs": [
    {
     "data": {
      "image/png": "[encoded data removed]",
      "text/latex": [
       "$$\\left[\\begin{matrix}- \\frac{1}{3} & \\frac{2}{3} & 0 & \\frac{2}{3}\\\\\\frac{2}{3} & - \\frac{1}{3} & 0 & \\frac{2}{3}\\\\0 & 0 & -1 & 0\\\\\\frac{2}{3} & \\frac{2}{3} & 0 & - \\frac{1}{3}\\end{matrix}\\right]$$"
      ],
      "text/plain": [
       "⎡-1/3  2/3   0   2/3 ⎤\n",
       "⎢                    ⎥\n",
       "⎢2/3   -1/3  0   2/3 ⎥\n",
       "⎢                    ⎥\n",
       "⎢ 0     0    -1   0  ⎥\n",
       "⎢                    ⎥\n",
       "⎣2/3   2/3   0   -1/3⎦"
      ]
     },
     "metadata": {},
     "output_type": "display_data"
    },
    {
     "data": {
      "text/plain": [
       "(array([-1.,  1., -1., -1.]),\n",
       " array([[-0.81649658,  0.57735027,  0.13613844,  0.        ],\n",
       "        [ 0.40824829,  0.57735027, -0.76527776,  0.        ],\n",
       "        [ 0.        ,  0.        ,  0.        ,  1.        ],\n",
       "        [ 0.40824829,  0.57735027,  0.62913932,  0.        ]]))"
      ]
     },
     "execution_count": 26,
     "metadata": {},
     "output_type": "execute_result"
    }
   ],
   "source": [
    "I = np.eye(4, dtype = object)\n",
    "VIAB = np.bmat([[I,I],[-I,I]])\n",
    "d = sympy.var('d')\n",
    "X2VI = sympy.Matrix(np.matrix([\n",
    "    [0,0,0,0,1,1,0,1],\n",
    "    [1,0,d,-1,0,0,0,0,],\n",
    "    [0,1,-d,-1,0,0,0,0],\n",
    "    [1,-1,0,0,0,0,0,0],\n",
    "])) * sympy.Matrix(VIAB).inv()\n",
    "M = sympy.Matrix(X2VI[:,0:4]).pinv() * sympy.Matrix(X2VI[:,4:8])\n",
    "M = M.expand()\n",
    "M.simplify()\n",
    "display(M)\n",
    "np.linalg.eig(np.array(M.n()).astype(float))"
   ]
  },
  {
   "cell_type": "code",
   "execution_count": 27,
   "metadata": {
    "collapsed": false,
    "deletable": true,
    "editable": true
   },
   "outputs": [
    {
     "data": {
      "image/png": "[encoded data removed]",
      "text/latex": [
       "$$\\left[\\begin{matrix}\\frac{1}{2} & 0 & \\frac{d}{2} & \\frac{1}{2} & \\frac{1}{2} & 0 & \\frac{d}{2} & \\frac{1}{2}\\\\0 & \\frac{1}{2} & - \\frac{d}{2} & \\frac{1}{2} & 0 & \\frac{1}{2} & - \\frac{d}{2} & \\frac{1}{2}\\\\\\frac{1}{2} & \\frac{1}{2} & 0 & \\frac{1}{2} & \\frac{1}{2} & \\frac{1}{2} & 0 & \\frac{1}{2}\\\\\\frac{1}{2} & 0 & 0 & - \\frac{1}{2} & - \\frac{1}{2} & 0 & 0 & \\frac{1}{2}\\\\0 & \\frac{1}{2} & 0 & - \\frac{1}{2} & 0 & - \\frac{1}{2} & 0 & \\frac{1}{2}\\end{matrix}\\right]$$"
      ],
      "text/plain": [
       "⎡           d                      d      ⎤\n",
       "⎢1/2   0    ─   1/2   1/2    0     ─   1/2⎥\n",
       "⎢           2                      2      ⎥\n",
       "⎢                                         ⎥\n",
       "⎢          -d                     -d      ⎥\n",
       "⎢ 0   1/2  ───  1/2    0    1/2   ───  1/2⎥\n",
       "⎢           2                      2      ⎥\n",
       "⎢                                         ⎥\n",
       "⎢1/2  1/2   0   1/2   1/2   1/2    0   1/2⎥\n",
       "⎢                                         ⎥\n",
       "⎢1/2   0    0   -1/2  -1/2   0     0   1/2⎥\n",
       "⎢                                         ⎥\n",
       "⎣ 0   1/2   0   -1/2   0    -1/2   0   1/2⎦"
      ]
     },
     "metadata": {},
     "output_type": "display_data"
    },
    {
     "data": {
      "image/png": "[encoded data removed]",
      "text/latex": [
       "$$\\left[\\begin{matrix}- \\frac{7}{18} & \\frac{11}{18} & 0 & \\frac{7}{9}\\\\\\frac{11}{18} & - \\frac{7}{18} & 0 & \\frac{7}{9}\\\\\\frac{1}{d} & - \\frac{1}{d} & 1 & 0\\\\\\frac{5}{9} & \\frac{5}{9} & 0 & - \\frac{1}{9}\\end{matrix}\\right]$$"
      ],
      "text/plain": [
       "⎡        11           ⎤\n",
       "⎢-7/18   ──    0  7/9 ⎥\n",
       "⎢        18           ⎥\n",
       "⎢                     ⎥\n",
       "⎢ 11                  ⎥\n",
       "⎢ ──    -7/18  0  7/9 ⎥\n",
       "⎢ 18                  ⎥\n",
       "⎢                     ⎥\n",
       "⎢  1     -1           ⎥\n",
       "⎢  ─     ───   1   0  ⎥\n",
       "⎢  d      d           ⎥\n",
       "⎢                     ⎥\n",
       "⎣ 5/9    5/9   0  -1/9⎦"
      ]
     },
     "metadata": {},
     "output_type": "display_data"
    }
   ],
   "source": [
    "I = np.eye(4, dtype = object)\n",
    "VIAB = np.bmat([[I,I],[-I,I]])\n",
    "d = sympy.var('d')\n",
    "X2VI = sympy.Matrix(np.matrix([\n",
    "    [0,0,0,0,1,0,d,1],\n",
    "    [0,0,0,0,0,1,-d,1],\n",
    "    [0,0,0,0,1,1,0,1],\n",
    "    [1,0,0,-1 ,0,0,0,0],\n",
    "    [0,1,0,-1,0,0,0,0],\n",
    "])) * sympy.Matrix(VIAB).inv()\n",
    "display(X2VI)\n",
    "M = sympy.Matrix(X2VI[:,0:4]).pinv() * sympy.Matrix(X2VI[:,4:8])\n",
    "M = M.expand()\n",
    "M.simplify()\n",
    "display(M)\n",
    "#np.linalg.eig(np.array(M.n()).astype(float))"
   ]
  },
  {
   "cell_type": "code",
   "execution_count": 124,
   "metadata": {
    "collapsed": false,
    "deletable": true,
    "editable": true
   },
   "outputs": [
    {
     "data": {
      "image/png": "[encoded data removed]",
      "text/latex": [
       "$$\\left[\\begin{matrix}\\frac{1}{2} & \\frac{1}{2} & 0 & \\frac{1}{2} & \\frac{1}{2} & 0\\\\0 & - \\frac{1}{2} & \\frac{d}{2} & 0 & - \\frac{1}{2} & \\frac{1}{2 d}\\\\- \\frac{1}{2} & \\frac{1}{2} & \\frac{d}{2} & \\frac{1}{2} & - \\frac{1}{2} & - \\frac{1}{2 d}\\end{matrix}\\right]$$"
      ],
      "text/plain": [
       "⎡1/2   1/2   0  1/2  1/2    0 ⎤\n",
       "⎢                             ⎥\n",
       "⎢            d              1 ⎥\n",
       "⎢ 0    -1/2  ─   0   -1/2  ───⎥\n",
       "⎢            2             2⋅d⎥\n",
       "⎢                             ⎥\n",
       "⎢            d             -1 ⎥\n",
       "⎢-1/2  1/2   ─  1/2  -1/2  ───⎥\n",
       "⎣            2             2⋅d⎦"
      ]
     },
     "metadata": {},
     "output_type": "display_data"
    },
    {
     "data": {
      "image/png": "[encoded data removed]",
      "text/latex": [
       "$$\\left[\\begin{matrix}\\frac{1}{3} & \\frac{2}{3} & \\frac{2}{3 d}\\\\\\frac{2}{3} & \\frac{1}{3} & - \\frac{2}{3 d}\\\\\\frac{2}{3 d} & - \\frac{2}{3 d} & \\frac{1}{3 d^{2}}\\end{matrix}\\right]$$"
      ],
      "text/plain": [
       "⎡           2  ⎤\n",
       "⎢1/3  2/3  ─── ⎥\n",
       "⎢          3⋅d ⎥\n",
       "⎢              ⎥\n",
       "⎢          -2  ⎥\n",
       "⎢2/3  1/3  ─── ⎥\n",
       "⎢          3⋅d ⎥\n",
       "⎢              ⎥\n",
       "⎢ 2   -2    1  ⎥\n",
       "⎢───  ───  ────⎥\n",
       "⎢3⋅d  3⋅d     2⎥\n",
       "⎣          3⋅d ⎦"
      ]
     },
     "metadata": {},
     "output_type": "display_data"
    }
   ],
   "source": [
    "d = sympy.var('d')\n",
    "IV = np.eye(3, dtype = object)\n",
    "IV[2,2] = 1/d\n",
    "IC = np.eye(3, dtype = object)\n",
    "IC[2,2] = d\n",
    "VIAB = np.bmat([[IV,IV],[-IC,IC]])\n",
    "d = sympy.var('d')\n",
    "X2VI = sympy.Matrix([\n",
    "    [0, 0,0,  1, 1,0],\n",
    "    [0, 0,0,  0,-1,1],\n",
    "    [-1,1,1,  0, 0,0],\n",
    "]) * sympy.Matrix(VIAB).inv()\n",
    "display(X2VI)\n",
    "M = sympy.Matrix(X2VI[:,0:3]).pinv() * sympy.Matrix(X2VI[:,3:6])\n",
    "M = M.expand()\n",
    "M.simplify()\n",
    "display(M)\n",
    "if isinstance(d, (float,int)):\n",
    "    print(np.linalg.eig(np.array(M.n()).astype(float)))"
   ]
  },
  {
   "cell_type": "code",
   "execution_count": 71,
   "metadata": {
    "collapsed": false,
    "deletable": true,
    "editable": true
   },
   "outputs": [
    {
     "data": {
      "image/png": "[encoded data removed]",
      "text/latex": [
       "$$\\left[\\begin{matrix}\\frac{1}{2} & \\frac{r}{2} & \\frac{1}{2} & \\frac{r}{2}\\\\- \\frac{r}{2} & \\frac{1}{2} & \\frac{r}{2} & - \\frac{1}{2}\\end{matrix}\\right]$$"
      ],
      "text/plain": [
       "⎡      r         r  ⎤\n",
       "⎢1/2   ─   1/2   ─  ⎥\n",
       "⎢      2         2  ⎥\n",
       "⎢                   ⎥\n",
       "⎢-r         r       ⎥\n",
       "⎢───  1/2   ─   -1/2⎥\n",
       "⎣ 2         2       ⎦"
      ]
     },
     "metadata": {},
     "output_type": "display_data"
    },
    {
     "data": {
      "image/png": "[encoded data removed]",
      "text/latex": [
       "$$\\left[\\begin{matrix}\\frac{- r^{2} + 1}{r^{2} + 1} & \\frac{2 r}{r^{2} + 1}\\\\\\frac{2 r}{r^{2} + 1} & \\frac{r^{2} - 1}{r^{2} + 1}\\end{matrix}\\right]$$"
      ],
      "text/plain": [
       "⎡   2            ⎤\n",
       "⎢- r  + 1   2⋅r  ⎥\n",
       "⎢────────  ──────⎥\n",
       "⎢  2        2    ⎥\n",
       "⎢ r  + 1   r  + 1⎥\n",
       "⎢                ⎥\n",
       "⎢           2    ⎥\n",
       "⎢  2⋅r     r  - 1⎥\n",
       "⎢ ──────   ──────⎥\n",
       "⎢  2        2    ⎥\n",
       "⎣ r  + 1   r  + 1⎦"
      ]
     },
     "metadata": {},
     "output_type": "display_data"
    }
   ],
   "source": [
    "#For a simple machine\n",
    "r = sympy.var('r')\n",
    "#r = 100\n",
    "IV = np.eye(2, dtype = object)\n",
    "IC = np.eye(2, dtype = object)\n",
    "VIAB = np.bmat([[IV,IV],[-IC,IC]])\n",
    "X2VI = sympy.Matrix([\n",
    "    [0, 0, 1, r*1],\n",
    "    [-r,1, 0, 0],\n",
    "]) * sympy.Matrix(VIAB).inv()\n",
    "display(X2VI)\n",
    "M = sympy.Matrix(X2VI[:,0:2]).pinv() * sympy.Matrix(X2VI[:,2:4])\n",
    "M = M.expand()\n",
    "M.simplify()\n",
    "display(M)\n",
    "if isinstance(r, (float,int)):\n",
    "    print(np.linalg.eig(np.array(M.n()).astype(float)))"
   ]
  },
  {
   "cell_type": "code",
   "execution_count": 164,
   "metadata": {
    "collapsed": false,
    "deletable": true,
    "editable": true
   },
   "outputs": [
    {
     "data": {
      "image/png": "[encoded data removed]",
      "text/latex": [
       "$$\\left[\\begin{matrix}\\frac{1}{2} & \\frac{1}{2} & 0 & \\frac{1}{2} & \\frac{1}{2} & 0\\\\\\frac{1}{2} & 0 & \\frac{1}{2 d} & \\frac{1}{2} & 0 & \\frac{1}{2 d}\\\\- \\frac{1}{2} & \\frac{1}{2} & \\frac{d}{2} & \\frac{1}{2} & - \\frac{1}{2} & - \\frac{d}{2}\\end{matrix}\\right]$$"
      ],
      "text/plain": [
       "⎡1/2   1/2   0   1/2  1/2    0 ⎤\n",
       "⎢                              ⎥\n",
       "⎢            1               1 ⎥\n",
       "⎢1/2    0   ───  1/2   0    ───⎥\n",
       "⎢           2⋅d             2⋅d⎥\n",
       "⎢                              ⎥\n",
       "⎢            d              -d ⎥\n",
       "⎢-1/2  1/2   ─   1/2  -1/2  ───⎥\n",
       "⎣            2               2 ⎦"
      ]
     },
     "metadata": {},
     "output_type": "display_data"
    },
    {
     "data": {
      "image/png": "[encoded data removed]",
      "text/latex": [
       "$$\\left[\\begin{matrix}d^{2} & 2 & 2 d\\\\2 & d^{2} & - 2 d\\\\2 d & - 2 d & - d^{2} + 2\\end{matrix}\\right]$$"
      ],
      "text/plain": [
       "⎡ 2                 ⎤\n",
       "⎢d     2      2⋅d   ⎥\n",
       "⎢                   ⎥\n",
       "⎢       2           ⎥\n",
       "⎢ 2    d      -2⋅d  ⎥\n",
       "⎢                   ⎥\n",
       "⎢              2    ⎥\n",
       "⎣2⋅d  -2⋅d  - d  + 2⎦"
      ]
     },
     "metadata": {},
     "output_type": "display_data"
    }
   ],
   "source": [
    "#Based on the simple machine APPEARS TO BE GOOD\n",
    "d = sympy.var('d')\n",
    "IV = np.eye(3, dtype = object)\n",
    "#IV[2,2] = 1/d\n",
    "IC = np.eye(3, dtype = object)\n",
    "#IC[2,2] = 1/d\n",
    "VIAB = np.bmat([[IV,IV],[-IC,IC]])\n",
    "#d = -1\n",
    "X2VI = sympy.Matrix([\n",
    "    [0,  0,0,   1, 1, 0],\n",
    "    [0,  0,0,   1, 0, 1/d],\n",
    "    [-1, 1,d,   0,0 , 0],\n",
    "]) * sympy.Matrix(VIAB).inv()\n",
    "display(X2VI)\n",
    "M = sympy.Matrix(X2VI[:,0:3]).inv() * sympy.Matrix(X2VI[:,3:6])\n",
    "M = M.expand()\n",
    "den = d**2 + 2\n",
    "M = den * M\n",
    "M.simplify()\n",
    "display(M)\n",
    "if isinstance(d, (float,int)):\n",
    "    print(np.linalg.eig(np.array((M/den).n()).astype(float)))"
   ]
  },
  {
   "cell_type": "code",
   "execution_count": 166,
   "metadata": {
    "collapsed": false,
    "deletable": true,
    "editable": true
   },
   "outputs": [
    {
     "data": {
      "image/png": "[encoded data removed]",
      "text/latex": [
       "$$\\left[\\begin{matrix}- \\frac{1}{2} & \\frac{1}{2} & - \\frac{1}{2 d} & - \\frac{1}{2} & \\frac{1}{2} & - \\frac{1}{2 d}\\\\\\frac{1}{2} & \\frac{1}{2} & \\frac{1}{2 d} & \\frac{1}{2} & \\frac{1}{2} & \\frac{1}{2 d}\\\\- \\frac{1}{2} & \\frac{1}{2} & \\frac{d}{2} & \\frac{1}{2} & - \\frac{1}{2} & - \\frac{d}{2}\\end{matrix}\\right]$$"
      ],
      "text/plain": [
       "⎡           -1               -1 ⎤\n",
       "⎢-1/2  1/2  ───  -1/2  1/2   ───⎥\n",
       "⎢           2⋅d              2⋅d⎥\n",
       "⎢                               ⎥\n",
       "⎢            1                1 ⎥\n",
       "⎢1/2   1/2  ───  1/2   1/2   ───⎥\n",
       "⎢           2⋅d              2⋅d⎥\n",
       "⎢                               ⎥\n",
       "⎢            d               -d ⎥\n",
       "⎢-1/2  1/2   ─   1/2   -1/2  ───⎥\n",
       "⎣            2                2 ⎦"
      ]
     },
     "metadata": {},
     "output_type": "display_data"
    },
    {
     "data": {
      "image/png": "[encoded data removed]",
      "text/latex": [
       "$$\\left[\\begin{matrix}\\frac{d^{2} - 1}{d^{2} + 1} & \\frac{2}{d^{2} + 1} & \\frac{2 d}{d^{2} + 1}\\\\0 & 1 & 0\\\\\\frac{2 d}{d^{2} + 1} & - \\frac{2 d}{d^{2} + 1} & \\frac{- d^{2} + 1}{d^{2} + 1}\\end{matrix}\\right]$$"
      ],
      "text/plain": [
       "⎡ 2                      ⎤\n",
       "⎢d  - 1    2       2⋅d   ⎥\n",
       "⎢──────  ──────   ────── ⎥\n",
       "⎢ 2       2        2     ⎥\n",
       "⎢d  + 1  d  + 1   d  + 1 ⎥\n",
       "⎢                        ⎥\n",
       "⎢  0       1        0    ⎥\n",
       "⎢                        ⎥\n",
       "⎢                   2    ⎥\n",
       "⎢ 2⋅d    -2⋅d    - d  + 1⎥\n",
       "⎢──────  ──────  ────────⎥\n",
       "⎢ 2       2        2     ⎥\n",
       "⎣d  + 1  d  + 1   d  + 1 ⎦"
      ]
     },
     "metadata": {},
     "output_type": "display_data"
    }
   ],
   "source": [
    "#Based on the simple machine\n",
    "d = sympy.var('d')\n",
    "IV = np.eye(3, dtype = object)\n",
    "#IV[2,2] = 1/d\n",
    "IC = np.eye(3, dtype = object)\n",
    "#IC[2,2] = 1/d\n",
    "VIAB = np.bmat([[IV,IV],[-IC,IC]])\n",
    "#d = -1\n",
    "X2VI = sympy.Matrix([\n",
    "    [0,  0,0,   -1, 1,-1/d],\n",
    "    [0,  0,0,   1, 1,  1/d],\n",
    "    [-1, 1,d,   0, 0,  0],\n",
    "]) * sympy.Matrix(VIAB).inv()\n",
    "display(X2VI)\n",
    "M = sympy.Matrix(X2VI[:,0:3]).inv() * sympy.Matrix(X2VI[:,3:6])\n",
    "M = M.expand()\n",
    "den = 1# d**2 + 2\n",
    "M = den * M\n",
    "M.simplify()\n",
    "display(M)\n",
    "if isinstance(d, (float,int)):\n",
    "    print(np.linalg.eig(np.array((M/den).n()).astype(float)))"
   ]
  },
  {
   "cell_type": "code",
   "execution_count": 54,
   "metadata": {
    "collapsed": false,
    "deletable": true,
    "editable": true
   },
   "outputs": [
    {
     "data": {
      "image/png": "[encoded data removed]",
      "text/latex": [
       "$$\\left[\\begin{matrix}\\frac{1}{2} & \\frac{1}{2} & 0 & \\frac{1}{2} & \\frac{1}{2} & 0\\\\\\frac{1}{2} & - \\frac{1}{2} & \\frac{1}{2 d} & \\frac{1}{2} & - \\frac{1}{2} & \\frac{d}{2}\\\\- \\frac{1}{2} & \\frac{1}{2} & \\frac{1}{2 d} & \\frac{1}{2} & - \\frac{1}{2} & - \\frac{d}{2}\\end{matrix}\\right]$$"
      ],
      "text/plain": [
       "⎡1/2   1/2    0   1/2  1/2    0 ⎤\n",
       "⎢                               ⎥\n",
       "⎢             1               d ⎥\n",
       "⎢1/2   -1/2  ───  1/2  -1/2   ─ ⎥\n",
       "⎢            2⋅d              2 ⎥\n",
       "⎢                               ⎥\n",
       "⎢             1              -d ⎥\n",
       "⎢-1/2  1/2   ───  1/2  -1/2  ───⎥\n",
       "⎣            2⋅d              2 ⎦"
      ]
     },
     "metadata": {},
     "output_type": "display_data"
    },
    {
     "data": {
      "image/png": "[encoded data removed]",
      "text/latex": [
       "$$\\left[\\begin{matrix}\\frac{1}{2} & \\frac{1}{2} & \\frac{d}{2}\\\\\\frac{1}{2} & \\frac{1}{2} & - \\frac{d}{2}\\\\d & - d & 0\\end{matrix}\\right]$$"
      ],
      "text/plain": [
       "⎡           d ⎤\n",
       "⎢1/2  1/2   ─ ⎥\n",
       "⎢           2 ⎥\n",
       "⎢             ⎥\n",
       "⎢          -d ⎥\n",
       "⎢1/2  1/2  ───⎥\n",
       "⎢           2 ⎥\n",
       "⎢             ⎥\n",
       "⎣ d   -d    0 ⎦"
      ]
     },
     "metadata": {},
     "output_type": "display_data"
    }
   ],
   "source": [
    "#NOT THIS ONE\n",
    "d = sympy.var('d')\n",
    "IV = np.eye(3, dtype = object)\n",
    "IV[2,2] = d\n",
    "IC = np.eye(3, dtype = object)\n",
    "IC[2,2] = 1/d\n",
    "VIAB = np.bmat([[IV,IV],[-IC,IC]])\n",
    "X2VI = sympy.Matrix([\n",
    "    [0, 0,0,  1, 1, 0],\n",
    "    [0, 0,0,  1, -1,1],\n",
    "    [-1,1,1,  0, 0,0],\n",
    "]) * sympy.Matrix(VIAB).inv()\n",
    "display(X2VI)\n",
    "M = sympy.Matrix(X2VI[:,0:3]).pinv() * sympy.Matrix(X2VI[:,3:6])\n",
    "M = M.expand()\n",
    "M.simplify()\n",
    "display(M)\n",
    "if isinstance(d, (float,int)):\n",
    "    print(np.linalg.eig(np.array(M.n()).astype(float)))"
   ]
  },
  {
   "cell_type": "code",
   "execution_count": 29,
   "metadata": {
    "collapsed": false,
    "deletable": true,
    "editable": true
   },
   "outputs": [
    {
     "data": {
      "image/png": "[encoded data removed]",
      "text/latex": [
       "$$\\left[\\begin{matrix}0 & \\frac{1}{d}\\\\d & 0\\end{matrix}\\right]$$"
      ],
      "text/plain": [
       "⎡   1⎤\n",
       "⎢0  ─⎥\n",
       "⎢   d⎥\n",
       "⎢    ⎥\n",
       "⎣d  0⎦"
      ]
     },
     "execution_count": 29,
     "metadata": {},
     "output_type": "execute_result"
    }
   ],
   "source": [
    "I = np.eye(2, dtype = object)\n",
    "VIAB = np.bmat([[-I,-I],[I,-I]])\n",
    "d = sympy.var('d')\n",
    "X2VI = sympy.Matrix(np.matrix([\n",
    "    [0,0,d,1],\n",
    "    [-d,1,0,0,],\n",
    "])) * sympy.Matrix(VIAB).inv()\n",
    "M = sympy.Matrix(X2VI[:,2:4]).inv() * sympy.Matrix(X2VI[:,0:2])\n",
    "M = M.expand()\n",
    "M.simplify()\n",
    "M"
   ]
  },
  {
   "cell_type": "code",
   "execution_count": 30,
   "metadata": {
    "collapsed": false,
    "deletable": true,
    "editable": true
   },
   "outputs": [
    {
     "data": {
      "image/png": "[encoded data removed]",
      "text/latex": [
       "$$\\left[\\begin{matrix}- \\frac{d}{2} & - \\frac{1}{2} & - \\frac{d}{2} & - \\frac{1}{2}\\\\\\frac{d}{2} & - \\frac{1}{2} & - \\frac{d}{2} & \\frac{1}{2}\\end{matrix}\\right]$$"
      ],
      "text/plain": [
       "⎡-d         -d       ⎤\n",
       "⎢───  -1/2  ───  -1/2⎥\n",
       "⎢ 2          2       ⎥\n",
       "⎢                    ⎥\n",
       "⎢ d         -d       ⎥\n",
       "⎢ ─   -1/2  ───  1/2 ⎥\n",
       "⎣ 2          2       ⎦"
      ]
     },
     "execution_count": 30,
     "metadata": {},
     "output_type": "execute_result"
    }
   ],
   "source": [
    "X2VI"
   ]
  },
  {
   "cell_type": "code",
   "execution_count": null,
   "metadata": {
    "collapsed": true,
    "deletable": true,
    "editable": true
   },
   "outputs": [],
   "source": []
  }
 ],
 "metadata": {
  "kernelspec": {
   "display_name": "Python 3",
   "language": "python",
   "name": "python3"
  },
  "language_info": {
   "codemirror_mode": {
    "name": "ipython",
    "version": 3
   },
   "file_extension": ".py",
   "mimetype": "text/x-python",
   "name": "python",
   "nbconvert_exporter": "python",
   "pygments_lexer": "ipython3",
   "version": "3.5.2"
  },
  "latex_envs": {
   "bibliofile": "biblio.bib",
   "cite_by": "apalike",
   "current_citInitial": 1,
   "eqLabelWithNumbers": true,
   "eqNumInitial": 0
  }
 },
 "nbformat": 4,
 "nbformat_minor": 0
}
