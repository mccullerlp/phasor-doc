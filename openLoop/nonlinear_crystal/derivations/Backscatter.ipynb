{
 "cells": [
  {
   "cell_type": "code",
   "execution_count": 125,
   "metadata": {
    "collapsed": false,
    "deletable": true,
    "editable": true
   },
   "outputs": [
    {
     "name": "stdout",
     "output_type": "stream",
     "text": [
      "3.5.2 (default, Sep 14 2016, 11:28:32) \n",
      "[GCC 6.2.1 20160901 (Red Hat 6.2.1-1)]\n"
     ]
    }
   ],
   "source": [
    "import sys\n",
    "import numpy as np\n",
    "import sys\n",
    "print(sys.version)\n",
    "\n",
    "from openLoop.utilities.ipynb.displays import *\n",
    "from openLoop.utilities.ipynb.filters import *\n",
    "from openLoop.utilities.ipynb.hdf import *\n",
    "#from YALL.utilities.tabulate import tabulate\n",
    "\n",
    "from declarative import (\n",
    "  OverridableObject, mproperty\n",
    ")\n",
    "\n",
    "import sympy\n",
    "from openLoop.utilities.ipynb.displays import *\n",
    "from openLoop.utilities.ipynb.ipy_sympy import *\n",
    "import scipy.linalg"
   ]
  },
  {
   "cell_type": "code",
   "execution_count": 164,
   "metadata": {
    "collapsed": false,
    "deletable": true,
    "editable": true
   },
   "outputs": [
    {
     "data": {
      "image/png": "[encoded data removed]",
      "text/latex": [
       "$$\\left[\\begin{matrix}r_{bs} e^{i \\theta} & r_{p} e^{- i \\phi} & t_{p} & 0\\\\r_{p} e^{i \\phi} & - r_{bs} e^{- i \\theta} & 0 & t_{p}\\\\t_{p} & 0 & - r_{bs} e^{- i \\theta} & - r_{p} e^{- i \\phi}\\\\0 & t_{p} & - r_{p} e^{i \\phi} & r_{bs} e^{i \\theta}\\end{matrix}\\right]$$"
      ],
      "text/plain": [
       "⎡      ⅈ⋅θ       -ⅈ⋅φ                          ⎤\n",
       "⎢r_bs⋅ℯ      rₚ⋅ℯ            tₚ           0    ⎥\n",
       "⎢                                              ⎥\n",
       "⎢     ⅈ⋅φ          -ⅈ⋅θ                        ⎥\n",
       "⎢ rₚ⋅ℯ      -r_bs⋅ℯ           0          tₚ    ⎥\n",
       "⎢                                              ⎥\n",
       "⎢                               -ⅈ⋅θ       -ⅈ⋅φ⎥\n",
       "⎢   tₚ           0       -r_bs⋅ℯ      -rₚ⋅ℯ    ⎥\n",
       "⎢                                              ⎥\n",
       "⎢                              ⅈ⋅φ          ⅈ⋅θ⎥\n",
       "⎣    0          tₚ        -rₚ⋅ℯ       r_bs⋅ℯ   ⎦"
      ]
     },
     "execution_count": 164,
     "metadata": {},
     "output_type": "execute_result"
    }
   ],
   "source": [
    "r,t,rbs = sympy.var('r, t, r_bs', real = True)\n",
    "a,b,c,d = sympy.var('a,b,c,d')\n",
    "#rbs = 0\n",
    "a,b,c,d = 1,-1,-1,1\n",
    "#r = sympy.sqrt(1 - t**2)\n",
    "rp = sympy.var('r_p', real = True)# r * sympy.sqrt(1 - rbs**2)\n",
    "tp = sympy.var('t_p', real = True)# t * sympy.sqrt(1 - rbs**2)\n",
    "theta = sympy.var('theta', real = True)# t * sympy.sqrt(1 - rbs**2)\n",
    "X = sympy.exp(sympy.I * theta)\n",
    "Xc = X.conjugate()\n",
    "\n",
    "theta = sympy.var('phi', real = True)# t * sympy.sqrt(1 - rbs**2)\n",
    "Y = sympy.exp(sympy.I * phi)\n",
    "Yc = Y.conjugate()\n",
    "\n",
    "R_matInner = sympy.Matrix([\n",
    "    [a*rbs,  rp,    tp,     0],\n",
    "    [rp,     b*rbs, 0,        tp],\n",
    "    [tp,     0,        c*rbs, -rp], \n",
    "    [0,      tp,    -rp,    d*rbs],\n",
    "])\n",
    "Rl_matY = sympy.Matrix([\n",
    "    [Yc,0,0,0],\n",
    "    [0,1,0,0],\n",
    "    [0,0,Yc,0],\n",
    "    [0,0,0,1],\n",
    "])\n",
    "Rr_matY = sympy.Matrix([\n",
    "    [Y,0,0,0],\n",
    "    [0,1,0,0],\n",
    "    [0,0,Y,0],\n",
    "    [0,0,0,1],\n",
    "])\n",
    "Rl_matX = sympy.Matrix([\n",
    "    [X,0,0,0],\n",
    "    [0,1,0,0],\n",
    "    [0,0,1,0],\n",
    "    [0,0,0,X],\n",
    "])\n",
    "Rr_matX = sympy.Matrix([\n",
    "    [1,0,0,0],\n",
    "    [0,Xc,0,0],\n",
    "    [0,0,Xc,0],\n",
    "    [0,0,0,1],\n",
    "])\n",
    "R_mat = Rl_matX *Rl_matY * R_matInner * Rr_matY * Rr_matX\n",
    "R_mat"
   ]
  },
  {
   "cell_type": "code",
   "execution_count": 165,
   "metadata": {
    "collapsed": false,
    "deletable": true,
    "editable": true
   },
   "outputs": [
    {
     "data": {
      "image/png": "[encoded data removed]",
      "text/latex": [
       "$$\\left[\\begin{matrix}1 & 0 & 0 & 0\\\\0 & 1 & 0 & 0\\\\0 & 0 & 1 & 0\\\\0 & 0 & 0 & 1\\end{matrix}\\right]$$"
      ],
      "text/plain": [
       "⎡1  0  0  0⎤\n",
       "⎢          ⎥\n",
       "⎢0  1  0  0⎥\n",
       "⎢          ⎥\n",
       "⎢0  0  1  0⎥\n",
       "⎢          ⎥\n",
       "⎣0  0  0  1⎦"
      ]
     },
     "execution_count": 165,
     "metadata": {},
     "output_type": "execute_result"
    }
   ],
   "source": [
    "M = (R_mat.transpose().conjugate() * R_mat)\n",
    "M = M.subs(rp, r * sympy.sqrt(1 - rbs**2))\n",
    "M = M.subs(tp, t * sympy.sqrt(1 - rbs**2))\n",
    "M = M.subs(r, sympy.sqrt(1 - t**2))\n",
    "M.simplify()\n",
    "M"
   ]
  },
  {
   "cell_type": "code",
   "execution_count": 166,
   "metadata": {
    "collapsed": false,
    "deletable": true,
    "editable": true
   },
   "outputs": [
    {
     "data": {
      "image/png": "[encoded data removed]",
      "text/latex": [
       "$$\\left[\\begin{matrix}r_{bs} e^{i \\theta} & \\sqrt{- Lr^{2} - r_{bs}^{2} - t^{2} + 1} e^{- i \\phi} & \\sqrt{- Lt^{2} + t^{2}} & 0 & \\sqrt{Lr^{2} + Lt^{2}} e^{- i \\phi} e^{i \\theta} & 0 & 0 & 0\\\\\\sqrt{- Lr^{2} - r_{bs}^{2} - t^{2} + 1} e^{i \\phi} & - r_{bs} e^{- i \\theta} & 0 & \\sqrt{- Lt^{2} + t^{2}} & 0 & \\sqrt{Lr^{2} + Lt^{2}} & 0 & 0\\\\\\sqrt{- Lt^{2} + t^{2}} & 0 & - r_{bs} e^{- i \\theta} & - \\sqrt{- Lr^{2} - r_{bs}^{2} - t^{2} + 1} e^{- i \\phi} & 0 & 0 & \\sqrt{Lr^{2} + Lt^{2}} e^{- i \\phi} & 0\\\\0 & \\sqrt{- Lt^{2} + t^{2}} & - \\sqrt{- Lr^{2} - r_{bs}^{2} - t^{2} + 1} e^{i \\phi} & r_{bs} e^{i \\theta} & 0 & 0 & 0 & \\sqrt{Lr^{2} + Lt^{2}} e^{i \\theta}\\\\- \\sqrt{Lr^{2} + Lt^{2}} e^{i \\phi} & 0 & 0 & 0 & r_{bs} & \\sqrt{- Lr^{2} - r_{bs}^{2} - t^{2} + 1} & \\sqrt{- Lt^{2} + t^{2}} & 0\\\\0 & - \\sqrt{Lr^{2} + Lt^{2}} e^{- i \\theta} & 0 & 0 & \\sqrt{- Lr^{2} - r_{bs}^{2} - t^{2} + 1} & - r_{bs} & 0 & \\sqrt{- Lt^{2} + t^{2}}\\\\0 & 0 & - \\sqrt{Lr^{2} + Lt^{2}} e^{i \\phi} e^{- i \\theta} & 0 & \\sqrt{- Lt^{2} + t^{2}} & 0 & - r_{bs} & - \\sqrt{- Lr^{2} - r_{bs}^{2} - t^{2} + 1}\\\\0 & 0 & 0 & - \\sqrt{Lr^{2} + Lt^{2}} & 0 & \\sqrt{- Lt^{2} + t^{2}} & - \\sqrt{- Lr^{2} - r_{bs}^{2} - t^{2} + 1} & r_{bs}\\end{matrix}\\right]$$"
      ],
      "text/plain": [
       "⎡                                     ________________________                \n",
       "⎢                 ⅈ⋅θ                ╱     2       2    2       -ⅈ⋅φ          \n",
       "⎢           r_bs⋅ℯ                 ╲╱  - Lr  - r_bs  - t  + 1 ⋅ℯ              \n",
       "⎢                                                                             \n",
       "⎢   ________________________                                                  \n",
       "⎢  ╱     2       2    2       ⅈ⋅φ                    -ⅈ⋅θ                     \n",
       "⎢╲╱  - Lr  - r_bs  - t  + 1 ⋅ℯ                -r_bs⋅ℯ                         \n",
       "⎢                                                                             \n",
       "⎢           ____________                                                      \n",
       "⎢          ╱     2    2                                                       \n",
       "⎢        ╲╱  - Lt  + t                             0                          \n",
       "⎢                                                                             \n",
       "⎢                                              ____________               ____\n",
       "⎢                                             ╱     2    2               ╱    \n",
       "⎢               0                           ╲╱  - Lt  + t             -╲╱  - L\n",
       "⎢                                                                             \n",
       "⎢          ___________                                                        \n",
       "⎢         ╱   2     2   ⅈ⋅φ                                                   \n",
       "⎢      -╲╱  Lr  + Lt  ⋅ℯ                           0                          \n",
       "⎢                                                                             \n",
       "⎢                                            ___________                      \n",
       "⎢                                           ╱   2     2   -ⅈ⋅θ                \n",
       "⎢               0                        -╲╱  Lr  + Lt  ⋅ℯ                    \n",
       "⎢                                                                             \n",
       "⎢                                                                            _\n",
       "⎢                                                                           ╱ \n",
       "⎢               0                                  0                     -╲╱  \n",
       "⎢                                                                             \n",
       "⎢                                                                             \n",
       "⎢                                                                             \n",
       "⎣               0                                  0                          \n",
       "\n",
       "    ____________                                                   ___________\n",
       "   ╱     2    2                                                   ╱   2     2 \n",
       " ╲╱  - Lt  + t                             0                    ╲╱  Lr  + Lt  \n",
       "                                                                              \n",
       "                                       ____________                           \n",
       "                                      ╱     2    2                            \n",
       "        0                           ╲╱  - Lt  + t                           0 \n",
       "                                                                              \n",
       "                               ________________________                       \n",
       "          -ⅈ⋅θ                ╱     2       2    2       -ⅈ⋅φ                 \n",
       "   -r_bs⋅ℯ                 -╲╱  - Lr  - r_bs  - t  + 1 ⋅ℯ                   0 \n",
       "                                                                              \n",
       "____________________                                                          \n",
       " 2       2    2       ⅈ⋅φ                    ⅈ⋅θ                              \n",
       "r  - r_bs  - t  + 1 ⋅ℯ                 r_bs⋅ℯ                               0 \n",
       "                                                                              \n",
       "                                                                              \n",
       "                                                                              \n",
       "        0                                  0                              r_bs\n",
       "                                                                              \n",
       "                                                                  ____________\n",
       "                                                                 ╱     2      \n",
       "        0                                  0                   ╲╱  - Lr  - r_b\n",
       "                                                                              \n",
       "__________                                                              ______\n",
       "  2     2   ⅈ⋅φ  -ⅈ⋅θ                                                  ╱     2\n",
       "Lr  + Lt  ⋅ℯ   ⋅ℯ                          0                         ╲╱  - Lt \n",
       "                                                                              \n",
       "                                        ___________                           \n",
       "                                       ╱   2     2                            \n",
       "        0                           -╲╱  Lr  + Lt                           0 \n",
       "\n",
       "                                                                              \n",
       "  -ⅈ⋅φ  ⅈ⋅θ                                                                   \n",
       "⋅ℯ    ⋅ℯ                   0                            0                     \n",
       "                                                                              \n",
       "                       ___________                                            \n",
       "                      ╱   2     2                                             \n",
       "                    ╲╱  Lr  + Lt                        0                     \n",
       "                                                                              \n",
       "                                                  ___________                 \n",
       "                                                 ╱   2     2   -ⅈ⋅φ           \n",
       "                           0                   ╲╱  Lr  + Lt  ⋅ℯ               \n",
       "                                                                              \n",
       "                                                                              \n",
       "                                                                              \n",
       "                           0                            0                    ╲\n",
       "                                                                              \n",
       "                 ________________________           ____________              \n",
       "                ╱     2       2    2               ╱     2    2               \n",
       "              ╲╱  - Lr  - r_bs  - t  + 1         ╲╱  - Lt  + t                \n",
       "                                                                              \n",
       "____________                                                                  \n",
       " 2    2                                                                       \n",
       "s  - t  + 1              -r_bs                          0                     \n",
       "                                                                              \n",
       "______                                                                       _\n",
       "    2                                                                       ╱ \n",
       " + t                       0                          -r_bs              -╲╱  \n",
       "                                                                              \n",
       "                       ____________            ________________________       \n",
       "                      ╱     2    2            ╱     2       2    2            \n",
       "                    ╲╱  - Lt  + t          -╲╱  - Lr  - r_bs  - t  + 1        \n",
       "\n",
       "                       ⎤\n",
       "                       ⎥\n",
       "        0              ⎥\n",
       "                       ⎥\n",
       "                       ⎥\n",
       "                       ⎥\n",
       "        0              ⎥\n",
       "                       ⎥\n",
       "                       ⎥\n",
       "                       ⎥\n",
       "        0              ⎥\n",
       "                       ⎥\n",
       "  ___________          ⎥\n",
       " ╱   2     2   ⅈ⋅θ     ⎥\n",
       "╱  Lr  + Lt  ⋅ℯ        ⎥\n",
       "                       ⎥\n",
       "                       ⎥\n",
       "                       ⎥\n",
       "        0              ⎥\n",
       "                       ⎥\n",
       "    ____________       ⎥\n",
       "   ╱     2    2        ⎥\n",
       " ╲╱  - Lt  + t         ⎥\n",
       "                       ⎥\n",
       "_______________________⎥\n",
       "    2       2    2     ⎥\n",
       "- Lr  - r_bs  - t  + 1 ⎥\n",
       "                       ⎥\n",
       "                       ⎥\n",
       "                       ⎥\n",
       "       r_bs            ⎦"
      ]
     },
     "execution_count": 166,
     "metadata": {},
     "output_type": "execute_result"
    }
   ],
   "source": [
    "R_matInner = sympy.Matrix([\n",
    "    [a*rbs,  rp,     tp,     0],\n",
    "    [rp,     b*rbs, 0,         tp],\n",
    "    [ tp,     0,        c*rbs, -rp], \n",
    "    [0,       tp,    -rp,    d*rbs],\n",
    "])\n",
    "I4 = sympy.eye(4)\n",
    "O4 = sympy.zeros(4)\n",
    "Lt  = sympy.var('Lt', real = True)\n",
    "Lr  = sympy.var('Lr', real = True)\n",
    "Lx  = sympy.var('Lx', real = True)\n",
    "rL = sympy.var('r_L', real = True)\n",
    "tL = sympy.var('t_L', real = True)\n",
    "def enlarge(mat):\n",
    "    return sympy.Matrix(numpy.bmat([[mat, O4],[O4, I4]]))\n",
    "R_matBig = sympy.Matrix(numpy.bmat([[R_matInner, Lx*I4],[-Lx*I4, R_matInner]]))\n",
    "\n",
    "R_matBig\n",
    "R_mat = enlarge(Rl_matX) * enlarge(Rl_matY) * R_matBig * enlarge(Rr_matY) * enlarge(Rr_matX)\n",
    "M = R_mat\n",
    "#R_mat = R_matBig\n",
    "M = M.subs(Lx, sympy.sqrt(Lt**2 + Lr**2))\n",
    "M = M.subs(tp, sympy.sqrt(t**2 - Lt**2))\n",
    "M = M.subs(rp, sympy.sqrt(r**2 - Lr**2 - rbs**2))\n",
    "M = M.subs(r, sympy.sqrt(1 - t**2))\n",
    "M"
   ]
  },
  {
   "cell_type": "code",
   "execution_count": 167,
   "metadata": {
    "collapsed": false,
    "editable": true
   },
   "outputs": [
    {
     "data": {
      "image/png": "[encoded data removed]",
      "text/latex": [
       "$$\\left[\\begin{matrix}1 & 0 & 0 & 0 & 0 & 0 & 0 & 0\\\\0 & 1 & 0 & 0 & 0 & 0 & 0 & 0\\\\0 & 0 & 1 & 0 & 0 & 0 & 0 & 0\\\\0 & 0 & 0 & 1 & 0 & 0 & 0 & 0\\\\0 & 0 & 0 & 0 & 1 & 0 & 0 & 0\\\\0 & 0 & 0 & 0 & 0 & 1 & 0 & 0\\\\0 & 0 & 0 & 0 & 0 & 0 & 1 & 0\\\\0 & 0 & 0 & 0 & 0 & 0 & 0 & 1\\end{matrix}\\right]$$"
      ],
      "text/plain": [
       "⎡1  0  0  0  0  0  0  0⎤\n",
       "⎢                      ⎥\n",
       "⎢0  1  0  0  0  0  0  0⎥\n",
       "⎢                      ⎥\n",
       "⎢0  0  1  0  0  0  0  0⎥\n",
       "⎢                      ⎥\n",
       "⎢0  0  0  1  0  0  0  0⎥\n",
       "⎢                      ⎥\n",
       "⎢0  0  0  0  1  0  0  0⎥\n",
       "⎢                      ⎥\n",
       "⎢0  0  0  0  0  1  0  0⎥\n",
       "⎢                      ⎥\n",
       "⎢0  0  0  0  0  0  1  0⎥\n",
       "⎢                      ⎥\n",
       "⎣0  0  0  0  0  0  0  1⎦"
      ]
     },
     "execution_count": 167,
     "metadata": {},
     "output_type": "execute_result"
    }
   ],
   "source": [
    "M = (R_mat.transpose().conjugate() * R_mat)\n",
    "M = M.subs(Lx, sympy.sqrt(Lt**2 + Lr**2))\n",
    "M = M.subs(tp, sympy.sqrt(t**2 - Lt**2))\n",
    "M = M.subs(rp, sympy.sqrt(r**2 - Lr**2 - rbs**2))\n",
    "M = M.subs(r, sympy.sqrt(1 - t**2))\n",
    "#M = M.expand()\n",
    "M.simplify()\n",
    "M"
   ]
  },
  {
   "cell_type": "code",
   "execution_count": null,
   "metadata": {
    "collapsed": true,
    "deletable": true,
    "editable": true
   },
   "outputs": [],
   "source": []
  }
 ],
 "metadata": {
  "kernelspec": {
   "display_name": "Python 3",
   "language": "python",
   "name": "python3"
  },
  "language_info": {
   "codemirror_mode": {
    "name": "ipython",
    "version": 3
   },
   "file_extension": ".py",
   "mimetype": "text/x-python",
   "name": "python",
   "nbconvert_exporter": "python",
   "pygments_lexer": "ipython3",
   "version": "3.5.2"
  },
  "latex_envs": {
   "bibliofile": "biblio.bib",
   "cite_by": "apalike",
   "current_citInitial": 1,
   "eqLabelWithNumbers": true,
   "eqNumInitial": 0
  }
 },
 "nbformat": 4,
 "nbformat_minor": 0
}
