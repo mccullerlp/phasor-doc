{
 "cells": [
  {
   "cell_type": "code",
   "execution_count": 1,
   "metadata": {
    "collapsed": false,
    "deletable": true,
    "editable": true
   },
   "outputs": [
    {
     "name": "stdout",
     "output_type": "stream",
     "text": [
      "Populating the interactive namespace from numpy and matplotlib\n",
      "Sympy version:  1.0\n"
     ]
    }
   ],
   "source": [
    "import sympy\n",
    "from openLoop.utilities.ipynb.displays import *\n",
    "from openLoop.utilities.ipynb.ipy_sympy import *\n",
    "import scipy.linalg\n",
    "\n",
    "\n",
    "import numpy.testing as np_test\n",
    "import declarative as decl\n",
    "from declarative.bunch import (\n",
    "    DeepBunch,\n",
    ")\n",
    "\n",
    "#import numpy as np\n",
    "\n",
    "from openLoop import system\n",
    "from openLoop import readouts\n",
    "from openLoop import optics\n",
    "from openLoop.optics.nonlinear_crystal import NonlinearCrystal\n",
    "from openLoop.utilities.print import pprint\n",
    "\n"
   ]
  },
  {
   "cell_type": "code",
   "execution_count": 2,
   "metadata": {
    "collapsed": false
   },
   "outputs": [
    {
     "name": "stdout",
     "output_type": "stream",
     "text": [
      "OMG:  20\n",
      "OMG:  20\n",
      "         RI        RQ        GI        GQ\n",
      "--  -------  --------  --------  --------\n",
      "RI  0.49212  0         0         0\n",
      "RQ  0        2.0848    0         0.326656\n",
      "GI  0        0         0.901251  0\n",
      "GQ  0        0.326656  0         1.23746\n"
     ]
    }
   ],
   "source": [
    "from openLoop.optics.models.KTP_test_stand import KTPTestStand\n",
    "sys = system.BGSystem()\n",
    "sys.own.test = KTPTestStand()\n",
    "LSTARR = sys.test.full_noise_matrix()"
   ]
  },
  {
   "cell_type": "code",
   "execution_count": 3,
   "metadata": {
    "collapsed": false
   },
   "outputs": [
    {
     "data": {
      "image/png": "[encoded data removed]",
      "text/latex": [
       "$$1.0811331$$"
      ],
      "text/plain": [
       "1.0811331"
      ]
     },
     "execution_count": 3,
     "metadata": {},
     "output_type": "execute_result"
    }
   ],
   "source": [
    ".3177 * 3.403"
   ]
  },
  {
   "cell_type": "code",
   "execution_count": 4,
   "metadata": {
    "collapsed": false
   },
   "outputs": [
    {
     "name": "stdout",
     "output_type": "stream",
     "text": [
      "adjust_PSD: 2\n",
      "environment:\n",
      "  F_AC:\n",
      "    F_center_Hz: 0.0\n",
      "    F_width_Hz: 0\n",
      "    frequency: {units: hertz, val: 0}\n",
      "    order: 2\n",
      "  F_carrier_1064: {order: null}\n",
      "include_johnson_noise: true\n",
      "sided_spectra: 1\n",
      "symbols: {Z_termination: 50, c_m_s: 299792458, h_Js: 6.6260700408e-34, hbar_Js: 1.0545718001e-34,\n",
      "  i: !!python/complex '1.0j', i2pi: !!python/complex '6.283185307179586j', kB_J_K: 1.380658e-23,\n",
      "  math: !!python/module:numpy '', pi: 3.141592653589793, temp_K: 299}\n",
      "test:\n",
      "  AC_G:\n",
      "    noise: {port_set: AC noise}\n",
      "    port_set: AC\n",
      "  AC_N: {port_set: AC noise}\n",
      "  AC_R:\n",
      "    noise: {port_set: AC noise}\n",
      "    port_set: AC\n",
      "  AC_RGI:\n",
      "    noise: {port_set: AC noise}\n",
      "    port_set: AC\n",
      "  AC_RGQ:\n",
      "    noise: {port_set: AC noise}\n",
      "    port_set: AC\n",
      "  DC_G: {port_set: DC}\n",
      "  DC_R: {port_set: DC}\n",
      "  PD_G: {include_readouts: false}\n",
      "  PD_R: {include_readouts: false}\n",
      "  PSLG:\n",
      "    phase: {units: degree, val: 90}\n",
      "    polarization: S\n",
      "    power: {units: watt, val: 0.0}\n",
      "  PSLGs:\n",
      "    phase: {units: degree, val: 90}\n",
      "    polarization: S\n",
      "    power: {units: watt, val: 1.0}\n",
      "  PSLR:\n",
      "    phase: {units: radian, val: 0}\n",
      "    polarization: S\n",
      "    power: {units: watt, val: 1}\n",
      "  PSLRs:\n",
      "    phase: {units: radian, val: 0}\n",
      "    polarization: S\n",
      "    power: {units: watt, val: 1}\n",
      "  hPD_G: {include_readouts: false, phase_deg: 0}\n",
      "  hPD_R: {include_readouts: false, phase_deg: 0}\n",
      "  include_AC: true\n",
      "  ktp:\n",
      "    N_ode: 20\n",
      "    length: {units: millimeter, val: 10}\n",
      "    nlg: 0.1\n",
      "    solution_order: 3\n",
      "    symplectify: true\n",
      "  mDC1:\n",
      "    mirror_H1:\n",
      "      AOI_deg: 45\n",
      "      L_hr: 0\n",
      "      L_t: 0\n",
      "      R_backscatter: 0\n",
      "      T_hr: 1\n",
      "      backscatter_phase: {units: radian, val: 0}\n",
      "      phase: {units: radian, val: 0}\n",
      "    mirror_H2:\n",
      "      AOI_deg: 45\n",
      "      L_hr: 0\n",
      "      L_t: 0\n",
      "      R_backscatter: 0\n",
      "      T_hr: 0\n",
      "      backscatter_phase: {units: radian, val: 0}\n",
      "      phase: {units: radian, val: 0}\n",
      "  mDC2:\n",
      "    mirror_H1:\n",
      "      AOI_deg: 45\n",
      "      L_hr: 0\n",
      "      L_t: 0\n",
      "      R_backscatter: 0\n",
      "      T_hr: 1\n",
      "      backscatter_phase: {units: radian, val: 0}\n",
      "      phase: {units: radian, val: 0}\n",
      "    mirror_H2:\n",
      "      AOI_deg: 45\n",
      "      L_hr: 0\n",
      "      L_t: 0\n",
      "      R_backscatter: 0\n",
      "      T_hr: 0\n",
      "      backscatter_phase: {units: radian, val: 0}\n",
      "      phase: {units: radian, val: 0}\n",
      "\n"
     ]
    }
   ],
   "source": [
    "print(sys.ctree_as_yaml())"
   ]
  },
  {
   "cell_type": "code",
   "execution_count": 5,
   "metadata": {
    "collapsed": false
   },
   "outputs": [],
   "source": [
    "ooa = sys.ctree_shadow()"
   ]
  },
  {
   "cell_type": "code",
   "execution_count": 6,
   "metadata": {
    "collapsed": false,
    "scrolled": false
   },
   "outputs": [
    {
     "name": "stdout",
     "output_type": "stream",
     "text": [
      "10\n",
      "OMG:  20\n",
      "OMG:  20\n",
      "DELTA V MAX:  1.0  AT ORDER:  2\n",
      "DELTA V MAX:  1.0  AT ORDER:  3\n",
      "DELTA V MAX:  0  AT ORDER:  4\n",
      "         RI        RQ        GI        GQ\n",
      "--  -------  --------  --------  --------\n",
      "RI  0.49212  0         0         0\n",
      "RQ  0        2.0848    0         0.326656\n",
      "GI  0        0         0.901251  0\n",
      "GQ  0        0.326656  0         1.23746\n"
     ]
    }
   ],
   "source": [
    "ooa.test.ktp.length.val = 10\n",
    "ooa.debug.solver.delta_V_max = True\n",
    "print(ooa.test.ktp.length.val)\n",
    "\n",
    "sys = system.BGSystem(\n",
    "    ctree = ooa.extractidx('new')\n",
    ")\n",
    "sys.own.test = KTPTestStand( )\n",
    "\n",
    "LSTARR = sys.test.full_noise_matrix()"
   ]
  },
  {
   "cell_type": "code",
   "execution_count": 7,
   "metadata": {
    "collapsed": false
   },
   "outputs": [
    {
     "data": {
      "text/plain": [
       "True"
      ]
     },
     "execution_count": 7,
     "metadata": {},
     "output_type": "execute_result"
    }
   ],
   "source": [
    "0 is 0"
   ]
  },
  {
   "cell_type": "code",
   "execution_count": null,
   "metadata": {
    "collapsed": true
   },
   "outputs": [],
   "source": []
  }
 ],
 "metadata": {
  "kernelspec": {
   "display_name": "Python 3",
   "language": "python",
   "name": "python3"
  },
  "language_info": {
   "codemirror_mode": {
    "name": "ipython",
    "version": 3
   },
   "file_extension": ".py",
   "mimetype": "text/x-python",
   "name": "python",
   "nbconvert_exporter": "python",
   "pygments_lexer": "ipython3",
   "version": "3.5.2"
  },
  "latex_envs": {
   "bibliofile": "biblio.bib",
   "cite_by": "apalike",
   "current_citInitial": 1,
   "eqLabelWithNumbers": true,
   "eqNumInitial": 0
  }
 },
 "nbformat": 4,
 "nbformat_minor": 1
}
