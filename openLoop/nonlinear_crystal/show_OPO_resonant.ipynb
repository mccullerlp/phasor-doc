{
 "cells": [
  {
   "cell_type": "code",
   "execution_count": 1,
   "metadata": {
    "collapsed": false,
    "deletable": true,
    "editable": true
   },
   "outputs": [
    {
     "name": "stdout",
     "output_type": "stream",
     "text": [
      "Populating the interactive namespace from numpy and matplotlib\n",
      "Sympy version:  1.0\n"
     ]
    }
   ],
   "source": [
    "import sympy\n",
    "from openLoop.utilities.ipynb.displays import *\n",
    "from openLoop.utilities.ipynb.ipy_sympy import *\n",
    "import scipy.linalg\n",
    "\n",
    "\n",
    "import numpy.testing as np_test\n",
    "import declarative as decl\n",
    "from declarative.bunch import (\n",
    "    DeepBunch,\n",
    ")\n",
    "\n",
    "#import numpy as np\n",
    "\n",
    "from openLoop import system\n",
    "from openLoop import readouts\n",
    "from openLoop import optics\n",
    "from openLoop.optics.nonlinear_crystal import NonlinearCrystal\n",
    "from openLoop.utilities.print import pprint\n",
    "\n",
    "from openLoop.optics.models.KTP_test_stand import OPOTestStandResonant"
   ]
  },
  {
   "cell_type": "code",
   "execution_count": null,
   "metadata": {
    "collapsed": false,
    "deletable": true,
    "editable": true,
    "scrolled": false
   },
   "outputs": [],
   "source": [
    "db = DeepBunch()\n",
    "db.test.ktp.length.val = np.linspace(0, .12, 100)\n",
    "db.test.ktp.N_ode = 10\n",
    "db.test.include_AC = True\n",
    "db.test.F_PM.frequency.val = 1\n",
    "db.environment.F_AC.order = 1\n",
    "db.test.generateF_PM.amplitude = 0#np.linspace(0, .3, 20)\n",
    "sys = system.BGSystem(\n",
    "    ctree = db,\n",
    ")\n",
    "sys.own.test = OPOTestStandResonant()\n",
    "db = sys.ctree_shadow()\n",
    "#print(sys.test.ktp.ctree_as_yaml())"
   ]
  },
  {
   "cell_type": "code",
   "execution_count": null,
   "metadata": {
    "collapsed": false,
    "deletable": true,
    "editable": true,
    "scrolled": true
   },
   "outputs": [],
   "source": [
    "#print(sys.test.DC_R.DC_readout)\n",
    "db.test.F_PM.frequency.val\n",
    "#print(sys.test.DC_G.DC_readout)"
   ]
  },
  {
   "cell_type": "code",
   "execution_count": null,
   "metadata": {
    "collapsed": false,
    "deletable": true,
    "editable": true,
    "scrolled": true
   },
   "outputs": [],
   "source": [
    "axB = mplfigB(Nrows=1)\n",
    "test = sys.test\n",
    "axB.ax0.plot(test.ktp.length_mm.val, test.DC_R.DC_readout, color = 'red')\n",
    "axB.ax0.plot(test.ktp.length_mm.val, test.DC_G.DC_readout, color = 'green')\n",
    "axB.ax0.plot(test.ktp.length_mm.val, test.DC_R.DC_readout + test.DC_G.DC_readout, color = 'black')\n",
    "#axB.ax0.plot(test.ktp.length_mm.val, 1 * np.tanh(.200 * test.ktp.length_mm.val)**2, ls = '--', color = 'blue')\n",
    "#axB.ax0.set_xscale('log')\n",
    "#axB.ax0.set_ylim(0, 1.1)"
   ]
  },
  {
   "cell_type": "code",
   "execution_count": null,
   "metadata": {
    "collapsed": false,
    "deletable": true,
    "editable": true
   },
   "outputs": [],
   "source": [
    "axB = mplfigB(Nrows=1)\n",
    "test = sys.test\n",
    "axB.ax0.plot(test.ktp.length_mm.val, test.AC_R.AC_CSD_IQ.real[0,0]**.5, color = 'red')\n",
    "axB.ax0.plot(test.ktp.length_mm.val, test.AC_R.AC_CSD_IQ.real[1,1]**.5, color = 'blue')\n",
    "axB.ax0.plot(test.ktp.length_mm.val, test.AC_R.AC_CSD_ellipse.max**.5, color = 'orange', ls = '--')\n",
    "axB.ax0.plot(test.ktp.length_mm.val, test.AC_R.AC_CSD_ellipse.min**.5, color = 'purple', ls = '--')\n",
    "axB.ax0.plot(test.ktp.length_mm.val, test.AC_R.AC_CSD_ellipse.min**.25 * test.AC_R.AC_CSD_ellipse.max**.25, color = 'black', ls = '--')\n",
    "axB.ax0.axhline(1./2.)\n",
    "axB.ax0.axvline(.11)\n",
    "axB.ax0.set_yscale('log_zoom')\n",
    "#axB.ax0.set_ylim(0, 1.1)"
   ]
  },
  {
   "cell_type": "code",
   "execution_count": null,
   "metadata": {
    "collapsed": false,
    "deletable": true,
    "editable": true,
    "scrolled": false
   },
   "outputs": [],
   "source": [
    "db = DeepBunch()\n",
    "db.test.ktp.length.val = .11\n",
    "#db.test.ktp.length.val = np.linspace(0, .2, 100)\n",
    "db.test.ktp.N_ode = 1\n",
    "db.test.ktp.solution_order = 4\n",
    "db.test.include_AC = True\n",
    "db.environment.F_AC.order = 1\n",
    "db.test.F_PM.frequency.val = 1\n",
    "db.test.generateF_PM.amplitude = np.linspace(0, .3, 20)\n",
    "sys = system.BGSystem(\n",
    "    ctree = db,\n",
    ")\n",
    "sys.own.test = OPOTestStandResonant()\n",
    "db = sys.ctree_shadow()\n",
    "#print(sys.test.ktp.ctree_as_yaml())\n",
    "\n",
    "axB = mplfigB(Nrows=1)\n",
    "test = sys.test\n",
    "#axB.ax0.plot(test.generateF_PM.amplitude.real, test.AC_R.AC_CSD_IQ.real[0,0]**.5, color = 'red')\n",
    "axB.ax0.plot(test.generateF_PM.amplitude.real, test.AC_R.AC_CSD_IQ.real[1,1]**.5, color = 'blue')\n",
    "#axB.ax0.plot(test.generateF_PM.amplitude.real, test.AC_R.AC_CSD_ellipse.max**.5, color = 'orange', ls = '--')\n",
    "axB.ax0.plot(test.generateF_PM.amplitude.real, test.AC_R.AC_CSD_ellipse.min**.5, color = 'purple', ls = '--')\n",
    "axB.ax0.plot(test.generateF_PM.amplitude.real, \n",
    "             (test.AC_R.AC_CSD_ellipse.min[0] + \n",
    "             test.generateF_PM.amplitude.real**2/(np.pi**2) * test.AC_R.AC_CSD_ellipse.max[0])**.5,\n",
    "             color = 'cyan', ls = '-')\n",
    "#axB.ax0.plot(test.generateF_PM.amplitude, test.AC_R.AC_CSD_ellipse.min**.25 * test.AC_R.AC_CSD_ellipse.max**.25, color = 'black', ls = '--')\n",
    "#axB.ax0.set_yscale('log_zoom')\n",
    "#axB.ax0.plot(test.ktp.length_mm, test.DC_G.DC_readout, color = 'green')\n",
    "#axB.ax0.plot(test.ktp.length_mm, test.DC_R.DC_readout + test.DC_G.DC_readout, color = 'black')\n",
    "#axB.ax0.plot(test.ktp.length_mm, 1 * np.tanh(.100 * test.ktp.length_mm.val)**2, color = 'blue')\n",
    "#axB.ax0.set_ylim(0, 1.1)"
   ]
  },
  {
   "cell_type": "code",
   "execution_count": null,
   "metadata": {
    "collapsed": true,
    "deletable": true,
    "editable": true
   },
   "outputs": [],
   "source": [
    "db = DeepBunch()\n",
    "db.test.ktp.length.val = .11\n",
    "#db.test.ktp.length.val = np.linspace(0, .2, 100)\n",
    "db.test.ktp.N_ode = 1\n",
    "db.test.ktp.solution_order = 4\n",
    "db.test.include_AC = True\n",
    "db.environment.F_AC.order = 1\n",
    "db.test.F_PM.frequency.val = 1\n",
    "\n",
    "db.test.generateF_PM.amplitude = 0\n",
    "db.test.generateF_PMRead.amplitude = np.linspace(0, .3, 20)/2\n",
    "sys = system.BGSystem(\n",
    "    ctree = db,\n",
    ")\n",
    "sys.own.test = OPOTestStandResonant()\n",
    "db = sys.ctree_shadow()\n",
    "#print(sys.test.ktp.ctree_as_yaml())\n",
    "\n",
    "axB = mplfigB(Nrows=1)\n",
    "test = sys.test\n",
    "#axB.ax0.plot(test.generateF_PM.amplitude.real, test.AC_R.AC_CSD_IQ.real[0,0]**.5, color = 'red')\n",
    "axB.ax0.plot(2 * test.generateF_PMRead.amplitude.real, test.AC_R.AC_CSD_IQ.real[1,1]**.5, color = 'blue')\n",
    "#axB.ax0.plot(test.generateF_PM.amplitude.real, test.AC_R.AC_CSD_ellipse.max**.5, color = 'orange', ls = '--')\n",
    "axB.ax0.plot(2 * test.generateF_PMRead.amplitude.real, test.AC_R.AC_CSD_ellipse.min**.5, color = 'purple', ls = '--')\n",
    "axB.ax0.plot(2 * test.generateF_PMRead.amplitude.real, \n",
    "             (test.AC_R.AC_CSD_ellipse.min[0] + \n",
    "             4 * test.generateF_PMRead.amplitude.real**2/(np.pi**2) * test.AC_R.AC_CSD_ellipse.max[0])**.5,\n",
    "             color = 'cyan', ls = '-')\n",
    "#axB.ax0.plot(test.generateF_PM.amplitude, test.AC_R.AC_CSD_ellipse.min**.25 * test.AC_R.AC_CSD_ellipse.max**.25, color = 'black', ls = '--')\n",
    "#axB.ax0.set_yscale('log_zoom')\n",
    "#axB.ax0.plot(test.ktp.length_mm, test.DC_G.DC_readout, color = 'green')\n",
    "#axB.ax0.plot(test.ktp.length_mm, test.DC_R.DC_readout + test.DC_G.DC_readout, color = 'black')\n",
    "#axB.ax0.plot(test.ktp.length_mm, 1 * np.tanh(.100 * test.ktp.length_mm.val)**2, color = 'blue')\n",
    "#axB.ax0.set_ylim(0, 1.1)"
   ]
  },
  {
   "cell_type": "code",
   "execution_count": null,
   "metadata": {
    "collapsed": false,
    "deletable": true,
    "editable": true
   },
   "outputs": [],
   "source": [
    "db = DeepBunch()\n",
    "db.test.ktp.length.val = .11\n",
    "#db.test.ktp.length.val = np.linspace(0, .2, 100)\n",
    "db.test.ktp.N_ode = 1\n",
    "db.test.ktp.solution_order = 6\n",
    "db.test.include_AC = True\n",
    "db.environment.F_AC.order = 1\n",
    "db.test.F_PM.frequency.val = 1\n",
    "\n",
    "db.test.generateF_PM.amplitude = np.linspace(0, .3, 20)\n",
    "db.test.generateF_PMRead.amplitude = np.linspace(0, .3, 20)/2\n",
    "sys = system.BGSystem(\n",
    "    ctree = db,\n",
    ")\n",
    "sys.own.test = OPOTestStandResonant()\n",
    "db = sys.ctree_shadow()\n",
    "#print(sys.test.ktp.ctree_as_yaml())\n",
    "\n",
    "axB = mplfigB(Nrows=1)\n",
    "test = sys.test\n",
    "#axB.ax0.plot(test.generateF_PM.amplitude.real, test.AC_R.AC_CSD_IQ.real[0,0]**.5, color = 'red')\n",
    "axB.ax0.plot(2 * test.generateF_PMRead.amplitude.real, test.AC_R.AC_CSD_IQ.real[1,1]**.5, color = 'blue')\n",
    "#axB.ax0.plot(test.generateF_PM.amplitude.real, test.AC_R.AC_CSD_ellipse.max**.5, color = 'orange', ls = '--')\n",
    "axB.ax0.plot(2 * test.generateF_PMRead.amplitude.real, test.AC_R.AC_CSD_ellipse.min**.5, color = 'purple', ls = '--')\n",
    "#axB.ax0.plot(2 * test.generateF_PMRead.amplitude.real, \n",
    "#             (test.AC_R.AC_CSD_ellipse.min[0] + \n",
    "#             4 * test.generateF_PMRead.amplitude.real**2/(np.pi**2) * test.AC_R.AC_CSD_ellipse.max[0])**.5,\n",
    "#             color = 'cyan', ls = '-')"
   ]
  },
  {
   "cell_type": "code",
   "execution_count": null,
   "metadata": {
    "collapsed": false,
    "deletable": true,
    "editable": true
   },
   "outputs": [],
   "source": [
    "#_ = sys.test.full_noise_matrix()"
   ]
  },
  {
   "cell_type": "code",
   "execution_count": null,
   "metadata": {
    "collapsed": true,
    "deletable": true,
    "editable": true
   },
   "outputs": [],
   "source": []
  },
  {
   "cell_type": "code",
   "execution_count": null,
   "metadata": {
    "collapsed": false,
    "deletable": true,
    "editable": true
   },
   "outputs": [],
   "source": [
    "test.AC_R.AC_CSD_ellipse.min"
   ]
  },
  {
   "cell_type": "code",
   "execution_count": null,
   "metadata": {
    "collapsed": false,
    "deletable": true,
    "editable": true
   },
   "outputs": [],
   "source": [
    "1/4"
   ]
  },
  {
   "cell_type": "code",
   "execution_count": null,
   "metadata": {
    "collapsed": false,
    "deletable": true,
    "editable": true
   },
   "outputs": [],
   "source": [
    "1/.06"
   ]
  },
  {
   "cell_type": "code",
   "execution_count": null,
   "metadata": {
    "collapsed": false,
    "deletable": true,
    "editable": true
   },
   "outputs": [],
   "source": [
    ".3 + 1 "
   ]
  },
  {
   "cell_type": "code",
   "execution_count": null,
   "metadata": {
    "collapsed": false,
    "deletable": true,
    "editable": true,
    "scrolled": false
   },
   "outputs": [],
   "source": [
    "db = DeepBunch()\n",
    "db.test.ktp.length.val = .11\n",
    "#db.test.ktp.length.val = np.linspace(0, .2, 100)\n",
    "db.test.ktp.N_ode = 1\n",
    "db.test.ktp.solution_order = 4\n",
    "db.test.include_AC = True\n",
    "db.environment.F_AC.order = 1\n",
    "db.test.F_PM.frequency.val = 1\n",
    "db.test.PSLG.phase.val = np.linspace(0, 360, 100)\n",
    "db.test.generateF_PM.amplitude = 0 #np.linspace(0, .3, 20)\n",
    "sys = system.BGSystem(\n",
    "    ctree = db,\n",
    ")\n",
    "sys.own.test = OPOTestStandResonant()\n",
    "db = sys.ctree_shadow()\n",
    "#print(sys.test.ktp.ctree_as_yaml())"
   ]
  },
  {
   "cell_type": "code",
   "execution_count": null,
   "metadata": {
    "collapsed": false,
    "deletable": true,
    "editable": true
   },
   "outputs": [],
   "source": [
    "axB = mplfigB(Nrows=2)\n",
    "test = sys.test\n",
    "axB.ax0.plot(test.PSLG.phase_deg.val, test.AC_R.AC_CSD_IQ.real[0,0], color = 'red')\n",
    "axB.ax0.plot(test.PSLG.phase_deg.val, test.AC_R.AC_CSD_IQ.real[1,1], color = 'blue')\n",
    "axB.ax0.plot(test.PSLG.phase_deg.val, test.AC_R.AC_CSD_ellipse.max, color = 'orange', ls = '--')\n",
    "axB.ax0.plot(test.PSLG.phase_deg.val, test.AC_R.AC_CSD_ellipse.min, color = 'purple', ls = '--')\n",
    "axB.ax1.plot(test.PSLG.phase_deg.val, test.AC_R.AC_CSD_ellipse.deg, color = 'green', ls = '-')\n",
    "#axB.ax0.plot(test.generateF_PM.amplitude, test.AC_R.AC_CSD_ellipse.min**.25 * test.AC_R.AC_CSD_ellipse.max**.25, color = 'black', ls = '--')\n",
    "axB.ax0.set_yscale('log_zoom')\n",
    "#axB.ax0.plot(test.ktp.length_mm, test.DC_G.DC_readout, color = 'green')\n",
    "#axB.ax0.plot(test.ktp.length_mm, test.DC_R.DC_readout + test.DC_G.DC_readout, color = 'black')\n",
    "#axB.ax0.plot(test.ktp.length_mm, 1 * np.tanh(.100 * test.ktp.length_mm.val)**2, color = 'blue')\n",
    "#axB.ax0.set_ylim(0, 1.1)"
   ]
  },
  {
   "cell_type": "code",
   "execution_count": null,
   "metadata": {
    "collapsed": false,
    "deletable": true,
    "editable": true
   },
   "outputs": [],
   "source": [
    "\n",
    "db.test.PSLG.phase.units"
   ]
  },
  {
   "cell_type": "code",
   "execution_count": null,
   "metadata": {
    "collapsed": true,
    "deletable": true,
    "editable": true
   },
   "outputs": [],
   "source": []
  }
 ],
 "metadata": {
  "kernelspec": {
   "display_name": "Python 3",
   "language": "python",
   "name": "python3"
  },
  "language_info": {
   "codemirror_mode": {
    "name": "ipython",
    "version": 3
   },
   "file_extension": ".py",
   "mimetype": "text/x-python",
   "name": "python",
   "nbconvert_exporter": "python",
   "pygments_lexer": "ipython3",
   "version": "3.5.2"
  },
  "latex_envs": {
   "bibliofile": "biblio.bib",
   "cite_by": "apalike",
   "current_citInitial": 1,
   "eqLabelWithNumbers": true,
   "eqNumInitial": 0
  }
 },
 "nbformat": 4,
 "nbformat_minor": 1
}
