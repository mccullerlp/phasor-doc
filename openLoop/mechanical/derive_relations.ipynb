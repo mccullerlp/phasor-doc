{
 "cells": [
  {
   "cell_type": "code",
   "execution_count": 1,
   "metadata": {
    "collapsed": false,
    "deletable": true,
    "editable": true
   },
   "outputs": [],
   "source": [
    "import sys\n",
    "from __future__ import division"
   ]
  },
  {
   "cell_type": "code",
   "execution_count": 2,
   "metadata": {
    "collapsed": false,
    "deletable": true,
    "editable": true
   },
   "outputs": [
    {
     "name": "stdout",
     "output_type": "stream",
     "text": [
      "Populating the interactive namespace from numpy and matplotlib\n"
     ]
    }
   ],
   "source": [
    "import numpy as np\n",
    "from openLoop.utilities.ipynb.displays import *\n",
    "#from YALL.utilities.tabulate import tabulate\n",
    "\n",
    "import declarative\n",
    "\n",
    "from declarative.bunch import (\n",
    "    DeepBunch\n",
    ")\n",
    "\n",
    "import openLoop.math.dispatched as dmath \n",
    "#import openLoop.math.dispatch_sympy"
   ]
  },
  {
   "cell_type": "code",
   "execution_count": 3,
   "metadata": {
    "collapsed": false,
    "deletable": true,
    "editable": true
   },
   "outputs": [
    {
     "name": "stdout",
     "output_type": "stream",
     "text": [
      "b'2017-04-02 22:41:49 -0400 (87cf294591536591a3d2b62cc64392752bb95e54)'\n"
     ]
    }
   ],
   "source": [
    "import openLoop.utilities.version as version\n",
    "print(version.foundations_version())\n",
    "\n",
    "from openLoop.utilities.np import logspaced\n",
    "\n",
    "from openLoop import optics\n",
    "from openLoop import base \n",
    "from openLoop import signals \n",
    "from openLoop import system\n",
    "from openLoop import readouts \n",
    "from openLoop import mechanical"
   ]
  },
  {
   "cell_type": "code",
   "execution_count": 10,
   "metadata": {
    "collapsed": false,
    "deletable": true,
    "editable": true
   },
   "outputs": [
    {
     "data": {
      "text/plain": [
       "openLoop.mechanical.xyz.XYZMass"
      ]
     },
     "execution_count": 10,
     "metadata": {},
     "output_type": "execute_result"
    }
   ],
   "source": [
    "mechanical.XYZMass"
   ]
  },
  {
   "cell_type": "code",
   "execution_count": 26,
   "metadata": {
    "collapsed": false,
    "deletable": true,
    "editable": true
   },
   "outputs": [
    {
     "data": {
      "text/plain": [
       "15.92356687898089"
      ]
     },
     "execution_count": 26,
     "metadata": {},
     "output_type": "execute_result"
    }
   ],
   "source": [
    "100 / 6.28"
   ]
  },
  {
   "cell_type": "code",
   "execution_count": 50,
   "metadata": {
    "collapsed": false,
    "deletable": true,
    "editable": true
   },
   "outputs": [
    {
     "data": {
      "text/plain": [
       "38.098"
      ]
     },
     "execution_count": 50,
     "metadata": {},
     "output_type": "execute_result"
    }
   ],
   "source": [
    "(31.376 + 44.82)/2"
   ]
  },
  {
   "cell_type": "code",
   "execution_count": 126,
   "metadata": {
    "collapsed": false,
    "deletable": true,
    "editable": true
   },
   "outputs": [],
   "source": [
    "B = np.matrix([\n",
    "    [-1, 1, 0], \n",
    "    [0, -1, 1], \n",
    "    [-1, 0, 1], \n",
    "    [1, 1, -1],\n",
    "    [1, -1, 1],\n",
    "    [-1, 1, 1],\n",
    "])\n",
    "A = np.matrix([\n",
    "    [1, -1, 0 ], \n",
    "    [0, 1, -1], \n",
    "    [1, 0, -1], \n",
    "    [1, 1, -1],\n",
    "    [1, -1, 1],\n",
    "    [-1, 1, 1],\n",
    "])\n",
    "X = np.linalg.pinv(B) * A"
   ]
  },
  {
   "cell_type": "code",
   "execution_count": 127,
   "metadata": {
    "collapsed": false,
    "deletable": true,
    "editable": true
   },
   "outputs": [
    {
     "data": {
      "text/plain": [
       "0.020408163265306117"
      ]
     },
     "execution_count": 127,
     "metadata": {},
     "output_type": "execute_result"
    }
   ],
   "source": [
    "np.linalg.det(X)"
   ]
  },
  {
   "cell_type": "code",
   "execution_count": 191,
   "metadata": {
    "collapsed": false,
    "deletable": true,
    "editable": true
   },
   "outputs": [
    {
     "name": "stdout",
     "output_type": "stream",
     "text": [
      "[[-0.33333778  0.66666889  0.66666889]\n",
      " [ 0.66666889 -0.33333778  0.66666889]\n",
      " [ 0.66666889  0.66666889 -0.33333778]]\n"
     ]
    },
    {
     "data": {
      "text/plain": [
       "(array([ -2.99999000e+05,   1.00000000e+00,  -2.99999000e+05]),\n",
       " matrix([[-0.81649658,  0.57735027, -0.19970487],\n",
       "         [ 0.40824829,  0.57735027, -0.58577755],\n",
       "         [ 0.40824829,  0.57735027,  0.78548242]]))"
      ]
     },
     "execution_count": 191,
     "metadata": {},
     "output_type": "execute_result"
    }
   ],
   "source": [
    "Y = np.matrix([[-2,1,1],[1,-2,1],[1,1,-2]])\n",
    "X = 100e3\n",
    "Y = Y * X\n",
    "I = np.eye(3)\n",
    "print((I - Y) * np.linalg.inv(I + Y) )\n",
    "\n",
    "np.linalg.eig(I + Y)\n",
    "#print(( - Y) * np.linalg.inv( + Y) )"
   ]
  },
  {
   "cell_type": "code",
   "execution_count": 189,
   "metadata": {
    "collapsed": false,
    "deletable": true,
    "editable": true
   },
   "outputs": [
    {
     "data": {
      "text/plain": [
       "matrix([[ 33333.11110991,  33333.44444436,  33333.44444436],\n",
       "        [ 33333.44444436,  33333.11110991,  33333.44444436],\n",
       "        [ 33333.44444436,  33333.44444436,  33333.11110991]])"
      ]
     },
     "execution_count": 189,
     "metadata": {},
     "output_type": "execute_result"
    }
   ],
   "source": [
    "np.linalg.inv(I/X + Y/X)"
   ]
  },
  {
   "cell_type": "code",
   "execution_count": 161,
   "metadata": {
    "collapsed": false,
    "deletable": true,
    "editable": true
   },
   "outputs": [
    {
     "data": {
      "text/plain": [
       "matrix([[ 1. ,  0.5,  0.5],\n",
       "        [ 0.5,  1. ,  0.5],\n",
       "        [ 0.5,  0.5,  1. ]])"
      ]
     },
     "execution_count": 161,
     "metadata": {},
     "output_type": "execute_result"
    }
   ],
   "source": [
    "Y"
   ]
  },
  {
   "cell_type": "code",
   "execution_count": 214,
   "metadata": {
    "collapsed": false,
    "deletable": true,
    "editable": true
   },
   "outputs": [],
   "source": [
    "vx = np.matrix([1,1,1]) / 3**.5\n",
    "P_x = vx.T * vx\n",
    "P_x\n",
    "E = 2 * P_x - I"
   ]
  },
  {
   "cell_type": "code",
   "execution_count": 332,
   "metadata": {
    "collapsed": false,
    "deletable": true,
    "editable": true
   },
   "outputs": [],
   "source": [
    "vx = np.matrix([1,1,1]) / 3**.5\n",
    "P_x = vx.T * vx\n",
    "P_x\n",
    "E = 2 * P_x - I\n",
    "X = np.bmat([E,I])\n",
    "VIAB = np.bmat([[I,I],[I,-I]])\n",
    "XVI = X * np.linalg.inv(VIAB) \n",
    "XV = XVI[:,0:3]\n",
    "XI = XVI[:,3:6]"
   ]
  },
  {
   "cell_type": "code",
   "execution_count": 333,
   "metadata": {
    "collapsed": false,
    "deletable": true,
    "editable": true
   },
   "outputs": [
    {
     "data": {
      "text/plain": [
       "matrix([[  9.00719925e+14,   9.00719925e+14,   9.00719925e+14],\n",
       "        [  9.00719925e+14,   9.00719925e+14,   9.00719925e+14],\n",
       "        [  9.00719925e+14,   9.00719925e+14,   9.00719925e+14]])"
      ]
     },
     "execution_count": 333,
     "metadata": {},
     "output_type": "execute_result"
    }
   ],
   "source": [
    "np.linalg.inv(XI) * XV"
   ]
  },
  {
   "cell_type": "code",
   "execution_count": 334,
   "metadata": {
    "collapsed": false,
    "deletable": true,
    "editable": true
   },
   "outputs": [
    {
     "data": {
      "text/plain": [
       "matrix([[ 0.5,  0.5,  0.5],\n",
       "        [ 0.5,  0.5,  0.5],\n",
       "        [ 0.5,  0.5,  0.5]])"
      ]
     },
     "execution_count": 334,
     "metadata": {},
     "output_type": "execute_result"
    }
   ],
   "source": [
    "XV * 3 /2"
   ]
  },
  {
   "cell_type": "code",
   "execution_count": 335,
   "metadata": {
    "collapsed": false,
    "deletable": true,
    "editable": true
   },
   "outputs": [
    {
     "data": {
      "text/plain": [
       "matrix([[-1. ,  0.5,  0.5],\n",
       "        [ 0.5, -1. ,  0.5],\n",
       "        [ 0.5,  0.5, -1. ]])"
      ]
     },
     "execution_count": 335,
     "metadata": {},
     "output_type": "execute_result"
    }
   ],
   "source": [
    "XI * 3 / 2"
   ]
  },
  {
   "cell_type": "code",
   "execution_count": 336,
   "metadata": {
    "collapsed": false,
    "deletable": true,
    "editable": true,
    "scrolled": false
   },
   "outputs": [
    {
     "ename": "LinAlgError",
     "evalue": "Singular matrix",
     "output_type": "error",
     "traceback": [
      "\u001b[0;31m---------------------------------------------------------------------------\u001b[0m",
      "\u001b[0;31mLinAlgError\u001b[0m                               Traceback (most recent call last)",
      "\u001b[0;32m<ipython-input-336-1c210addb5d9>\u001b[0m in \u001b[0;36m<module>\u001b[0;34m()\u001b[0m\n\u001b[1;32m      1\u001b[0m \u001b[0mX2VI\u001b[0m \u001b[0;34m=\u001b[0m \u001b[0mnp\u001b[0m\u001b[0;34m.\u001b[0m\u001b[0mbmat\u001b[0m\u001b[0;34m(\u001b[0m\u001b[0;34m[\u001b[0m\u001b[0mnp\u001b[0m\u001b[0;34m.\u001b[0m\u001b[0mzeros\u001b[0m\u001b[0;34m(\u001b[0m\u001b[0;34m(\u001b[0m\u001b[0;36m3\u001b[0m\u001b[0;34m,\u001b[0m\u001b[0;36m3\u001b[0m\u001b[0;34m)\u001b[0m\u001b[0;34m)\u001b[0m\u001b[0;34m,\u001b[0m \u001b[0mnp\u001b[0m\u001b[0;34m.\u001b[0m\u001b[0mones\u001b[0m\u001b[0;34m(\u001b[0m\u001b[0;34m(\u001b[0m\u001b[0;36m3\u001b[0m\u001b[0;34m,\u001b[0m\u001b[0;36m3\u001b[0m\u001b[0;34m)\u001b[0m\u001b[0;34m)\u001b[0m \u001b[0;34m-\u001b[0m \u001b[0;36m2\u001b[0m \u001b[0;34m*\u001b[0m \u001b[0mI\u001b[0m\u001b[0;34m]\u001b[0m\u001b[0;34m)\u001b[0m\u001b[0;31m# * VIAB.T\u001b[0m\u001b[0;34m\u001b[0m\u001b[0m\n\u001b[0;32m----> 2\u001b[0;31m \u001b[0mnp\u001b[0m\u001b[0;34m.\u001b[0m\u001b[0mlinalg\u001b[0m\u001b[0;34m.\u001b[0m\u001b[0minv\u001b[0m\u001b[0;34m(\u001b[0m\u001b[0mX2VI\u001b[0m\u001b[0;34m[\u001b[0m\u001b[0;34m:\u001b[0m\u001b[0;34m,\u001b[0m\u001b[0;36m0\u001b[0m\u001b[0;34m:\u001b[0m\u001b[0;36m3\u001b[0m\u001b[0;34m]\u001b[0m\u001b[0;34m)\u001b[0m \u001b[0;34m*\u001b[0m \u001b[0mX2VI\u001b[0m\u001b[0;34m[\u001b[0m\u001b[0;34m:\u001b[0m\u001b[0;34m,\u001b[0m\u001b[0;36m3\u001b[0m\u001b[0;34m:\u001b[0m\u001b[0;36m6\u001b[0m\u001b[0;34m]\u001b[0m\u001b[0;34m\u001b[0m\u001b[0m\n\u001b[0m",
      "\u001b[0;32m/usr/lib64/python3.5/site-packages/numpy/linalg/linalg.py\u001b[0m in \u001b[0;36minv\u001b[0;34m(a)\u001b[0m\n\u001b[1;32m    524\u001b[0m     \u001b[0msignature\u001b[0m \u001b[0;34m=\u001b[0m \u001b[0;34m'D->D'\u001b[0m \u001b[0;32mif\u001b[0m \u001b[0misComplexType\u001b[0m\u001b[0;34m(\u001b[0m\u001b[0mt\u001b[0m\u001b[0;34m)\u001b[0m \u001b[0;32melse\u001b[0m \u001b[0;34m'd->d'\u001b[0m\u001b[0;34m\u001b[0m\u001b[0m\n\u001b[1;32m    525\u001b[0m     \u001b[0mextobj\u001b[0m \u001b[0;34m=\u001b[0m \u001b[0mget_linalg_error_extobj\u001b[0m\u001b[0;34m(\u001b[0m\u001b[0m_raise_linalgerror_singular\u001b[0m\u001b[0;34m)\u001b[0m\u001b[0;34m\u001b[0m\u001b[0m\n\u001b[0;32m--> 526\u001b[0;31m     \u001b[0mainv\u001b[0m \u001b[0;34m=\u001b[0m \u001b[0m_umath_linalg\u001b[0m\u001b[0;34m.\u001b[0m\u001b[0minv\u001b[0m\u001b[0;34m(\u001b[0m\u001b[0ma\u001b[0m\u001b[0;34m,\u001b[0m \u001b[0msignature\u001b[0m\u001b[0;34m=\u001b[0m\u001b[0msignature\u001b[0m\u001b[0;34m,\u001b[0m \u001b[0mextobj\u001b[0m\u001b[0;34m=\u001b[0m\u001b[0mextobj\u001b[0m\u001b[0;34m)\u001b[0m\u001b[0;34m\u001b[0m\u001b[0m\n\u001b[0m\u001b[1;32m    527\u001b[0m     \u001b[0;32mreturn\u001b[0m \u001b[0mwrap\u001b[0m\u001b[0;34m(\u001b[0m\u001b[0mainv\u001b[0m\u001b[0;34m.\u001b[0m\u001b[0mastype\u001b[0m\u001b[0;34m(\u001b[0m\u001b[0mresult_t\u001b[0m\u001b[0;34m,\u001b[0m \u001b[0mcopy\u001b[0m\u001b[0;34m=\u001b[0m\u001b[0;32mFalse\u001b[0m\u001b[0;34m)\u001b[0m\u001b[0;34m)\u001b[0m\u001b[0;34m\u001b[0m\u001b[0m\n\u001b[1;32m    528\u001b[0m \u001b[0;34m\u001b[0m\u001b[0m\n",
      "\u001b[0;32m/usr/lib64/python3.5/site-packages/numpy/linalg/linalg.py\u001b[0m in \u001b[0;36m_raise_linalgerror_singular\u001b[0;34m(err, flag)\u001b[0m\n\u001b[1;32m     88\u001b[0m \u001b[0;34m\u001b[0m\u001b[0m\n\u001b[1;32m     89\u001b[0m \u001b[0;32mdef\u001b[0m \u001b[0m_raise_linalgerror_singular\u001b[0m\u001b[0;34m(\u001b[0m\u001b[0merr\u001b[0m\u001b[0;34m,\u001b[0m \u001b[0mflag\u001b[0m\u001b[0;34m)\u001b[0m\u001b[0;34m:\u001b[0m\u001b[0;34m\u001b[0m\u001b[0m\n\u001b[0;32m---> 90\u001b[0;31m     \u001b[0;32mraise\u001b[0m \u001b[0mLinAlgError\u001b[0m\u001b[0;34m(\u001b[0m\u001b[0;34m\"Singular matrix\"\u001b[0m\u001b[0;34m)\u001b[0m\u001b[0;34m\u001b[0m\u001b[0m\n\u001b[0m\u001b[1;32m     91\u001b[0m \u001b[0;34m\u001b[0m\u001b[0m\n\u001b[1;32m     92\u001b[0m \u001b[0;32mdef\u001b[0m \u001b[0m_raise_linalgerror_nonposdef\u001b[0m\u001b[0;34m(\u001b[0m\u001b[0merr\u001b[0m\u001b[0;34m,\u001b[0m \u001b[0mflag\u001b[0m\u001b[0;34m)\u001b[0m\u001b[0;34m:\u001b[0m\u001b[0;34m\u001b[0m\u001b[0m\n",
      "\u001b[0;31mLinAlgError\u001b[0m: Singular matrix"
     ]
    }
   ],
   "source": [
    "X2VI = np.bmat([np.zeros((3,3)), np.ones((3,3)) - 2 * I])# * VIAB.T\n",
    "np.linalg.inv(X2VI[:,0:3]) * X2VI[:,3:6]"
   ]
  },
  {
   "cell_type": "code",
   "execution_count": 337,
   "metadata": {
    "collapsed": false,
    "deletable": true,
    "editable": true
   },
   "outputs": [
    {
     "data": {
      "text/plain": [
       "matrix([[ 0.,  0.,  0., -1.,  1.,  1.],\n",
       "        [ 0.,  0.,  0.,  1., -1.,  1.],\n",
       "        [ 0.,  0.,  0.,  1.,  1., -1.]])"
      ]
     },
     "execution_count": 337,
     "metadata": {},
     "output_type": "execute_result"
    }
   ],
   "source": [
    "X2VI"
   ]
  },
  {
   "cell_type": "code",
   "execution_count": 346,
   "metadata": {
    "collapsed": false,
    "deletable": true,
    "editable": true
   },
   "outputs": [
    {
     "name": "stdout",
     "output_type": "stream",
     "text": [
      "[[ 0.33333333 -0.66666667 -0.66666667]\n",
      " [-0.66666667  0.33333333 -0.66666667]\n",
      " [-0.66666667 -0.66666667  0.33333333]]\n",
      "[[ 0.33333333 -0.66666667 -0.66666667]\n",
      " [-0.66666667  0.33333333 -0.66666667]\n",
      " [-0.66666667 -0.66666667  0.33333333]]\n"
     ]
    }
   ],
   "source": [
    "X2VI = np.matrix([\n",
    "    [0,0,0,1,1,1],\n",
    "    [0,1,-1,0,0,0,],\n",
    "    [1,-1,0,0,0,0]]) * VIAB.T\n",
    "print(np.linalg.inv(X2VI[:,0:3]) * X2VI[:,3:6])\n",
    "print(np.linalg.inv(X2VI[:,3:6]) * X2VI[:,0:3])"
   ]
  },
  {
   "cell_type": "code",
   "execution_count": 361,
   "metadata": {
    "collapsed": false,
    "deletable": true,
    "editable": true
   },
   "outputs": [
    {
     "name": "stdout",
     "output_type": "stream",
     "text": [
      "[[ 0.33333333 -0.66666667 -0.66666667]\n",
      " [-0.66666667  0.33333333 -0.66666667]\n",
      " [-0.66666667 -0.66666667  0.33333333]]\n",
      "[[ 0.33333333 -0.66666667 -0.66666667]\n",
      " [-0.66666667  0.33333333 -0.66666667]\n",
      " [-0.66666667 -0.66666667  0.33333333]]\n"
     ]
    }
   ],
   "source": [
    "I = np.eye(3)\n",
    "VIAB = np.bmat([[I,I],[I,-I]])\n",
    "X2VI = np.matrix([\n",
    "    [0,0,0,1,1,1],\n",
    "    [0,1,-1,0,0,0,],\n",
    "    [1,-1,0,0,0,0],\n",
    "    [1,0,-1,0,0,0],\n",
    "]) * VIAB.T\n",
    "print(np.linalg.pinv(X2VI[:,0:3]) * X2VI[:,3:6])\n",
    "print(np.linalg.pinv(X2VI[:,3:6]) * X2VI[:,0:3])"
   ]
  },
  {
   "cell_type": "code",
   "execution_count": 369,
   "metadata": {
    "collapsed": false,
    "deletable": true,
    "editable": true
   },
   "outputs": [
    {
     "name": "stdout",
     "output_type": "stream",
     "text": [
      "[[ 0.01960784 -0.19607843 -0.98039216]\n",
      " [-0.19607843  0.96078431 -0.19607843]\n",
      " [-0.98039216 -0.19607843  0.01960784]]\n",
      "[[ 0.01960784 -0.19607843 -0.98039216]\n",
      " [-0.19607843  0.96078431 -0.19607843]\n",
      " [-0.98039216 -0.19607843  0.01960784]]\n"
     ]
    },
    {
     "data": {
      "text/plain": [
       "(array([ 1., -1.,  1.]), matrix([[ 0.71400555, -0.70014004,  0.51870247],\n",
       "         [-0.13730876, -0.14002801, -0.77360539],\n",
       "         [-0.6865438 , -0.70014004, -0.36398139]]))"
      ]
     },
     "execution_count": 369,
     "metadata": {},
     "output_type": "execute_result"
    }
   ],
   "source": [
    "I = np.eye(3)\n",
    "VIAB = np.bmat([[I,I],[I,-I]])\n",
    "d = 5\n",
    "X2VI = np.matrix([\n",
    "    [0,0,0,1,1/d,1],\n",
    "    [0,d,-1,0,0,0,],\n",
    "    [1,0,-1,0,0,0],\n",
    "]) * VIAB.T\n",
    "print(np.linalg.inv(X2VI[:,0:3]) * X2VI[:,3:6])\n",
    "print(np.linalg.inv(X2VI[:,3:6]) * X2VI[:,0:3])\n",
    "np.linalg.eig(np.linalg.inv(X2VI[:,0:3]) * X2VI[:,3:6])"
   ]
  },
  {
   "cell_type": "code",
   "execution_count": 359,
   "metadata": {
    "collapsed": false,
    "deletable": true,
    "editable": true
   },
   "outputs": [
    {
     "name": "stdout",
     "output_type": "stream",
     "text": [
      "[[ 0.5 -0.5 -0.5 -0.5]\n",
      " [-0.5  0.5 -0.5 -0.5]\n",
      " [-0.5 -0.5  0.5 -0.5]\n",
      " [-0.5 -0.5 -0.5  0.5]]\n",
      "[[ 0.5 -0.5 -0.5 -0.5]\n",
      " [-0.5  0.5 -0.5 -0.5]\n",
      " [-0.5 -0.5  0.5 -0.5]\n",
      " [-0.5 -0.5 -0.5  0.5]]\n"
     ]
    }
   ],
   "source": [
    "I = np.eye(4)\n",
    "VIAB = np.bmat([[I,I],[I,-I]])\n",
    "X2VI = np.matrix([\n",
    "    [0,0,0,0,1,1,1,1],\n",
    "    [0,1,-1,0,0,0,0,0,],\n",
    "    [1,-1,0,0,0,0,0,0],\n",
    "    #[1,0,-1,0,0,0,0,0],\n",
    "    #[0,1,-1,0,0,0,0,0],\n",
    "    [0,0,1,-1,0,0,0,0],\n",
    "]) * VIAB.T\n",
    "print(np.linalg.pinv(X2VI[:,0:4]) * X2VI[:,4:8])\n",
    "print(np.linalg.pinv(X2VI[:,4:8]) * X2VI[:,0:4])"
   ]
  },
  {
   "cell_type": "code",
   "execution_count": 341,
   "metadata": {
    "collapsed": false,
    "deletable": true,
    "editable": true
   },
   "outputs": [
    {
     "data": {
      "text/plain": [
       "matrix([[ 1.,  1.,  1., -1., -1., -1.],\n",
       "        [ 0.,  1., -1.,  0.,  1., -1.],\n",
       "        [ 1., -1.,  0.,  1., -1.,  0.]])"
      ]
     },
     "execution_count": 341,
     "metadata": {},
     "output_type": "execute_result"
    }
   ],
   "source": [
    "X2VI"
   ]
  },
  {
   "cell_type": "code",
   "execution_count": 342,
   "metadata": {
    "collapsed": false,
    "deletable": true,
    "editable": true
   },
   "outputs": [
    {
     "data": {
      "text/plain": [
       "matrix([[ 1.,  0.,  0.,  1.,  0.,  0.],\n",
       "        [ 0.,  1.,  0.,  0.,  1.,  0.],\n",
       "        [ 0.,  0.,  1.,  0.,  0.,  1.],\n",
       "        [ 1.,  0.,  0., -1., -0., -0.],\n",
       "        [ 0.,  1.,  0., -0., -1., -0.],\n",
       "        [ 0.,  0.,  1., -0., -0., -1.]])"
      ]
     },
     "execution_count": 342,
     "metadata": {},
     "output_type": "execute_result"
    }
   ],
   "source": [
    "VIAB.T"
   ]
  },
  {
   "cell_type": "code",
   "execution_count": null,
   "metadata": {
    "collapsed": true,
    "deletable": true,
    "editable": true
   },
   "outputs": [],
   "source": []
  },
  {
   "cell_type": "code",
   "execution_count": null,
   "metadata": {
    "collapsed": true,
    "deletable": true,
    "editable": true
   },
   "outputs": [],
   "source": []
  }
 ],
 "metadata": {
  "kernelspec": {
   "display_name": "Python 3",
   "language": "python",
   "name": "python3"
  },
  "language_info": {
   "codemirror_mode": {
    "name": "ipython",
    "version": 3
   },
   "file_extension": ".py",
   "mimetype": "text/x-python",
   "name": "python",
   "nbconvert_exporter": "python",
   "pygments_lexer": "ipython3",
   "version": "3.5.2"
  },
  "latex_envs": {
   "bibliofile": "biblio.bib",
   "cite_by": "apalike",
   "current_citInitial": 1,
   "eqLabelWithNumbers": true,
   "eqNumInitial": 0
  }
 },
 "nbformat": 4,
 "nbformat_minor": 0
}
